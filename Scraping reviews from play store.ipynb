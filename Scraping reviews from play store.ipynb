{
 "cells": [
  {
   "cell_type": "code",
   "execution_count": 2,
   "metadata": {},
   "outputs": [
    {
     "name": "stderr",
     "output_type": "stream",
     "text": [
      "ERROR: Could not find a version that satisfies the requirement google-play-scrapper (from versions: none)\n",
      "ERROR: No matching distribution found for google-play-scrapper\n"
     ]
    }
   ],
   "source": [
    "!pip install -qq google-play-scraper"
   ]
  },
  {
   "cell_type": "code",
   "execution_count": 3,
   "metadata": {},
   "outputs": [],
   "source": [
    "import json\n",
    "import pandas as pd\n",
    "from tqdm import tqdm\n",
    "import seaborn as sns\n",
    "import matplotlib.pyplot as plt\n",
    "from pygments import highlight\n",
    "from pygments.lexers import JsonLexer"
   ]
  },
  {
   "cell_type": "code",
   "execution_count": 4,
   "metadata": {},
   "outputs": [],
   "source": [
    "from pygments.formatters import TerminalFormatter\n"
   ]
  },
  {
   "cell_type": "code",
   "execution_count": 5,
   "metadata": {},
   "outputs": [],
   "source": [
    "from google_play_scraper import Sort, reviews, app"
   ]
  },
  {
   "cell_type": "code",
   "execution_count": 6,
   "metadata": {},
   "outputs": [],
   "source": [
    "%matplotlib inline"
   ]
  },
  {
   "cell_type": "code",
   "execution_count": 7,
   "metadata": {},
   "outputs": [],
   "source": [
    "%config InlineBackend.figure_format ='retina'"
   ]
  },
  {
   "cell_type": "code",
   "execution_count": 8,
   "metadata": {},
   "outputs": [],
   "source": [
    "sns.set(style='whitegrid', palette ='muted', font_scale=1.2)"
   ]
  },
  {
   "cell_type": "code",
   "execution_count": 33,
   "metadata": {},
   "outputs": [],
   "source": [
    "result1=app('ng.gov.cbn.speed.wallet.temp', lang='en')"
   ]
  },
  {
   "cell_type": "code",
   "execution_count": 35,
   "metadata": {},
   "outputs": [
    {
     "name": "stdout",
     "output_type": "stream",
     "text": [
      "{'title': 'eNaira Speed Wallet (Individual)', 'description': 'eNaira Speed Wallet is a fast and convenient way to conduct financial transactions.\\r\\nDownload and sign up to get started.\\r\\n\\r\\n\\r\\neNaira is safe!\\r\\nYour money is guaranteed and secured with the Central Bank of Nigeria\\r\\n\\r\\neNaira is smart and easy!\\r\\nRemote, online, or in-person transactions, paying and getting paid are as simple as a scan or a click', 'descriptionHTML': 'eNaira Speed Wallet is a fast and convenient way to conduct financial transactions.<br>Download and sign up to get started.<br><br><br>eNaira is safe!<br>Your money is guaranteed and secured with the Central Bank of Nigeria<br><br>eNaira is smart and easy!<br>Remote, online, or in-person transactions, paying and getting paid are as simple as a scan or a click', 'summary': 'The eNaira is a digital representation of the naira (Our National Currency).', 'summaryHTML': 'The eNaira is a digital representation of the naira (Our National Currency).', 'installs': '100,000+', 'minInstalls': 100000, 'score': 2.7692308, 'ratings': 5924, 'reviews': 211, 'histogram': [2823, 326, 279, 443, 2053], 'price': 0, 'free': True, 'currency': 'USD', 'sale': False, 'saleTime': None, 'originalPrice': None, 'saleText': None, 'offersIAP': False, 'inAppProductPrice': None, 'size': '24M', 'androidVersion': '5.0', 'androidVersionText': '5.0 and up', 'developer': 'Central Bank of Nigeria', 'developerId': 'Central+Bank+of+Nigeria', 'developerEmail': 'helpdesk@enaira.gov.ng', 'developerWebsite': 'https://enaira.gov.ng', 'developerAddress': None, 'privacyPolicy': 'https://enaira.gov.ng/about/terms-of-service', 'developerInternalID': '6496167742074045687', 'genre': 'Finance', 'genreId': 'FINANCE', 'icon': 'https://play-lh.googleusercontent.com/BRn9P8_tdPns0nkWW0QpPBGLSIRHjVnvK6AAtPb-Rvs6DtFDOkww4IOr4Pu2prCfnxPf', 'headerImage': 'https://play-lh.googleusercontent.com/okbWaYLi_2tD81ambOGQ8tYkkYK4NZbWmVNDx2Px_lhGSKKhUctxHFqVQHa8BW8-wpU', 'screenshots': ['https://play-lh.googleusercontent.com/1u9VRVDaLF5HxBUEL6vHxhdbYAP69ZBRLMxuhoOjiiaPVC5i6Xx7WEb1IXeSYjc30N4', 'https://play-lh.googleusercontent.com/9C1aoRFapMijUA_Xoionpc3Nx62ZGfzL2lMDMYMScZPBG0lmZG-67QjhpEC751PI1qw', 'https://play-lh.googleusercontent.com/5wI6M8kFGq6EBHp0epsrUm5mlGnj0Ypq-I7fcOn3QqRFaax6AQWvJ4rOr-qZd9aXjA', 'https://play-lh.googleusercontent.com/3UFgFk_DBQZgKnUxTTEOwKP4q96xof-sNwzG4RH_9l3DBo1uAEa_prsyEabhmiMdUJs', 'https://play-lh.googleusercontent.com/4RSibdFxZO9h5PA9WMMLvd2FQASl9iOWaw2CVeSJQ0Si21aK5RImYzv6jWnBGAlMcA', 'https://play-lh.googleusercontent.com/uroziVPf6qDBdeyVdl2L8X5Gpr4itL-uR127wktoBIuMKi37wE42_oX0LG8P6xav66U'], 'video': None, 'videoImage': None, 'contentRating': 'Everyone', 'contentRatingDescription': None, 'adSupported': None, 'containsAds': False, 'released': 'Oct 22, 2021', 'updated': 1635972105, 'version': '1.0.1', 'recentChanges': 'Friendly onboarding experience. You now have the opportunity to preview your personal information before you submit for wallet creation.', 'recentChangesHTML': 'Friendly onboarding experience. You now have the opportunity to preview your personal information before you submit for wallet creation.', 'comments': [\"I don't understand why people are just hating This app is perfectly okay as far as I am concern. I have loaded funds in mine directly from my GTBank app and I am waiting for when merchants will adopt it - especially filling stations and malls. I am sure it will replace or supplement POS in most enterprises. CBN needs to promote the merchants version to enable the proper use of this app by all.\", \"Was pretty easy setup for me. Entered email and phone number, got enrollment Token in my email. Entered Bank and Account and BVN, created a username and password. Got an email to Confirm my email and Viola I'm ready to fund my wallet. Did that successfully from my Bank login. Now waiting on details on how to use for foreign remittances\", 'Absolutely very easy to set up. Total time to set up and fund eNaira wallet from my bank after getting OTP and eNaira wallet activation link that was sent to the email address associated with my BVN was less than 5 minutes. NOTE: 1st email is the OTP for the eNaira Speed Wallet Enrollment. 2nd email is a confirmation email to click on the highlighted green link to Activate the Speed eNaira Wallet.', 'It was very easy to set up. I put in the necessary information they asked for, account no, bvn, date of birth and they approved my eNaira account. It did not take me 10 minutes to set up.', 'Its easy to use, but I think they should attract more users by giving out welcome bonus like 1k or 2k. Just like paypal and cashapp when you invite new users.', 'Really appreciated, this indicate that we Nigerian are progressing. And the problems is the wallet allow only receiving and paying and restricted to one bank only.My suggestion for you people is to improve the wallet to allow morethan one bank and also allow a user to buy recharge card, and other thing directly from there.', 'Hmmm uptill now since the day it was lauched i tried to register first time it was telling mee too many attempts with same bvn, and then they are now saying that account already exists, when i try to login with my details they tell me invalid username and password,when i try to reset password that is where i havent recieved any email uptill now.', \"Great app. I'm happy with how the app work 5 star 🌟🌟🌟🌟🌟 I successfully sign up my wallet with wema bank 🏦 and it's working properly. Transaction is much better than bank transfer. Well-done#CBN\", 'This app is a game changer that has the full potential of transforming the ecommerce industry if only they can add a webhook services so as to be integrated as a means of payment in websites/apps.', 'I registered the following it was launched and it was successful. I tried to login and it says invalid user name and password. After which i clicked on login help to reset my password. They said it has been sent to my registered email. I have not seen anything since that day till now. I have requested for the reset and even an email to the support yet no response. When i try to register, i get a response \"too many request on my bvn\" Please do something to help me out. Thank you', \"The problem is the Email stuff. If you could just provide a field for email instead of sending confirmation to email linked to bvn if any, most of the problems will be solved. What if there's no Email linked to the bvn or the person doesn't have access to the email linked anymore. You know how tedious going to the bank to change this stuff is. I had high hopes for this e-naira but the email stuff discouraged me from using the e-naira at all.\", \"I still can't get my account verified despite the new update being pushed, not a good start at all 😡, found out an activation email was sent to my inbox after over 24hrs while it's supposed to be immediat or at most 5 mins of clicking on the link and in the middle of the night when humans are sleeping.This is absurd,\", \"Very stupid app.. My email was compromised and I still have access to my BVN... Why must we used email that most of us has changed due to some reason? Why is it that we don't think ahead but backwards in this country? Why??? E no cost una anything to enable us use number use receiving banks alert to log in and its takes Una hours to verify account... Shame!!!\", \"I registered on the day the app was launched but it didn't give me any confirmation, try to log in is saying invalid login details, try to register again the app is saying BVN is already registered\", 'I have been trying to log in and each time it states my information is incorrect. I sent several messages to report this anomaly with no response. When I finally logged in, I saw that out of 200000.500 that I deposited, 200,000.05 had been withdrawn. By who? I have no idea.', \"I thought part of the aims of enaira is to make financial accessible to rural communities. unfortunately, I don't have the time to go to the bank for any email updates. I rather stick with my normal bank accounts, since you make registration harder than creating a new bank account.\", \"Registration was straight forward in the first day of lunch other than I still don't know why this app is created cause it leaves no sense when we can't trade cryptocurrency in it, it's just some all round banking app that moves liquid funds without charges other than this, my banking app is worth it, you don't create a high budget app like this without a customer service. The CBN should not tell us(citizens) that's they've archive anything cause this is just what I'd say is *********\", \"Very nice I haven't encounter any problem when registration to me the app it's fast and simple ... very good app\", \"Why are you guys taking ages to send OTP pins. Something I asked for days ago only arrives today and after being used, the app has refreshed when I haven't finished registration. Now I have to wait for ages for another OTP? You're starting on a wrong note CBN. Fix your app\", 'I set it up in a few minutes. I signed up and got my OTP and easily activated it. So easy to set up.', \"Trying to sign in. After putting in all my details, I have received 3 different messages 1. First name don't match. 2. We have a problem with bvn verification. 3. You do not have an email connected to your bvn. If not for our usual ineptitude, why do you need to use the email in my bvn when my phone number is attached to my bvn? Well, I was not expecting better anyways.\", 'I can\\'t log in even after setting up password and filling in the required details. I clicked on \"forget password\" and I am yet to get a reset email to that effect. It\\'s almost 2 hours and I\\'m still waiting on that email.', \"The developers of this app did not test run this app before making it usable for the members of the public. While trying to sign in, it keeps saying Email did not match. Meanwhile, there's no box made available where we can input our email address.\", \"Hi there, I signed up and got a confirmation of successful registration on the app but no confirmation email of success.. When I tried signing in, I couldn't with the email linked to my bank account. I tried resetting my password but got no email allowing for password reset. What am I not doing right?\", 'I input all the details correctly but there\\'s no spot for email so I click continue and it says \"email can\\'t be blank\". There\\'s no where for us to put our email address. Please fix this', \"Zero star for now I don't think that my email is working with bvn.. Registration is had to register please let make it easy to go.. Please try to add more easy way of signing up.. We always first of doing things.. We hope it will get better.. Hope it will not be like tstv project\", 'I think this App needs a bit of adjustment, it keeps asking me to contact customer care centre for too many attempts on my BVN of which no email or phone number to contact. Kindly do something about this before my hope is dashed on using this app.', 'Kindly make the apk version of the app available on enaira website so that those with little RAM size can sideload it. I have been trying to update the app but cannot because of memory size, if the apk version is available, it will sort that issue out else I will have to wait for anyone with updated version to send to me on Xender', 'I registered and it showed successful, expecting the activation email that never came after about 20hrs... Still waiting for the confirmation or activation email with the link to complete my registration.', 'This is a worst apps I try to register it and you are telling me incorrect account number after put everything on it. Now it saying too many attempt contact customer service. Where is the customer service contact? If u know things is not working why do you telling us to download and start using it?', 'Total disappointment, I couldn\\'t create an account. I received an error message saying \"we have encountered a problem with BVN validation service\". Fix it.', 'It was a smooth process. My activation email though went to my spam box. Well done CBN. Hope more features will be activated on the wallet, like buying recharge cards and paying for services.', \"Good afternoon, please the developers of this app should as a matter of Urgency fix this app properly... I signed up On this app yesterday , but up till now I haven't gotten my verification link that was sent to my email to verify my account... I wonder how safe this app would be, if we can get issues as minor as verification link..\", 'Felt so bad this morning trying to create an account here. I opened with a popular bank using my bvn, but having noticed the bank account is not tied to an email address in order to access the login section, I opted to creating another wallet account using another personal bank details. Now its telling me my bvn has been used severely, contact customer service. So I cant use my bvn to open wallets for different accounts domiciled in different different banks?', 'The app is ok! But can you guys add an optional description box to narrate each transaction.', \"Horrible. What a horrible app this is. I guess like many others, I couldn't get past the registration phase. Fix it\", \"Why most it be the same bank used to open bvn...can't someone use another bank to register it...? I try using my second bank account details because that the account i use regular it says wrong account number...i still cross checked it no error...but it still say same thing...\", \"I can't even sign up since on Saturday, it shows like something goes wrong with my BVN and my account number after I tried without BVN and account number and it shows the same result even doe there was no BVN and account number, you better fix it because its shameful.\", 'I registered with a bank. It is not accepting deposits from other banks except from the bank I registered with. Is it supposed to be like that? Errors from other banks are \"Wallet not found\" Invalid Enrollment details\" \"validation failed\" \"invalid username or password\" \"warning not_found\"', 'Successfully downloaded the app, registration went smoothly, was able to log in with no stress.... hoping transactions goes as smooth as the journey continues ... Kudos central bank👍'], 'editorsChoice': False, 'similarApps': ['ng.bytelabs.watu', 'com.chippercash', 'com.ubanquity.redd.uba', 'moneymie.bank.nigeria.remit.sendmoney', 'com.etisalat.ewallet'], 'moreByDeveloper': ['ng.gov.cbn.speed.merchant.temp'], 'appId': 'ng.gov.cbn.speed.wallet.temp', 'url': 'https://play.google.com/store/apps/details?id=ng.gov.cbn.speed.wallet.temp&hl=en&gl=us'}\n"
     ]
    }
   ],
   "source": [
    "print(result1)"
   ]
  },
  {
   "cell_type": "code",
   "execution_count": 19,
   "metadata": {},
   "outputs": [
    {
     "ename": "NameError",
     "evalue": "name 'json_str' is not defined",
     "output_type": "error",
     "traceback": [
      "\u001b[1;31m---------------------------------------------------------------------------\u001b[0m",
      "\u001b[1;31mNameError\u001b[0m                                 Traceback (most recent call last)",
      "\u001b[1;32m<ipython-input-19-b167131269dc>\u001b[0m in \u001b[0;36m<module>\u001b[1;34m\u001b[0m\n\u001b[0;32m      1\u001b[0m \u001b[1;32mdef\u001b[0m \u001b[0mprint_json\u001b[0m\u001b[1;33m(\u001b[0m\u001b[0mjson_object\u001b[0m\u001b[1;33m)\u001b[0m\u001b[1;33m:\u001b[0m\u001b[1;33m\u001b[0m\u001b[1;33m\u001b[0m\u001b[0m\n\u001b[0;32m      2\u001b[0m     \u001b[0mjson_str\u001b[0m \u001b[1;33m=\u001b[0m \u001b[0mjson\u001b[0m\u001b[1;33m.\u001b[0m\u001b[0mdumps\u001b[0m\u001b[1;33m(\u001b[0m\u001b[0mjson\u001b[0m\u001b[1;33m.\u001b[0m\u001b[0mobject\u001b[0m\u001b[1;33m,\u001b[0m \u001b[0mindent\u001b[0m \u001b[1;33m=\u001b[0m\u001b[1;36m2\u001b[0m\u001b[1;33m,\u001b[0m \u001b[0msort_keys\u001b[0m\u001b[1;33m=\u001b[0m\u001b[1;32mTrue\u001b[0m\u001b[1;33m,\u001b[0m \u001b[0mdefault\u001b[0m\u001b[1;33m=\u001b[0m\u001b[0mstr\u001b[0m\u001b[1;33m)\u001b[0m\u001b[1;33m\u001b[0m\u001b[1;33m\u001b[0m\u001b[0m\n\u001b[1;32m----> 3\u001b[1;33m \u001b[0mprint\u001b[0m\u001b[1;33m(\u001b[0m\u001b[0mhighlight\u001b[0m\u001b[1;33m(\u001b[0m\u001b[0mjson_str\u001b[0m\u001b[1;33m,\u001b[0m \u001b[0mJsonLexer\u001b[0m\u001b[1;33m(\u001b[0m\u001b[1;33m)\u001b[0m\u001b[1;33m,\u001b[0m \u001b[0mTerminalFormatter\u001b[0m\u001b[1;33m(\u001b[0m\u001b[1;33m)\u001b[0m\u001b[1;33m)\u001b[0m\u001b[1;33m)\u001b[0m\u001b[1;33m\u001b[0m\u001b[1;33m\u001b[0m\u001b[0m\n\u001b[0m\u001b[0;32m      4\u001b[0m \u001b[1;33m\u001b[0m\u001b[0m\n",
      "\u001b[1;31mNameError\u001b[0m: name 'json_str' is not defined"
     ]
    }
   ],
   "source": [
    "def print_json(json_object):\n",
    "    json_str = json.dumps(json.object, indent =2, sort_keys=True, default=str)\n",
    "print(highlight(json_str, JsonLexer(), TerminalFormatter()))\n",
    "    "
   ]
  },
  {
   "cell_type": "code",
   "execution_count": 26,
   "metadata": {},
   "outputs": [],
   "source": [
    "result,continuation_token =reviews('ng.gov.cbn.speed.wallet.temp', lang ='en', filter_score_with=5)"
   ]
  },
  {
   "cell_type": "code",
   "execution_count": 27,
   "metadata": {},
   "outputs": [
    {
     "name": "stdout",
     "output_type": "stream",
     "text": [
      "[{'reviewId': 'gp:AOqpTOH-rzIEwfzlVSzFdMnI4zN9KlG7DlWEvQupsP5fBNBSpd0-woOYz0N4ij_nhHudkFNeg7Z0G1rcbM7GFCo', 'userName': 'Luka yohanna', 'userImage': 'https://play-lh.googleusercontent.com/a-/AOh14GhUGoaQ7vS9ZJatSmL3pUJHzzHjGFHUf5Yoa2K_', 'content': 'Good', 'score': 5, 'thumbsUpCount': 0, 'reviewCreatedVersion': '1.0.1', 'at': datetime.datetime(2022, 2, 3, 17, 9, 45), 'replyContent': None, 'repliedAt': None}, {'reviewId': 'gp:AOqpTOEZs9h_e3uSyiOJtO_BohLjBrZtX7TjTby1NVdOeIoU20IxnndnTFaiV7oLE_9jrC7bIGhQFd2TxtikUNw', 'userName': 'Idris Tijjani', 'userImage': 'https://play-lh.googleusercontent.com/a/AATXAJyHzGzjiE9AMxBst62nl5QnYGoJYrCqTn_Hu8fD=mo', 'content': 'Great, made transactions easier and transparent. Call on public to get it and use it. They will surely have an awesome experience.', 'score': 5, 'thumbsUpCount': 0, 'reviewCreatedVersion': '1.0.1', 'at': datetime.datetime(2022, 2, 2, 12, 5, 47), 'replyContent': None, 'repliedAt': None}, {'reviewId': 'gp:AOqpTOEXriOomHjzzFgdboW6_qeHQZ15j_LrQeo4TTq_s6KmrNIElvD3__5pvrUru3Nb3xQ1FG9QL275jpfxxIE', 'userName': 'Abubakar Danda', 'userImage': 'https://play-lh.googleusercontent.com/a/AATXAJzu99eNPQeS_czDAQZ8dTi6SNmrdci2EcbE-qR8=mo', 'content': 'Please how it works', 'score': 5, 'thumbsUpCount': 0, 'reviewCreatedVersion': '1.0.1', 'at': datetime.datetime(2022, 2, 2, 0, 42, 21), 'replyContent': None, 'repliedAt': None}, {'reviewId': 'gp:AOqpTOF_EL0fstlZnP1XsaBfjkZCFRF_N_eT2UHg3vvvyxnB1XdtomqVyBc9esdCznsUwggsC8ETcx4G1cVWZvU', 'userName': 'BOSS OFFICE', 'userImage': 'https://play-lh.googleusercontent.com/a-/AOh14Gi6O9CwD5ZxDHjNSNjLXQpplhsd9do1cTlzdTu-KQ', 'content': 'Its easy to use, but I think they should attract more users by giving out welcome bonus like 1k or 2k. Just like paypal and cashapp when you invite new users.', 'score': 5, 'thumbsUpCount': 0, 'reviewCreatedVersion': '1.0.1', 'at': datetime.datetime(2022, 1, 31, 0, 10, 45), 'replyContent': 'Welcome onboard and thanks for the feedback.', 'repliedAt': datetime.datetime(2022, 1, 31, 14, 55, 20)}, {'reviewId': 'gp:AOqpTOFsAo4F4sTl-dAW4EKoJHG5yWVfLEleG3FUwTp4PccqH5J5kidfmnfbVfWLhhS8pIe7DmC0vc7Ejcz2N6w', 'userName': 'SANEEY Muhammad', 'userImage': 'https://play-lh.googleusercontent.com/a-/AOh14GjqKZnxmXyzJkF1diHO-voG5owtPqUpgUPCOPhg', 'content': '🤝', 'score': 5, 'thumbsUpCount': 0, 'reviewCreatedVersion': None, 'at': datetime.datetime(2022, 1, 29, 22, 2, 14), 'replyContent': 'Welcome onboard.', 'repliedAt': datetime.datetime(2022, 1, 31, 14, 57, 29)}, {'reviewId': 'gp:AOqpTOFxnFWx3Phrq5WzvYHUZDEwvnryUeerP6R2vP8JOPZu-4XBw8l-5B-zjeENFzV5VsLbdQz_zJeBqSSYNR8', 'userName': 'Goni Babagana', 'userImage': 'https://play-lh.googleusercontent.com/a-/AOh14GgioQUiLrhnMZPsBUabYoubuKmnHbZfXIAygrUu', 'content': 'Great time', 'score': 5, 'thumbsUpCount': 0, 'reviewCreatedVersion': None, 'at': datetime.datetime(2022, 1, 28, 11, 3, 34), 'replyContent': 'Thanks for the feedback.\\nEnjoy the experience.', 'repliedAt': datetime.datetime(2022, 1, 31, 14, 58, 1)}, {'reviewId': 'gp:AOqpTOHbFP3TVPnM20PySW-s2r4O4CE5fZK-965EcjLm7XJtqaIhdvl2EndoooSPcUxzuHaVCnLExUgwG4qmEq8', 'userName': 'usman isah', 'userImage': 'https://play-lh.googleusercontent.com/a-/AOh14GinbVUOxrihwkg6UMXW9ut0zE7l_Y2-FQzas2grtQ', 'content': 'Nice', 'score': 5, 'thumbsUpCount': 0, 'reviewCreatedVersion': '1.0.1', 'at': datetime.datetime(2022, 1, 27, 15, 2, 31), 'replyContent': 'Thank You', 'repliedAt': datetime.datetime(2022, 1, 31, 15, 4, 10)}, {'reviewId': 'gp:AOqpTOERecB-SOmvrCq-8k3VZ6TniOss3KITRGvTwN28YAAbvbGMIEMHtWergx_1xMZF1lsBo7gDWyNJoN3VbKc', 'userName': 'YUSIF ADAMU MUSA', 'userImage': 'https://play-lh.googleusercontent.com/a/AATXAJz7O8oyhb4hxQaTLyOGUQRHkMkBxs7ESo7PxRvN=mo', 'content': 'I am with Okay with it', 'score': 5, 'thumbsUpCount': 0, 'reviewCreatedVersion': None, 'at': datetime.datetime(2022, 1, 27, 6, 45, 56), 'replyContent': 'Hi, thank you very much for your feedback.', 'repliedAt': datetime.datetime(2022, 1, 31, 15, 9, 30)}, {'reviewId': 'gp:AOqpTOGgVgHOukAkln2sn25iSMTUSzesj8xrvHyxm14rheInCAcv--ZJYRqbTvNCHJxCp2O8v0kOfmNaLc-e7CM', 'userName': 'ROJ RADIO NETWORK', 'userImage': 'https://play-lh.googleusercontent.com/a-/AOh14GihnzHlHFf_hyNndXtIDP_TyzARH3g_MAZGD84e', 'content': \"It's possible to used this to received money from another country?\", 'score': 5, 'thumbsUpCount': 0, 'reviewCreatedVersion': None, 'at': datetime.datetime(2022, 1, 25, 14, 9, 48), 'replyContent': 'Thanks for your feedback.\\nWe are working on such a feature and many more to enhance user experience.', 'repliedAt': datetime.datetime(2022, 1, 31, 15, 13, 37)}, {'reviewId': 'gp:AOqpTOGTTIJc4Q55esmjcmWkrIAGXe3Zht_i4mLgH_9nVQQSGT2ZtNQE-X4BuBZFWguQRK1TQiw9vQvBvd5Po24', 'userName': 'OLUKAYODE Odeniran', 'userImage': 'https://play-lh.googleusercontent.com/a/AATXAJxWb51IyOBM7HAoFNqrwG4rb3bAWigQrTyvUZFy=mo', 'content': 'This is a laudable innovation but the response time of the eNaira speed wallet is not fast enough.', 'score': 5, 'thumbsUpCount': 0, 'reviewCreatedVersion': None, 'at': datetime.datetime(2022, 1, 24, 16, 22, 44), 'replyContent': 'Thanks for your feedback.\\nWe are constantly working to improve the app features', 'repliedAt': datetime.datetime(2022, 1, 31, 15, 14, 19)}, {'reviewId': 'gp:AOqpTOEtUAGUPy6a4HoYSkEN78YSVSiBMCKXUe_1J73D6RitBC79WTiZJExDpP5iSbyuXcvkV_TNJORoWHwbwZI', 'userName': 'Ibrahim Hamisu', 'userImage': 'https://play-lh.googleusercontent.com/a-/AOh14GiP4QjQO_obIxrG5CcxAATXw0GoOuZait2hcy-ekQ', 'content': 'Now it works normal thank you.', 'score': 5, 'thumbsUpCount': 0, 'reviewCreatedVersion': '1.0.1', 'at': datetime.datetime(2022, 1, 20, 13, 44, 18), 'replyContent': 'Hi Ibrahim,\\nPlease use the reset password option.\\nFor further assistance, please reach out to us via phone on 0800myenaira or via mail at helpdesk@enaira.gov.ng.\\nThank You', 'repliedAt': datetime.datetime(2021, 12, 18, 12, 26, 29)}, {'reviewId': 'gp:AOqpTOESlvMmivg_cFy69qyPtoYbKlPZ54bCNZlFQELq5DXpeHQ46PeNw9zY1LQZa79gUXCnrYHKKPIGxUwedRw', 'userName': 'Sani Inuwa', 'userImage': 'https://play-lh.googleusercontent.com/a/AATXAJw3cXCDcOXkr9Ge156P-56D-igHtXU226oLuR3-=mo', 'content': 'This is a very good and friendly app', 'score': 5, 'thumbsUpCount': 0, 'reviewCreatedVersion': '1.0.1', 'at': datetime.datetime(2022, 1, 19, 12, 14, 39), 'replyContent': 'Hi, thank you very much for your feedback.', 'repliedAt': datetime.datetime(2022, 1, 21, 7, 9, 39)}, {'reviewId': 'gp:AOqpTOFFJShtqaw5snImT-4SqwYDB4abJxjoVGbuIxtJ4jOUNHONripNXPYFwqL6IfDkufrMJKbGAXFEAEU-mC8', 'userName': 'Safiyya Alhassan', 'userImage': 'https://play-lh.googleusercontent.com/a/AATXAJxlvlXVqazHL8nEjvhXo7M7fkhDn9H0ZxAKSxMF=mo', 'content': 'Exceptional', 'score': 5, 'thumbsUpCount': 0, 'reviewCreatedVersion': '1.0.1', 'at': datetime.datetime(2022, 1, 19, 10, 35, 8), 'replyContent': 'Thank You.', 'repliedAt': datetime.datetime(2022, 1, 21, 7, 9, 59)}, {'reviewId': 'gp:AOqpTOGAAYBNjsxNmzNHyQmxW0d83T3En9kQEzadJWw9tKHRNERqrD_k9-jhVsYkU8UlGIC5zPtJupIExnlAzD4', 'userName': 'Samuel william bart', 'userImage': 'https://play-lh.googleusercontent.com/a-/AOh14GgHTCW6EpL_Va7_BM8PK77kaXlqFx23lU8XefOMXcY', 'content': 'Good', 'score': 5, 'thumbsUpCount': 0, 'reviewCreatedVersion': None, 'at': datetime.datetime(2022, 1, 18, 8, 55, 2), 'replyContent': 'Thank you and welcome onboard', 'repliedAt': datetime.datetime(2022, 1, 19, 8, 53, 59)}, {'reviewId': 'gp:AOqpTOH7CqPGPisBIqxH5oug7HWqeAHWsoCDp6XDuqcaV2QGhAVbNVyLxYyrQZYs6_Wk6YIO6kqo26PEpDQ602w', 'userName': 'Nuhu Kasim Sada nadabo', 'userImage': 'https://play-lh.googleusercontent.com/a-/AOh14GjWsVO67abQFPs-5WB8daheMK02e_SLwvMIEJPdQA', 'content': 'Digital Nigeria', 'score': 5, 'thumbsUpCount': 0, 'reviewCreatedVersion': '1.0.1', 'at': datetime.datetime(2022, 1, 12, 23, 19, 47), 'replyContent': 'Thank You and welcome onboard.', 'repliedAt': datetime.datetime(2022, 1, 13, 12, 30, 10)}, {'reviewId': 'gp:AOqpTOE54f0wFPmUPprDIHjUhOQTRTB2TdE6xudWtWwqpRXMxbCyV3vMIHjISDfUG3WH5BQ05JKX3Tts3BBDoCY', 'userName': 'Etido Edem', 'userImage': 'https://play-lh.googleusercontent.com/a-/AOh14GjY64_6Ay42kSST_NT5EGQyTT6AKj1z_JbNMMBd', 'content': 'can I create two enaira wallet with two banks ( e. g I bank with access and Globus Bank then I want to used naira on the two banks.... Is to possibly, if yes, how?)', 'score': 5, 'thumbsUpCount': 0, 'reviewCreatedVersion': '1.0.1', 'at': datetime.datetime(2022, 1, 12, 0, 16, 37), 'replyContent': 'Hello Edem, It means that you do not have an email address linked to your BVN profile.\\nBefore You Begin,\\nYou need a valid & Active email address linked to your BVN profile.\\nYou also need your correct personal information such as: first name and surname, State of Origin and DoB associated with your BVN details.', 'repliedAt': datetime.datetime(2021, 10, 25, 12, 56, 37)}, {'reviewId': 'gp:AOqpTOFIsiArje8fV-C6_OOFR8FQIsp56KG_LOJaGexhqay6SJmsmOWWja1z6THNVviqMfdhf-SG53XA730GIdo', 'userName': 'Omikunle Damilare', 'userImage': 'https://play-lh.googleusercontent.com/a-/AOh14GidUlB3f9uEDBxI9EvHG9ahdqC6A4uclEgW42ft', 'content': 'This is a very great app', 'score': 5, 'thumbsUpCount': 0, 'reviewCreatedVersion': '1.0.1', 'at': datetime.datetime(2022, 1, 11, 13, 58, 6), 'replyContent': 'Welcome onboard.', 'repliedAt': datetime.datetime(2022, 1, 12, 8, 15, 24)}, {'reviewId': 'gp:AOqpTOHrsizCgRqKJcPSuf13VsYIZtZwIP1OL1Bsfd9FBmZ3-aJafiMG_JKIzJ3MNUTVCv_tdG_-A-bY2GVcLBY', 'userName': 'Perpetual Ifeoma', 'userImage': 'https://play-lh.googleusercontent.com/a/AATXAJxHZBpkkKdN0Y8uE-Vj22tSGqhgYKalqqNZ52NO=mo', 'content': 'Excellent', 'score': 5, 'thumbsUpCount': 0, 'reviewCreatedVersion': '1.0.1', 'at': datetime.datetime(2022, 1, 6, 12, 24, 40), 'replyContent': 'Welcome onboard', 'repliedAt': datetime.datetime(2022, 1, 7, 8, 31, 2)}, {'reviewId': 'gp:AOqpTOFmFtEGQN5BnSi-yHv42UKUqOJkxR7oZ63NgBjGKSw3TvL0AWjso2uAe41vb9G5JbW_IJI4hbV70CDE-bo', 'userName': 'Baba Mama', 'userImage': 'https://play-lh.googleusercontent.com/a/AATXAJymDjzKE9cpy-IPAOxH0SlsUer2NTZg-I7xDwq9=mo', 'content': 'How I wish I was the one that first download this app', 'score': 5, 'thumbsUpCount': 0, 'reviewCreatedVersion': '1.0.1', 'at': datetime.datetime(2022, 1, 4, 23, 36, 41), 'replyContent': 'Welcome onboard', 'repliedAt': datetime.datetime(2022, 1, 5, 9, 43, 8)}, {'reviewId': 'gp:AOqpTOHNgLpnTHvP59MA5hPOwVccQyBHLssUgx0wCc-AEUIEMsPgLUZ0IdrEmd6wkOthiHtu6BkQDVycNjh6XJg', 'userName': 'AUWAL ALIYU ABUBAKAR', 'userImage': 'https://play-lh.googleusercontent.com/a-/AOh14GivJVA5gzNEB9XCp3TyqtQCLS2VeJ40AF9f0kuyPA', 'content': 'Very good app', 'score': 5, 'thumbsUpCount': 0, 'reviewCreatedVersion': None, 'at': datetime.datetime(2022, 1, 4, 10, 34, 15), 'replyContent': 'Hi, thank you very much for your feedback.', 'repliedAt': datetime.datetime(2022, 1, 5, 9, 43, 44)}, {'reviewId': 'gp:AOqpTOH3pSx2SRU0WyTrl9fmZ440DF8wxNiSI7QL37AlYXcUO02s5RUnQ1i5lD6uQheW24QlC8nPrD3tvwkAWmw', 'userName': 'Kamaludeen Yahuza', 'userImage': 'https://play-lh.googleusercontent.com/a/AATXAJwkeOAeBkW4eZ9mC5mhJK6E9LlSelPfdt29U6N3=mo', 'content': 'Very nice and easy to operate.', 'score': 5, 'thumbsUpCount': 0, 'reviewCreatedVersion': '1.0.1', 'at': datetime.datetime(2022, 1, 3, 16, 35, 24), 'replyContent': 'Thanks.\\nWelcome onboard', 'repliedAt': datetime.datetime(2022, 1, 4, 8, 36, 38)}, {'reviewId': 'gp:AOqpTOGfc2iHYI9bQAJMsurG5eO83Gqe0KUSz7KJpkrax-5BGaKR6JzqexGet5tULPkFLRY_Wd6weQ4skLVDdow', 'userName': 'Moses Boko', 'userImage': 'https://play-lh.googleusercontent.com/a-/AOh14GiTT2wzt2O8wjty99Sj9Gje8gBle7iWQZl-XTmgyw', 'content': 'After many unsuccessful attempt today finally the registration was successful and I was able to make transfer into my eWallet. Congratulations Let the journey begin!', 'score': 5, 'thumbsUpCount': 9, 'reviewCreatedVersion': '1.0.1', 'at': datetime.datetime(2022, 1, 3, 16, 15, 7), 'replyContent': 'Welcome onboard', 'repliedAt': datetime.datetime(2022, 1, 4, 8, 37, 4)}, {'reviewId': 'gp:AOqpTOHeyQBfGuwsEiIP_dnmgSUwje1dkJb0LLFlhGHyuJ12B61StDeCWgoXUYKK_HLGeGM_6wYs8DwSZpy9jIw', 'userName': 'Abdullahi T Maina', 'userImage': 'https://play-lh.googleusercontent.com/a-/AOh14GhKPvDuFYnxB5qbGpbUP7A38lstLKG5CMI4GVJbkw', 'content': 'Fast and reliable. Kudos👍', 'score': 5, 'thumbsUpCount': 0, 'reviewCreatedVersion': '1.0.1', 'at': datetime.datetime(2022, 1, 3, 6, 11, 56), 'replyContent': 'Hi, thank you very much for your feedback.', 'repliedAt': datetime.datetime(2022, 1, 4, 8, 37, 19)}, {'reviewId': 'gp:AOqpTOFvp7h0LCTOjIoY5xeh0qBEMede6yKowzUID_cJ2a7P_hhSJlheIoIO1ZuGalCCGKGL3fQtolRo4sRkgbY', 'userName': 'Musa Nuhu', 'userImage': 'https://play-lh.googleusercontent.com/a/AATXAJzK9z3cOUfkQGguO5CWBIYEtdIAUlvoUazY47hk=mo', 'content': 'Good one', 'score': 5, 'thumbsUpCount': 0, 'reviewCreatedVersion': None, 'at': datetime.datetime(2022, 1, 2, 19, 51, 10), 'replyContent': 'Hi,\\nThanks for your feedback. We are continuously working on adding more features to our app to make your experience better.', 'repliedAt': datetime.datetime(2022, 1, 4, 8, 40, 18)}, {'reviewId': 'gp:AOqpTOFbV09S_gi-mZNyROg5wqaGVynZoK3oTLCDx9BSjHb_WEjaEhntrGvkhLX0WAVG8pHd53vas-9taUx94Sk', 'userName': 'Ebiere Olagunju', 'userImage': 'https://play-lh.googleusercontent.com/a/AATXAJyZSVtMP3bofrLd26twQ6b-lwx3fOlEdCaBGxe6=mo', 'content': 'Satisfied.', 'score': 5, 'thumbsUpCount': 0, 'reviewCreatedVersion': '1.0.1', 'at': datetime.datetime(2022, 1, 2, 14, 48, 58), 'replyContent': 'Hi, thank you very much for your feedback.', 'repliedAt': datetime.datetime(2022, 1, 4, 8, 40, 25)}, {'reviewId': 'gp:AOqpTOFPbnfxILh8bUhoxIEQKPyqBmHVwTJ19aDsIIJxGGONDlKAYwcvgHBJO40-CKJmzultV4Gh9iTRl74jJAI', 'userName': \"Rabi'atu Ahmad\", 'userImage': 'https://play-lh.googleusercontent.com/a/AATXAJy2y-XnjAHBTWop-d3ToMkBotzy5j2TVE1a9-1a=mo', 'content': 'Good sha Thumps up Nigeria👍👍', 'score': 5, 'thumbsUpCount': 0, 'reviewCreatedVersion': None, 'at': datetime.datetime(2022, 1, 2, 8, 38, 54), 'replyContent': 'Thank You', 'repliedAt': datetime.datetime(2022, 1, 4, 8, 40, 36)}, {'reviewId': 'gp:AOqpTOE_-uk4RM1heZQv0lGwNrkA6WX4ZUMzVCT1fJjs0z1jNqKumtLBJCICZdqAwY4_FeFPqTfl4Kwo1b2kfx8', 'userName': 'Kc Ganima2015', 'userImage': 'https://play-lh.googleusercontent.com/a/AATXAJxlSx7_54AoGPGWb4ukYOJR8l8in41oxnnsd6tU=mo', 'content': 'Very nice app', 'score': 5, 'thumbsUpCount': 1, 'reviewCreatedVersion': '1.0.1', 'at': datetime.datetime(2021, 12, 31, 21, 6, 14), 'replyContent': 'Hi, thank you very much for your feedback.', 'repliedAt': datetime.datetime(2022, 1, 4, 8, 41, 24)}, {'reviewId': 'gp:AOqpTOGrmAf_4M6rD31PyCaqDUqODoQKfvAFf-6v_YkyMFhncVm9vzMeIq3Zf6VjDADltdGaEDF59r3IUVZHBho', 'userName': 'Musa Umaru', 'userImage': 'https://play-lh.googleusercontent.com/a/AATXAJy0Hpm-67ESZHt4XNHG92VEiIg4wYdIYHOlThYK=mo', 'content': 'I am very happy as my country Nigeria are joining the rest of the world but I downloaded the App but no futures to even make use of it', 'score': 5, 'thumbsUpCount': 0, 'reviewCreatedVersion': '1.0.1', 'at': datetime.datetime(2021, 12, 31, 12, 59, 21), 'replyContent': None, 'repliedAt': None}, {'reviewId': 'gp:AOqpTOElysNeloxyl81mRy3LhMjS5Vuflxcd6L21IwTPqjqO8XMf2UOfDmRVR1HPpohuqKDcrJdBxXieG4e1gMQ', 'userName': 'Aminu Umsr', 'userImage': 'https://play-lh.googleusercontent.com/a/AATXAJzi01BwSNjzwWnocSqFL_GSF8wCG0L3S7g2-boc=mo', 'content': 'Aminu Umar', 'score': 5, 'thumbsUpCount': 0, 'reviewCreatedVersion': None, 'at': datetime.datetime(2021, 12, 29, 23, 37, 34), 'replyContent': 'Welcome onboard', 'repliedAt': datetime.datetime(2021, 12, 30, 8, 23, 40)}, {'reviewId': 'gp:AOqpTOGBPjt8cce3HwmE3hjIyZOlo74C4scK2BKaOTRc52nPAJvkw4MhDEtMR7F05pW9m4YH7GnNONOgxxHblTo', 'userName': 'martha kent', 'userImage': 'https://play-lh.googleusercontent.com/a-/AOh14GgKaclrgbbYnl6Hl1o4fDWllCYL6wCmSYgMoIokQQ', 'content': 'Safe', 'score': 5, 'thumbsUpCount': 0, 'reviewCreatedVersion': '1.0.1', 'at': datetime.datetime(2021, 12, 29, 21, 10, 58), 'replyContent': 'Hi, thank you very much for your feedback.', 'repliedAt': datetime.datetime(2021, 12, 30, 8, 23, 51)}, {'reviewId': 'gp:AOqpTOFPZKUYv73a1f7YMddWbGxhorvml0CvpkT7hEhAM7fjcCUl_4Z5GGl5K04bOpFx7KUsqry53Nxg71miHY0', 'userName': 'Damilola Olawale .N', 'userImage': 'https://play-lh.googleusercontent.com/a-/AOh14GiDRmxoORYDez60yqLMXoqYTXrEuO9Q-MtWTZ3ItA', 'content': \"It's very easy to register and verify your account now. Before I deleted the app. Now got an email of an improvement. Kudos to the team. It would go far , tho it's under monitoring sha\", 'score': 5, 'thumbsUpCount': 1, 'reviewCreatedVersion': '1.0.1', 'at': datetime.datetime(2021, 12, 28, 14, 21, 26), 'replyContent': 'Thanks for your feedback.\\nWelcome onboard', 'repliedAt': datetime.datetime(2021, 12, 29, 9, 12, 33)}, {'reviewId': 'gp:AOqpTOGB7EWniQokciREZiGlyUo2BGx74KKaLfmrpvm0hhhj02GwjJ_GlBiktvI7vdViCBnw0vOkqhWw9_jfWzE', 'userName': 'Steward Leon', 'userImage': 'https://play-lh.googleusercontent.com/a/AATXAJysWObjG7qrqO8BWryCHoYotSu7CwtEfOA0QpSn=mo', 'content': 'How can I buy?? Still finding it difficult', 'score': 5, 'thumbsUpCount': 0, 'reviewCreatedVersion': '1.0.1', 'at': datetime.datetime(2021, 12, 27, 23, 12, 16), 'replyContent': 'Hi Steward,\\nTo fund your eNaira Speed Wallet,\\nKindly log in to you bank internet/mobile app to transfer money to your wallet.\\nThank You', 'repliedAt': datetime.datetime(2021, 11, 19, 8, 50, 59)}, {'reviewId': 'gp:AOqpTOHcsURoXhzZduAxLu8XpXej4IG0fd4j5-78Jrt_T7hGh3kLhHOwgGp8wLGX20ZWDrd4WfR0KGRN18J71bs', 'userName': 'Bin Yusuf', 'userImage': 'https://play-lh.googleusercontent.com/a-/AOh14GjIrTHj-xveC_oweNvibILJ4JTRc9d-51KIpr7P4Q', 'content': 'I like it. Simple UI/UX', 'score': 5, 'thumbsUpCount': 0, 'reviewCreatedVersion': '1.0.1', 'at': datetime.datetime(2021, 12, 26, 21, 58, 38), 'replyContent': 'Thank You for the feedback.', 'repliedAt': datetime.datetime(2021, 12, 29, 9, 18, 25)}, {'reviewId': 'gp:AOqpTOEkBpFf_eqXBAtlb3wvflr3RFmm3Oyg2yJ0DNbEy0JrCRUcDKznbq7SrwoyE_qVsnDu83yW2cyuMLwfHUQ', 'userName': 'Sulaiman Ibrahim kayarda', 'userImage': 'https://play-lh.googleusercontent.com/a-/AOh14GgjMiXoFSGQJezUZU4JQCQVWXh_3w3uKelLyz-Qgg', 'content': 'Good app', 'score': 5, 'thumbsUpCount': 0, 'reviewCreatedVersion': None, 'at': datetime.datetime(2021, 12, 26, 20, 3, 33), 'replyContent': 'Hi, thank you very much for your feedback.', 'repliedAt': datetime.datetime(2021, 12, 29, 9, 18, 49)}, {'reviewId': 'gp:AOqpTOHdwjYGbLLz09kgJHsib0WqHMlNFupfVZIyEyrdOzxTlW4XVBw38FAo4ngcm0cK5prZioWUQstjRR1osYk', 'userName': 'Bolatito Akanji', 'userImage': 'https://play-lh.googleusercontent.com/a-/AOh14Gjoehz5plaRsTSTK3uCr6tEr3qTKGfmzKNZp2NIfw', 'content': \"This is really a good app, setting it up is quite easy if you follow the onscreen instructions. You need to remember your NIN, phone number and the email address linked to your BVN. This information makes it seamless. The CBN should introduce incentives to further encourage people to use it. I have some money sitting in my wallet for months, it doesn't grow or add interest, this is not encouraging to me. So something needs to be done and I hope they listen\", 'score': 5, 'thumbsUpCount': 37, 'reviewCreatedVersion': '1.0.1', 'at': datetime.datetime(2021, 12, 26, 18, 43, 15), 'replyContent': None, 'repliedAt': None}, {'reviewId': 'gp:AOqpTOErr5-7kMJgLKCCUFVWmmQI04xqZtLQJR4dky-esTMqMHZlgOrMiQBcMwYIJ00hG-yNdWVLPCtkn3la-KA', 'userName': 'ABDUL-WAHAB TUNDE TIAMIYU', 'userImage': 'https://play-lh.googleusercontent.com/a-/AOh14GiBKc97wNVR8ghiD5k_9tH1YDpTbrmsqyW-_O8g7Q', 'content': 'Smooth download and registration, anxiously waiting to use the App. God bless Nigeria', 'score': 5, 'thumbsUpCount': 0, 'reviewCreatedVersion': '1.0.1', 'at': datetime.datetime(2021, 12, 26, 16, 19, 7), 'replyContent': 'Welcome onboard', 'repliedAt': datetime.datetime(2021, 12, 29, 9, 19, 17)}, {'reviewId': 'gp:AOqpTOHB3fZX17L-SD3SC1uus_ICI7aNUMTvN_wveDjwXnnlpu6WfnvFMBe7tHmS9byjeOYtB50LwlOz71Gg8p8', 'userName': 'Yusuf Adam', 'userImage': 'https://play-lh.googleusercontent.com/a-/AOh14Ggrbs5_jkyO_Qi2bY4bHJCsMva6jaRcN7Xv8bfQeA', 'content': 'Good', 'score': 5, 'thumbsUpCount': 0, 'reviewCreatedVersion': '1.0.1', 'at': datetime.datetime(2021, 12, 25, 16, 28, 10), 'replyContent': None, 'repliedAt': None}, {'reviewId': 'gp:AOqpTOHY26vZzFPQQCfJxXnHpMocM_MnmuDLElPvQp4B9B235GWEG_OnsmnVDAd6R8sJ1mXZjIuZrnrUj2EMDbA', 'userName': 'Abubakar Hamisu salisu', 'userImage': 'https://play-lh.googleusercontent.com/a/AATXAJyzArSWZ2n_b8HOtGRzAW1LHtGJcbXER844bj1f=mo', 'content': 'enaira is very important', 'score': 5, 'thumbsUpCount': 0, 'reviewCreatedVersion': '1.0.1', 'at': datetime.datetime(2021, 12, 25, 8, 23, 42), 'replyContent': None, 'repliedAt': None}, {'reviewId': 'gp:AOqpTOEdmJAJgIIehNBUeaa_CTgk51TPkBzRZw1hA6hJBoBDnJ_rFDOmpAn2XVWcs5SFsi-joOTbQH8sK5meVSQ', 'userName': 'Salmanu Mohammed', 'userImage': 'https://play-lh.googleusercontent.com/a-/AOh14GgTwnM7CnvUcxuv4f-_VOkGM0mFw2bXrc2nAo1q', 'content': 'Great experience indeed', 'score': 5, 'thumbsUpCount': 0, 'reviewCreatedVersion': '1.0.1', 'at': datetime.datetime(2021, 12, 24, 21, 24, 43), 'replyContent': None, 'repliedAt': None}, {'reviewId': 'gp:AOqpTOHq9iMW50Qa81sk7oEqRHr162bWs80_Wl5LmshUwWf9y0ZNC7bg-24dcRiiUNGZESXMhI6xgiHW17rHJoQ', 'userName': 'Omolu Michael', 'userImage': 'https://play-lh.googleusercontent.com/a/AATXAJxPT2t1ec9NCG-QS9bPmRuT6cgmbOPkF2CnXjst=mo', 'content': \"I actually refused to rate this app not until today when the CBN called and even mailed me to inform me that CBN have released another batch of BVN locked on the eNaira application portal. That l should Kindly initiate another registration. The good news was that when I initiated another registration on my speed wallet account, I received immediate activation and made transaction. The enaira is real (I'm a testifier). The enaira deserves 5 stars men. Give it a try!\", 'score': 5, 'thumbsUpCount': 0, 'reviewCreatedVersion': '1.0.1', 'at': datetime.datetime(2021, 12, 23, 21, 17, 37), 'replyContent': 'Thanks for the feedback.\\nWelcome onboard', 'repliedAt': datetime.datetime(2021, 12, 24, 8, 57, 40)}, {'reviewId': 'gp:AOqpTOGTWWNFuVLqX19tVZ_Z0hB-m-VDbYZkn4l7DxOSvT3UrZxCX_Db3siqbJexfMftGMYeYU1kLFQFkcyhM0k', 'userName': 'Christiana John Bawa', 'userImage': 'https://play-lh.googleusercontent.com/a/AATXAJwP7JjymGDIniIRxsyvMNvftoxw2cRSMvdQBkAZ=mo', 'content': 'Awesome', 'score': 5, 'thumbsUpCount': 0, 'reviewCreatedVersion': '1.0.1', 'at': datetime.datetime(2021, 12, 23, 13, 40, 38), 'replyContent': 'Thank You', 'repliedAt': datetime.datetime(2021, 12, 23, 14, 27, 21)}, {'reviewId': 'gp:AOqpTOEyrGqXmhAckxPywDvUUFW-GhZjKhHiknvJNTbijORRhAWG2fonnmK5UdC9uZMMJjYcDixGT4N77qcnXkM', 'userName': 'fred R', 'userImage': 'https://play-lh.googleusercontent.com/a/AATXAJx5tG8Q-fMjw4lFkj-MmHhr2CWAbPe_vYm7tj88=mo', 'content': 'The best and thank you CBN', 'score': 5, 'thumbsUpCount': 0, 'reviewCreatedVersion': '1.0.1', 'at': datetime.datetime(2021, 12, 23, 10, 36, 53), 'replyContent': 'Welcome onboard', 'repliedAt': datetime.datetime(2021, 12, 23, 14, 27, 39)}, {'reviewId': 'gp:AOqpTOFU-ixaovVTvFddl_cyGWZsuuR85IjpiWGOFlkDOpvA9-CBAM33Ax0tABNzCgUQU9s3telo1LhrobzF1Bs', 'userName': 'Musa Adam Garba', 'userImage': 'https://play-lh.googleusercontent.com/a/AATXAJzAfd9YUCRhX76aVKzbmp98FpPZjkIOaxBRn9HI=mo', 'content': '#HAUSA LANG Agaskiya nayaba da wannan application na enaira matuka iyaka na gode', 'score': 5, 'thumbsUpCount': 0, 'reviewCreatedVersion': None, 'at': datetime.datetime(2021, 12, 19, 8, 51, 59), 'replyContent': 'Thanks for the positive feedback.\\nEnjoy the eNaira experience.', 'repliedAt': datetime.datetime(2021, 12, 20, 8, 30, 14)}, {'reviewId': 'gp:AOqpTOGQkY9qA6oolCZeNg2xI8Otg5oMWzrpuHVDAcQ5tRUqVi_EexqIyrkloeioG7qOFj6NO4XqMNx3g-NZx9o', 'userName': 'BIN ABDULLAH TARIWA TV', 'userImage': 'https://play-lh.googleusercontent.com/a-/AOh14GiKP6rmpY9PkUOMvVk4UNCdzcjud7nXS2t1S2Ppdw', 'content': 'Is good', 'score': 5, 'thumbsUpCount': 0, 'reviewCreatedVersion': None, 'at': datetime.datetime(2021, 12, 19, 6, 11, 46), 'replyContent': 'Hi, thank you very much for your feedback.', 'repliedAt': datetime.datetime(2021, 12, 20, 8, 30, 23)}, {'reviewId': 'gp:AOqpTOGNK-lDvg7N8BjqcIKGZP8WbxcO99Y1aQd65NlCE2H250SnTO8Gu8ceYYQQemTxpa650W5EJAgFXu1n8CM', 'userName': 'Tijani Usman', 'userImage': 'https://play-lh.googleusercontent.com/a/AATXAJwAYSIbIxG-8qBuzrJSY8JaUBNpY1iP5blc9H_R=mo', 'content': 'I set it up in a few minutes. I signed up and got my OTP and easily activated it. So easy to set up.', 'score': 5, 'thumbsUpCount': 0, 'reviewCreatedVersion': '1.0.1', 'at': datetime.datetime(2021, 12, 18, 20, 59, 47), 'replyContent': 'We are pleased that you enjoyed the app.\\nIf there is anything we can do to improve the app, just let us know at helpdesk@enaira.gov.ng!\\nHave a wonderful day!', 'repliedAt': datetime.datetime(2021, 12, 20, 8, 31, 4)}, {'reviewId': 'gp:AOqpTOH6b09Le_JHnr9PNB_CRVYytMcvUSCFzAvonyksz1w__lypwxTANHiqCxGPh_fYsufw_hr3TmMTk2z-7FA', 'userName': 'Mohammed Musa', 'userImage': 'https://play-lh.googleusercontent.com/a/AATXAJyE5xwmqulEfR5jF1pbSgO9i3G_Pd4Zqe8rk36j=mo', 'content': \"Wow that's nice\", 'score': 5, 'thumbsUpCount': 0, 'reviewCreatedVersion': '1.0.1', 'at': datetime.datetime(2021, 12, 18, 8, 35, 19), 'replyContent': 'Thanks for your feedback.\\nEnjoy the experience.', 'repliedAt': datetime.datetime(2021, 12, 18, 12, 19, 54)}, {'reviewId': 'gp:AOqpTOG1BxyG4OfvpmLAHW5K7TMwVsyC0USG0FYJBdBtlBn3nYDS5VSlqTd7jjNcgLEMJe9s9aVTEMuY_Bj3JVs', 'userName': 'ABBAS YAHAYA YUNUSA', 'userImage': 'https://play-lh.googleusercontent.com/a-/AOh14GiblRvJhoTpi0drc_uc1LflkUylgDDjnqYMjd9UuQ', 'content': 'This is an outstanding application', 'score': 5, 'thumbsUpCount': 0, 'reviewCreatedVersion': '1.0.1', 'at': datetime.datetime(2021, 12, 17, 10, 48, 14), 'replyContent': 'Thank you for your encouraging words.', 'repliedAt': datetime.datetime(2021, 12, 18, 12, 21, 4)}, {'reviewId': 'gp:AOqpTOHqJv098UBo5ZJLN0mrA0zXP1Y5jdorWstgFU0sAYVETT-xFiqmTHRi1uPiM9JkaQhKsXRmL1EX8KLvbG0', 'userName': 'chukwu clinton', 'userImage': 'https://play-lh.googleusercontent.com/a/AATXAJwl68lPRw_sY4HIb8FqG9qaPFe5xT-hPmS4qRAk=mo', 'content': 'Good app', 'score': 5, 'thumbsUpCount': 0, 'reviewCreatedVersion': '1.0.1', 'at': datetime.datetime(2021, 12, 17, 9, 57, 41), 'replyContent': 'Thanks', 'repliedAt': datetime.datetime(2021, 12, 18, 12, 21, 15)}, {'reviewId': 'gp:AOqpTOE2Ou11W0P99glOvj3RSuuCKp5m8VNm8UpBZNYteTvIgoN4GrFYI50cDD0qy9b1LyCU5geLCfpWLE12X80', 'userName': 'Aliyu ibrahim baiz Baiz', 'userImage': 'https://play-lh.googleusercontent.com/a-/AOh14Gg_Mj8bT1i_v_OkCo6Xm62E9MB2LJAJQhZtOY_r', 'content': 'Nice one', 'score': 5, 'thumbsUpCount': 0, 'reviewCreatedVersion': '1.0.1', 'at': datetime.datetime(2021, 12, 16, 16, 23, 13), 'replyContent': 'Thank You', 'repliedAt': datetime.datetime(2021, 12, 18, 12, 24, 23)}, {'reviewId': 'gp:AOqpTOH5NqFMmAUYCodPjJ9LYBsV18SGNDp1IpQAvYc9uB-LqiTcVrKwU0bHPRsrwVrp8-uWRskGZAo2g_VuzrU', 'userName': 'Ado Dakata Muhammad', 'userImage': 'https://play-lh.googleusercontent.com/a-/AOh14GhEwRgFa1sVshU_6bRxByenqxw6gpjIdmA8zXvIMQ', 'content': 'A very good app', 'score': 5, 'thumbsUpCount': 0, 'reviewCreatedVersion': None, 'at': datetime.datetime(2021, 12, 16, 0, 35, 35), 'replyContent': 'Thanks for your feedback', 'repliedAt': datetime.datetime(2021, 12, 16, 11, 52, 59)}, {'reviewId': 'gp:AOqpTOFxwefHabop1vGMmWfxKkB4Ph0mM7oWabv3Gd7yybK_2Vkf9VCtFYAIypEabfOYDOgn5axO3lxk_2zdyXo', 'userName': 'Simon Ezechukwu Elias', 'userImage': 'https://play-lh.googleusercontent.com/a-/AOh14Gj8O9wiQXy50UkXiFt6fDEMi9-i0QYviQ2DO7gacw', 'content': 'Transaction is super fast almost instantly as u tap pay or scan the QR CODE Please make the app more usable., Swapping naira to other countries digital currency too and every other digital currency like the AKL LUMI CURRENCY', 'score': 5, 'thumbsUpCount': 1, 'reviewCreatedVersion': '1.0.1', 'at': datetime.datetime(2021, 12, 15, 10, 29, 14), 'replyContent': 'Thank you for your feedback. We are working on such a feature.', 'repliedAt': datetime.datetime(2021, 12, 16, 11, 53, 36)}, {'reviewId': 'gp:AOqpTOEdMBIjQge09JuG0d09OQYmvdrTWrhPbSzolVnWvZTMJCL7_IO1qeY6ffMtYZ7iV4IKPtr6ykigW3Mm1eo', 'userName': 'M januzie Mewaka', 'userImage': 'https://play-lh.googleusercontent.com/a-/AOh14Gh8uT59sT2lBQBJax9gtiRr1k4g_zfGDA0ICtaicA', 'content': 'Up up Nigeria', 'score': 5, 'thumbsUpCount': 0, 'reviewCreatedVersion': '1.0.1', 'at': datetime.datetime(2021, 12, 14, 23, 53, 39), 'replyContent': 'Thanks and welcome onboard', 'repliedAt': datetime.datetime(2021, 12, 14, 10, 19, 23)}, {'reviewId': 'gp:AOqpTOEe-QSlEKOrVTYKivBd1aORRNzKaZS_fYl71ROq8IlhuHvpR0mTkG8WCsvAvvIo-w8GHFPdrGWN0fIQDig', 'userName': 'Adedoyin Falade', 'userImage': 'https://play-lh.googleusercontent.com/a/AATXAJxmxEMf2_sfjtGcfuIOm6zIXwezJE8MJ8L_URP7=mo', 'content': 'Thanks for this', 'score': 5, 'thumbsUpCount': 0, 'reviewCreatedVersion': '1.0.1', 'at': datetime.datetime(2021, 12, 14, 11, 6, 22), 'replyContent': 'Thank You', 'repliedAt': datetime.datetime(2021, 12, 14, 10, 24, 58)}, {'reviewId': 'gp:AOqpTOGJ8HyJmnHdvrDDJ5d3J3goFEPjibNNzepWrOBAd1shl_46ouUMQihbU_xKgixdlH-DC6_98fm-TOcFK7M', 'userName': 'Kingsley Chukwuchekwa', 'userImage': 'https://play-lh.googleusercontent.com/a-/AOh14GiNxiHf9YXfOid1f6SIu_aEQc0xvj4SI1W6MmgvLWk', 'content': 'Optimistic', 'score': 5, 'thumbsUpCount': 0, 'reviewCreatedVersion': '1.0.1', 'at': datetime.datetime(2021, 12, 14, 10, 29, 41), 'replyContent': None, 'repliedAt': None}, {'reviewId': 'gp:AOqpTOHBV_9vw603B8VyKtBLP9B24Z3tHUuqrS6lpEEPqj8cJscVW1wEFd4XK3Kzw9PiycAfxiYPKbj0vI3pEEE', 'userName': 'Ojo Seyi', 'userImage': 'https://play-lh.googleusercontent.com/a/AATXAJwcJlPDv-Hqrd0g7VjBkvEawTh9IdE_fCwOjlKq=mo', 'content': 'Hello enaira can I transfer funds to someone in Ghana through enaira', 'score': 5, 'thumbsUpCount': 0, 'reviewCreatedVersion': '1.0.1', 'at': datetime.datetime(2021, 12, 13, 14, 25, 14), 'replyContent': 'Yes provided the beneficiary also has an enaira speed wallet app.', 'repliedAt': datetime.datetime(2021, 12, 14, 10, 11, 4)}, {'reviewId': 'gp:AOqpTOGCtydb5Pe9oAf4bNlja6PwXSpl_lTe1Jn6cGuUmIA-y6bcBiAWWDO8qBtyh8G4wm_7V7ah6Cq6I2yBpI8', 'userName': 'Owoeye Immanuel', 'userImage': 'https://play-lh.googleusercontent.com/a-/AOh14GjQdzvTKEGe_9ebuI3l_7Ck8Qr6-yrzI_-ve3zQBQ', 'content': 'Good', 'score': 5, 'thumbsUpCount': 0, 'reviewCreatedVersion': '1.0.1', 'at': datetime.datetime(2021, 12, 13, 12, 50, 57), 'replyContent': 'Thank You and welcome onboard', 'repliedAt': datetime.datetime(2021, 12, 14, 10, 11, 30)}, {'reviewId': 'gp:AOqpTOHrv1iNtcUQh015iw8AbKmx6lkIZ1IrpSwO0gFy7qBMZ-sGj--CxMjFfSa2O-fszTh1pisncQwSIfKlLRc', 'userName': 'Ezekiel Patience', 'userImage': 'https://play-lh.googleusercontent.com/a/AATXAJx2fnBMiGjURArJKPFuZL-2nOsih1DY4WNd6Bnv=mo', 'content': 'Awesome app', 'score': 5, 'thumbsUpCount': 0, 'reviewCreatedVersion': '1.0.1', 'at': datetime.datetime(2021, 12, 13, 11, 6, 29), 'replyContent': 'Thanks and welcome onboard', 'repliedAt': datetime.datetime(2021, 12, 14, 10, 12, 35)}, {'reviewId': 'gp:AOqpTOEs7RehdfzxjVRnagobmgIM84mIaHww_cVyJvPF9NpQkY-snNyC2YGhwhqU7W4zfRfOqaWyf4VBrN8UdmI', 'userName': 'elaigwu samson', 'userImage': 'https://play-lh.googleusercontent.com/a/AATXAJyLKaph34IRUi95sHImnGoqi6ivj5lzZOGzhgWS=mo', 'content': 'Awesome', 'score': 5, 'thumbsUpCount': 0, 'reviewCreatedVersion': '1.0.1', 'at': datetime.datetime(2021, 12, 13, 11, 1, 57), 'replyContent': 'It is delightful to hear such positive words and it’s always a pleasure to serve our users.', 'repliedAt': datetime.datetime(2021, 12, 14, 10, 12, 43)}, {'reviewId': 'gp:AOqpTOEHAfpHZbSnC2QmmHldk18-st12d7Qfd4z-Vm8rtuGgNL_2hGxUgCAB7PETA6b_jDfddfJ4N2Higs15hJY', 'userName': 'akpa john', 'userImage': 'https://play-lh.googleusercontent.com/a-/AOh14GgknuJPrR0ZLNumVYd9jA-pUgXQOF5ElOsW7GFecw', 'content': 'A nice app', 'score': 5, 'thumbsUpCount': 0, 'reviewCreatedVersion': '1.0.1', 'at': datetime.datetime(2021, 12, 13, 10, 50, 3), 'replyContent': 'Thanks and welcome onboard', 'repliedAt': datetime.datetime(2021, 12, 14, 10, 12, 56)}, {'reviewId': 'gp:AOqpTOHe7Oe8yrpalbdIyKbKZJVzN5steZWP4VeLume2rzvwdFl6QBHlMG0jCx5fIcf0P540dG3FNjbOuF84Ru4', 'userName': 'Joy Ketara', 'userImage': 'https://play-lh.googleusercontent.com/a/AATXAJwKaAKYIA-2ufNUpFMrFQQ4YqZ8bPyV1KLwMDLb=mo', 'content': 'Accurate', 'score': 5, 'thumbsUpCount': 0, 'reviewCreatedVersion': '1.0.1', 'at': datetime.datetime(2021, 12, 13, 10, 49, 37), 'replyContent': 'Thanks and welcome onboard', 'repliedAt': datetime.datetime(2021, 12, 14, 10, 13, 2)}, {'reviewId': 'gp:AOqpTOHxkVl5lX9J6yn56zGgXPIXZLT6wsVVrjGZtr_SuNo16Q702MhEJngv8g7_0BdnCyoXwvq4H7P94G9MMlo', 'userName': 'Opeyemi Adeyeye', 'userImage': 'https://play-lh.googleusercontent.com/a/AATXAJy2mQSl7IS9JJIKhFNibWAJNWkMlPxD2UmTYk46=mo', 'content': 'Nice one', 'score': 5, 'thumbsUpCount': 0, 'reviewCreatedVersion': None, 'at': datetime.datetime(2021, 12, 13, 10, 46, 52), 'replyContent': 'Hi, thank you very much for your feedback.', 'repliedAt': datetime.datetime(2021, 12, 14, 10, 13, 14)}, {'reviewId': 'gp:AOqpTOFD7HCzfrUgDFUeAFy8niVYVCbCey_vZIGeW1twg_dn3CD83hYyZkcodc24lHsp0moD6FpeXY1j4XH0Lg4', 'userName': 'Osiyen Eseosa', 'userImage': 'https://play-lh.googleusercontent.com/a/AATXAJy-iOYreoq7EtI-UfqPktM6CknxLfjyZ-co73aB=mo', 'content': 'Great', 'score': 5, 'thumbsUpCount': 0, 'reviewCreatedVersion': None, 'at': datetime.datetime(2021, 12, 13, 10, 44, 40), 'replyContent': 'Thanks and welcome onboard', 'repliedAt': datetime.datetime(2021, 12, 14, 10, 13, 20)}, {'reviewId': 'gp:AOqpTOGMCfN4X7_sAqae8wRR5gAyXJt7Zyh97bIzP7Ov2bTOiwZ5rhIkKuqSbpIHWIMWawLMyyExlX55ndfBRHI', 'userName': 'Abdulrahaman Shariff', 'userImage': 'https://play-lh.googleusercontent.com/a-/AOh14GjR1xAyF_ta8-YzErY6E6o2k7-5Q69AfXb2kBnB', 'content': \"For sharing valuable economy structure's.\", 'score': 5, 'thumbsUpCount': 0, 'reviewCreatedVersion': None, 'at': datetime.datetime(2021, 12, 12, 8, 37, 46), 'replyContent': 'Thanks Sir', 'repliedAt': datetime.datetime(2021, 12, 14, 10, 16, 35)}, {'reviewId': 'gp:AOqpTOF-4O-MmKF-YI1AAQHDA431WvqOoTGQJ_q8cso7epVqPO7VS1tS3jy84WHFgB0iRK3VJ7dfXnR5b57phO0', 'userName': 'Victor Victor', 'userImage': 'https://play-lh.googleusercontent.com/a-/AOh14Gh35WVZ7CXDANCojV3hKd2Beb2Ep6pOtQ9mRJke4A', 'content': '👍🏽', 'score': 5, 'thumbsUpCount': 0, 'reviewCreatedVersion': '1.0.1', 'at': datetime.datetime(2021, 12, 12, 4, 43, 18), 'replyContent': 'Thanks and welcome onboard', 'repliedAt': datetime.datetime(2021, 12, 14, 10, 16, 42)}, {'reviewId': 'gp:AOqpTOF_OHdNW2If6yiAqU4Ao0YCgsbz9kocBwx7WS0l6KW8ePuN0CB6plWQC5FO6ZDGdzoyIr3AmO-s0AN3Hos', 'userName': 'ismail ibrahim Khalil', 'userImage': 'https://play-lh.googleusercontent.com/a-/AOh14GiUczVYvVj_dHQXYI5jIB_N0nykapdK-YON8wjSMw', 'content': 'There is no faster in playstore', 'score': 5, 'thumbsUpCount': 0, 'reviewCreatedVersion': '1.0.1', 'at': datetime.datetime(2021, 12, 11, 22, 24, 56), 'replyContent': None, 'repliedAt': None}, {'reviewId': 'gp:AOqpTOFwfGRJIa9l4NEiXV0XD1gPTdV4pBXZwPqMDz4zHVtSHtvOW0SNwawhDYONzAuLKVs-7P3PYlUoI0mrZi8', 'userName': 'Mansur Kwalli', 'userImage': 'https://play-lh.googleusercontent.com/a-/AOh14GiGVysRTlMmjfkl3yXNtAIerQHzZDR7iSHe0Zcv', 'content': \"Great app. Kudos to CBN. They have done a wonderful job creating the e-Naira and the app. I can't wait for more people to on-board the app so that we can harness the full benefits.\", 'score': 5, 'thumbsUpCount': 0, 'reviewCreatedVersion': '1.0.1', 'at': datetime.datetime(2021, 12, 11, 21, 14, 20), 'replyContent': 'Thanks for your review', 'repliedAt': datetime.datetime(2021, 11, 18, 9, 59, 58)}, {'reviewId': 'gp:AOqpTOFmh_bgb3T9xeWmmdv4e-9jqmDTa6H_DcrzB47-nd1xwPpHzxbxJ4q1Jh_5e8HEmYBHI8eOsHpAksWysDE', 'userName': 'Victor Oguejiofor', 'userImage': 'https://play-lh.googleusercontent.com/a/AATXAJxzSP_nJaRCCbPgGJskUTlQm-NgD1nV3OEBhqqe=mo', 'content': 'Better now', 'score': 5, 'thumbsUpCount': 0, 'reviewCreatedVersion': '1.0.1', 'at': datetime.datetime(2021, 12, 11, 18, 48, 41), 'replyContent': 'Thanks', 'repliedAt': datetime.datetime(2021, 12, 14, 10, 17, 27)}, {'reviewId': 'gp:AOqpTOHXEUDxbIIvytlrQyj5pAFjSf4LkaI5bElIN_29L0OE4L2slHUTokB3ptlo6jwbjvNKQzueJhbE4A-eVUk', 'userName': 'Badamasi Abdussalam Badamasi', 'userImage': 'https://play-lh.googleusercontent.com/a-/AOh14GhFLWzel10JtcUpO7GSsOfQ0g6n8PvZVvZu-rFS', 'content': 'Masha Allah for this development', 'score': 5, 'thumbsUpCount': 0, 'reviewCreatedVersion': None, 'at': datetime.datetime(2021, 12, 11, 0, 25, 10), 'replyContent': 'Thanks and welcome onboard', 'repliedAt': datetime.datetime(2021, 12, 14, 10, 19, 17)}, {'reviewId': 'gp:AOqpTOFFRN-jzeKzdLrDYNEGDOv5fW5tTk2hCwQjZnRXKAdQnHXKBrG5_oSb2p-MScZ8neg8RxgsXZa9sRDyJVE', 'userName': 'MUHAMMAD IBN ABUBAKAR', 'userImage': 'https://play-lh.googleusercontent.com/a-/AOh14GglWqOqwmXVhHlNraIDXKvM-HLXfHwllvgRcDlj4A', 'content': 'Is because is my Nation currency I love NIGERIA🇳🇬', 'score': 5, 'thumbsUpCount': 0, 'reviewCreatedVersion': '1.0.1', 'at': datetime.datetime(2021, 12, 10, 21, 5, 40), 'replyContent': 'Thanks and welcome onboard', 'repliedAt': datetime.datetime(2021, 12, 14, 10, 19, 57)}, {'reviewId': 'gp:AOqpTOFg0Ai6uNcL9VqfhegO-zeZ1LK4TRnQl6dwrZtt6hWbb_NNFfqerDUtzZEGkRHaw3-tSE_2nkrr0uxLlUU', 'userName': 'Gift Nwachukwu', 'userImage': 'https://play-lh.googleusercontent.com/a/AATXAJyNpBlgkuJU9zwct-PIFhvYY4yPcTQnRV8k5RSH=mo', 'content': \"The app was easy to lunch once you understand the requirements needed. It's also easy and makes transaction faster and easy.\", 'score': 5, 'thumbsUpCount': 0, 'reviewCreatedVersion': '1.0.1', 'at': datetime.datetime(2021, 12, 10, 12, 58, 59), 'replyContent': 'Thanks and welcome onboard', 'repliedAt': datetime.datetime(2021, 12, 14, 10, 20, 35)}, {'reviewId': 'gp:AOqpTOE0-OWbSsbGYgArAnKx7ngAAAAkYC05BYWdk1cNGhu3gzBs7TTGDAhhVZiiKufJ_PgZdZT6-DH3G2rseC0', 'userName': 'Ibrahim Nuhu', 'userImage': 'https://play-lh.googleusercontent.com/a/AATXAJxOJ4Y4L8eRH7WfwV_mf5jXZe5W0E_Zf35jqdIq=mo', 'content': \"It's a great one,Very easy and fast , kudos to the management\", 'score': 5, 'thumbsUpCount': 0, 'reviewCreatedVersion': '1.0.1', 'at': datetime.datetime(2021, 12, 10, 12, 26, 36), 'replyContent': 'Thanks and welcome onboard', 'repliedAt': datetime.datetime(2021, 12, 14, 10, 20, 41)}, {'reviewId': 'gp:AOqpTOG7Er0tKjJhKAHCk1owoKNzcpja-22D81zGzgm9h9HTnqh-A0lKorRdZpwLpnKgJkPKP_AUFrxI-mpCoXs', 'userName': 'Paul Ebi', 'userImage': 'https://play-lh.googleusercontent.com/a/AATXAJyiOqU_uemjgxpCFnv4ISs3DUL-wSB8sq3tT1yE=mo', 'content': 'This app is wonderful very easy to set up😇😇', 'score': 5, 'thumbsUpCount': 0, 'reviewCreatedVersion': '1.0.1', 'at': datetime.datetime(2021, 12, 10, 11, 49, 43), 'replyContent': 'Thanks and welcome onboard', 'repliedAt': datetime.datetime(2021, 12, 14, 10, 20, 46)}, {'reviewId': 'gp:AOqpTOFgC8v6tWtzZasxjPstg-vXvJ4LwOP6Cgh9J5SsFu8ltik3Jth4JALkaosSHLZ6o1HaQeizaPLdZU62tz0', 'userName': 'Ahmed Halidu Shero', 'userImage': 'https://play-lh.googleusercontent.com/a-/AOh14GikpKkP0TyAPBq8SSAih0h7PZyVsi3db-YQkRyQPCI', 'content': 'Good', 'score': 5, 'thumbsUpCount': 0, 'reviewCreatedVersion': '1.0.0', 'at': datetime.datetime(2021, 12, 10, 9, 57, 8), 'replyContent': 'Thanks and welcome onboard', 'repliedAt': datetime.datetime(2021, 12, 14, 10, 21, 26)}, {'reviewId': 'gp:AOqpTOHKuSEQhoGxNhzEq8_V1p1XDC89GVriuFe_IBKmE1cpHPaBX-bxAnJu4L4TFceZ8qsuMZuWWTcdBhNs3vs', 'userName': 'PRINCE MMESOMA UBAH', 'userImage': 'https://play-lh.googleusercontent.com/a-/AOh14Gjgzl8jWaNse2uWZjxOf_SreDhz4MMfefqAPlJr', 'content': 'The app has been helpful and cool very fast to operate and easy to join. Kudos to the management and developer. My will continue to advertise this App to my family and friends.', 'score': 5, 'thumbsUpCount': 0, 'reviewCreatedVersion': '1.0.1', 'at': datetime.datetime(2021, 12, 10, 9, 17, 13), 'replyContent': 'Thanks and welcome onboard', 'repliedAt': datetime.datetime(2021, 12, 14, 10, 21, 31)}, {'reviewId': 'gp:AOqpTOEvDLDpDU3sL8JNsCPfEzIFlUtv8NMrqY9qwouvTMoxPKLZ6c3rDb3cd_JYHW6ZNqCe00WSQVX5aoDsIUc', 'userName': 'Collins David', 'userImage': 'https://play-lh.googleusercontent.com/a/AATXAJzW4nCVed33AKHODyqIxv_QWrOna0RR3esVCI7O=mo', 'content': 'Dope app', 'score': 5, 'thumbsUpCount': 0, 'reviewCreatedVersion': '1.0.1', 'at': datetime.datetime(2021, 12, 10, 8, 26, 39), 'replyContent': 'Thanks and welcome onboard', 'repliedAt': datetime.datetime(2021, 12, 14, 10, 21, 36)}, {'reviewId': 'gp:AOqpTOF6zJffvgYJ6laWNg2cE1zg0DkOP3ZkEEK37uIJU4s5-kFM-X6AaINDGG9OomEoS3blZHApuF1i4EaCBLA', 'userName': 'Sodiq Ishola', 'userImage': 'https://play-lh.googleusercontent.com/a/AATXAJwUb7M7ONhyVKJ__8KIg3UeeIGOl9zEQVLlfWqu=mo', 'content': 'Effective app', 'score': 5, 'thumbsUpCount': 0, 'reviewCreatedVersion': '1.0.1', 'at': datetime.datetime(2021, 12, 10, 8, 7, 32), 'replyContent': 'Thank you for your encouraging words.', 'repliedAt': datetime.datetime(2021, 12, 14, 10, 21, 44)}, {'reviewId': 'gp:AOqpTOGIyYP90d5TdGEOyDAIvcs6A3m-iBcbdOsoBDUDoAHgG2GwUr5_fvUS7QjUjzMVbqhwrhwxqMV7gWuUKFU', 'userName': 'Monday Aguri', 'userImage': 'https://play-lh.googleusercontent.com/a/AATXAJyT5Gtn68rPZ9_52pmUuTUpW620TGDUcNbhGXQi=mo', 'content': 'Beautiful job. Most bugs were rightly fixed. Payment is so seamless!', 'score': 5, 'thumbsUpCount': 0, 'reviewCreatedVersion': None, 'at': datetime.datetime(2021, 12, 10, 8, 2, 37), 'replyContent': 'Hi, thank you very much for your feedback.', 'repliedAt': datetime.datetime(2021, 12, 14, 10, 21, 56)}, {'reviewId': 'gp:AOqpTOFoyNaRCzF-83sDByy5e9WfhhjDm7aViPSgYtvBUCQAoKSFds9GAUyWXCruik_WnnxGCev4PJmmMhrTT5E', 'userName': 'IWUEKE CHIBUZO', 'userImage': 'https://play-lh.googleusercontent.com/a-/AOh14GjnivzHOBCW-2BRXII3LnS1evRQiLy1UNBnh69kIA', 'content': 'The application is friendly and easy to access and it is the best place to save money and also receive money', 'score': 5, 'thumbsUpCount': 0, 'reviewCreatedVersion': '1.0.1', 'at': datetime.datetime(2021, 12, 10, 8, 1, 57), 'replyContent': 'Thanks and welcome onboard', 'repliedAt': datetime.datetime(2021, 12, 14, 10, 22, 3)}, {'reviewId': 'gp:AOqpTOHmWfcSQ5-QEo0Mbcl8EPjM3y_EGTFhPpy5e_8SAtAzXF7uOPDV42suhF8hiu2WbR60Pi0m2k8STVBToSo', 'userName': 'Shamsuddeen Haladu', 'userImage': 'https://play-lh.googleusercontent.com/a-/AOh14Gj8N8lHsLouhVEAgw8FJZxe_IfK75fGmBrKfkpDpA', 'content': 'Masha Allah', 'score': 5, 'thumbsUpCount': 0, 'reviewCreatedVersion': None, 'at': datetime.datetime(2021, 12, 9, 21, 6, 27), 'replyContent': 'Thanks and welcome onboard', 'repliedAt': datetime.datetime(2021, 12, 14, 10, 22, 19)}, {'reviewId': 'gp:AOqpTOFOJ96iUlwGXHkyMiqL4xnWi0-6sSW5luYLd4bxgC9Ughe8Fn-M8_-l_nSpaKAKyE1sOjs-nJfdrOaZi0A', 'userName': 'Emeka Mbanugo', 'userImage': 'https://play-lh.googleusercontent.com/a-/AOh14GinsiOhshUEFFyZHzCcTKMtFwNqHMuJCiUigvdkFg', 'content': 'Absolutely very easy to set up. Total time to set up and fund eNaira wallet from my bank after getting OTP and eNaira wallet activation link that was sent to the email address associated with my BVN was less than 5 minutes. NOTE: 1st email is the OTP for the eNaira Speed Wallet Enrollment. 2nd email is a confirmation email to click on the highlighted green link to Activate the Speed eNaira Wallet.', 'score': 5, 'thumbsUpCount': 3, 'reviewCreatedVersion': '1.0.1', 'at': datetime.datetime(2021, 12, 9, 0, 49, 25), 'replyContent': 'Thank You', 'repliedAt': datetime.datetime(2021, 12, 14, 10, 25, 13)}, {'reviewId': 'gp:AOqpTOFSzlZ4_nWHrz1Mitb89XBOERh5hfHX3DryHvJv0HMos3qR529MIgfFqVT358D2wELp65NfjR5W2wl8jaE', 'userName': 'musa adamu musa', 'userImage': 'https://play-lh.googleusercontent.com/a-/AOh14Gg8Qi_Htv4Hz08d41pSxDVjKwS-QQyAZtzJjKxP8Q', 'content': \"I'm trying to sign up but it was unable to sign up\", 'score': 5, 'thumbsUpCount': 0, 'reviewCreatedVersion': '1.0.1', 'at': datetime.datetime(2021, 12, 8, 16, 59, 22), 'replyContent': \"Hi, we are sorry that you're having issues with the app. Can you write to us at helpdesk@enaira.gov.ng. Kindly include a description of the issue you are facing and your contact details. We will investigate immediately & solve the issue.\", 'repliedAt': datetime.datetime(2021, 12, 14, 10, 25, 52)}, {'reviewId': 'gp:AOqpTOH0r11WaJf98Q35UEC0gzMowO2U4hz4p7qKwwxYjBwMPcCJs7ET6cUivXxRRbxMIB3A5v2YfYyn7B08G2c', 'userName': 'Huma Saad', 'userImage': 'https://play-lh.googleusercontent.com/a/AATXAJyvOx5Fr6pK372cKhyLdB58MMPqUJpjuNJTLHm4=mo', 'content': 'Seamless and effective. I encourage others to key into this awesome innovation.', 'score': 5, 'thumbsUpCount': 0, 'reviewCreatedVersion': '1.0.0', 'at': datetime.datetime(2021, 12, 8, 12, 22, 55), 'replyContent': 'Hi, thank you very much for your feedback.', 'repliedAt': datetime.datetime(2021, 12, 14, 10, 26, 37)}, {'reviewId': 'gp:AOqpTOHUNvctkF0ZlqHdXgGEjbHcYgg1mZz3zxh0zRV8zIkSrFdbvzfacNgsibvvB0S_wLwwFFsKNHM7zDacNLY', 'userName': 'Okocha Uzoma Meshark', 'userImage': 'https://play-lh.googleusercontent.com/a/AATXAJywwt2EeReq2WhNaehhWT4x6XLzk38Y5604-y_Y=mo', 'content': 'Wow just unboard the new CBN innovation on payment system (eNaira) kudos to CBN on the new technology. unboarding is seamless.', 'score': 5, 'thumbsUpCount': 0, 'reviewCreatedVersion': '1.0.1', 'at': datetime.datetime(2021, 12, 8, 12, 22, 22), 'replyContent': 'Hi, thank you very much for your feedback.', 'repliedAt': datetime.datetime(2021, 12, 14, 10, 26, 44)}, {'reviewId': 'gp:AOqpTOFz5566RSkT5xAXTiT102it0ByWB6rQ2Q23Vdez6O60ZL1DZvVQuq84RcuROWzBQkvnCXYO9tYgJ6fY27s', 'userName': 'Mildred Gaius', 'userImage': 'https://play-lh.googleusercontent.com/a/AATXAJzs6yTgBUDnS1X2bP90p86M5M-xvdSl6XxT58ss=mo', 'content': 'Excellent👍', 'score': 5, 'thumbsUpCount': 0, 'reviewCreatedVersion': '1.0.1', 'at': datetime.datetime(2021, 12, 8, 12, 16, 57), 'replyContent': 'Thank You', 'repliedAt': datetime.datetime(2021, 12, 14, 10, 26, 51)}, {'reviewId': 'gp:AOqpTOEYIxtMlzbisRkc9EG9KeCq4awfVNALLTh3gmWR8giLOje8q1finGYgr1dkQDnNretueG-wOMwCNRODmBY', 'userName': 'GodSupreme', 'userImage': 'https://play-lh.googleusercontent.com/a/AATXAJykfr_WEG1IWDxkkBt9DbdZLrHKevHGN8Q8ENWs=mo', 'content': 'nodumah1 took away my fears. Now I am so happy. Seamless transactions. Awesome interface. CBN is indeed a model Central bank', 'score': 5, 'thumbsUpCount': 0, 'reviewCreatedVersion': '1.0.1', 'at': datetime.datetime(2021, 12, 8, 12, 16, 4), 'replyContent': 'Thank You', 'repliedAt': datetime.datetime(2021, 12, 14, 10, 27)}, {'reviewId': 'gp:AOqpTOFSjs1jkIuP9h80-_FXfpDT1fVCI8qzQd9gAfluqVmZHV72ghRknYZ7KHtPJQW0NwiCMeLruR80zKVMVpM', 'userName': 'George Ohiembor', 'userImage': 'https://play-lh.googleusercontent.com/a-/AOh14GiIpqCVkkoMo9D-CweLiV7cepFy1g16YlyGybgVNQ', 'content': \"Easy to use..connects to my bank account seamlessly..haven't used for purchase yet\", 'score': 5, 'thumbsUpCount': 0, 'reviewCreatedVersion': '1.0.1', 'at': datetime.datetime(2021, 12, 8, 12, 12, 12), 'replyContent': 'Thanks', 'repliedAt': datetime.datetime(2021, 12, 14, 10, 27, 10)}, {'reviewId': 'gp:AOqpTOE6AtDrYpagbCaCQ2D857Cy4jZIJwdbnnO_YPH-S5F_TqKYGqOY9HAoX8Ufkq6hO7dlTl_4-f4aXKp7DMY', 'userName': 'Usman Muhammad', 'userImage': 'https://play-lh.googleusercontent.com/a/AATXAJzwCfepnsfc_JJDklQQA0azkOod8UN6yzqwAzN4=mo', 'content': 'Excellent', 'score': 5, 'thumbsUpCount': 0, 'reviewCreatedVersion': '1.0.0', 'at': datetime.datetime(2021, 12, 8, 11, 14, 6), 'replyContent': 'Thanks and welcome onboard', 'repliedAt': datetime.datetime(2021, 12, 14, 10, 27, 27)}, {'reviewId': 'gp:AOqpTOGu8McvhvRszIAJfvUBk70L54N5jrCPWKM4Q24gT7CmPvCngDh700pEzITooJ9y4XY28EYTHiZoTJGpUzI', 'userName': 'Muhammad Usman', 'userImage': 'https://play-lh.googleusercontent.com/a-/AOh14Gh6eVfSPD7B1cvoFd2XKAdQ79HKdit0V2_2gCparg', 'content': 'Perfect', 'score': 5, 'thumbsUpCount': 0, 'reviewCreatedVersion': '1.0.1', 'at': datetime.datetime(2021, 12, 7, 23, 35, 19), 'replyContent': 'Thank You', 'repliedAt': datetime.datetime(2021, 12, 8, 8, 33, 1)}, {'reviewId': 'gp:AOqpTOHI6vB7lN3jf63AfRZz69eB9EbQTlu8I_rTOYe2_xt-65KZVnijZUPTGtMhIIfnoKQqZF8DXjHZCrEtJxM', 'userName': 'Olawale Emmanuel', 'userImage': 'https://play-lh.googleusercontent.com/a-/AOh14GgcB7EGzXlj7DRMBlavTRtohtHsO8Jj74D2L2ri', 'content': \"My expectation was that e-naira will be a digital currency version representing Nigeria on the global market just like USDT is representing USA but to my amazement it's nothing to be compared with it. I believe you can make this work out well and let e-naira be listed on global coinmarketcap and it can be traded. This will help to boost the economy of Nigeria globally and bridge the gap between other nations and as well make it a stable coin or floating coin as the case maybe. This is my take.\", 'score': 5, 'thumbsUpCount': 0, 'reviewCreatedVersion': None, 'at': datetime.datetime(2021, 12, 7, 21, 56, 45), 'replyContent': 'Thanks for your honest feedback.\\nRegards', 'repliedAt': datetime.datetime(2021, 12, 8, 8, 33, 43)}, {'reviewId': 'gp:AOqpTOFWeOsMh5mBMwbw_cLLScjvcmbo2-tDsV9RrZALW_f04bgfWCqlvl5MBaRshMsVVcGk3XtlTyuc_4K6IRM', 'userName': 'idimogu samuel', 'userImage': 'https://play-lh.googleusercontent.com/a/AATXAJxHBAmTCl28NJzlKapY76ivQq-hWBQUd-3xYLbZ=mo', 'content': 'Wow', 'score': 5, 'thumbsUpCount': 0, 'reviewCreatedVersion': '1.0.1', 'at': datetime.datetime(2021, 12, 6, 9, 33, 6), 'replyContent': 'Thank You', 'repliedAt': datetime.datetime(2021, 12, 7, 9, 27, 42)}, {'reviewId': 'gp:AOqpTOGQOVdtMolJcU3Stn7p4fQoUnPZ5cEMnN7i8U1HaM2lAPH36mnXY-EUayiGEexAhHfdzlvFXKGVTDuEGe0', 'userName': 'Tijani Abiodun A', 'userImage': 'https://play-lh.googleusercontent.com/a-/AOh14GhjoyYbUOUcjOBmwUa-VeBC4H3gZynvb43j3xbWEQ', 'content': 'Great', 'score': 5, 'thumbsUpCount': 0, 'reviewCreatedVersion': '1.0.1', 'at': datetime.datetime(2021, 12, 5, 22, 30, 16), 'replyContent': 'We are pleased that you enjoyed the app. Welcome onboard', 'repliedAt': datetime.datetime(2021, 12, 7, 9, 35, 5)}, {'reviewId': 'gp:AOqpTOGDQJLG4fxRV0MowpyaM4NEycZHuta04Q6fQxq-SJszYOTvOQzVJrbRkfxp7oHgmkrzS2NzkZUSzWj0qbI', 'userName': 'dahiru adamu', 'userImage': 'https://play-lh.googleusercontent.com/a-/AOh14GjRTorr8-nIDQmEDqxgO9g0MOBwQZV3uZ3f05OhsUw', 'content': \"Honestly speaking the app now is great after several attempt to register it , the problems most of the bank don't have enaira or doesn't support on how to transfer from bank to e-naira.\", 'score': 5, 'thumbsUpCount': 0, 'reviewCreatedVersion': '1.0.1', 'at': datetime.datetime(2021, 12, 5, 8, 1, 26), 'replyContent': 'With every new app version we are introducing new features and improving existing ones. We are sure that your feedback will only help us improve further.', 'repliedAt': datetime.datetime(2021, 12, 5, 19, 2, 35)}, {'reviewId': 'gp:AOqpTOFkqYBNckX50UHHTb991WdMbJsgCQtb7amKrQ67mct0pvfO6owAx8BijZvJy8yNsPD5Cps8LJkD5PWtwuk', 'userName': 'Ismail Fx', 'userImage': 'https://play-lh.googleusercontent.com/a-/AOh14GjxaD7JlFSnOtAMXQgkhxzqnMWTWnZ6jMTs5Mqr5g', 'content': 'I think the E-naira Should be Launch not even Nigeria but west Africa... The Naira Will be Strong Than the other currency', 'score': 5, 'thumbsUpCount': 0, 'reviewCreatedVersion': '1.0.1', 'at': datetime.datetime(2021, 12, 4, 12, 31, 48), 'replyContent': 'Thank You', 'repliedAt': datetime.datetime(2021, 12, 5, 19, 4, 39)}, {'reviewId': 'gp:AOqpTOFBkzblx3pbSB-aZVdB027SFdV0u27JYuisMWgONgiQ7w2lGuWYBXkh5gFgTsFX3BNFbRIwlLB2m80Ym-0', 'userName': 'Linda Johnson', 'userImage': 'https://play-lh.googleusercontent.com/a-/AOh14GgaNgH86v5JBpXknjsy0pxbMlKD2hAgRInMbrMZug', 'content': 'Verification process was very easy. Proud of Nigeria.', 'score': 5, 'thumbsUpCount': 0, 'reviewCreatedVersion': '1.0.1', 'at': datetime.datetime(2021, 12, 3, 10, 29, 46), 'replyContent': 'Thank You', 'repliedAt': datetime.datetime(2021, 12, 5, 19, 6, 42)}, {'reviewId': 'gp:AOqpTOHQ9Ca7lPoMS1NQrPTzlH0hmKUPQ4GfgDRK8JDSy7SQr7XyqoqL3QuxY5Vfwaq3T7aRLPUMYCpuX5c7br8', 'userName': 'Zakariyau Bako', 'userImage': 'https://play-lh.googleusercontent.com/a-/AOh14GisqI0qkpgfdKFF2xSbfeACoS9uYNvKttUjIQLsMA', 'content': 'Masha Allaah', 'score': 5, 'thumbsUpCount': 0, 'reviewCreatedVersion': '1.0.1', 'at': datetime.datetime(2021, 12, 3, 10, 18, 15), 'replyContent': 'Thank You', 'repliedAt': datetime.datetime(2021, 12, 5, 19, 7, 29)}, {'reviewId': 'gp:AOqpTOEt_ur0p8OhDLRECKTLktM6NXPmoh197VYeKb5ryFo8Ex_0Qj0sYmltvGFZ7JLZfXZLZsPrLDpRjIDMlwc', 'userName': 'Moses Ojero', 'userImage': 'https://play-lh.googleusercontent.com/a-/AOh14GhukZ8QqFCMxyeI8g6O_HlOoIXnM1zqmi5myPt3Yg', 'content': 'Lovely', 'score': 5, 'thumbsUpCount': 0, 'reviewCreatedVersion': '1.0.1', 'at': datetime.datetime(2021, 12, 2, 21, 25, 19), 'replyContent': 'Thanks', 'repliedAt': datetime.datetime(2021, 12, 2, 21, 21, 49)}, {'reviewId': 'gp:AOqpTOHLJ4T4s1nHI73X5Anh5MaDZg2O_GYYOhE9yNP0OMX1ixg7FJVMKG6AWJadxzmhuezv_2P4e9mflsBVZ08', 'userName': 'Ezekiel Adewunmi', 'userImage': 'https://play-lh.googleusercontent.com/a-/AOh14Gh_fMhQJWH6BdjWkmYTAfGC6bB_3C9FsYlAdnNm', 'content': \"You created the best idea I was working on 10 years ago. Now my dream is living through FEDERAL GOVERNMENT 👍 Sort of fine tuning my own program now to see how I can make it as a strategic way to make more people adopt the use of eNaira. *I CANT SIGNU; it's keep saying invalid account number.\", 'score': 5, 'thumbsUpCount': 0, 'reviewCreatedVersion': '1.0.1', 'at': datetime.datetime(2021, 12, 2, 20, 13, 20), 'replyContent': 'Thanks Adewunmi', 'repliedAt': datetime.datetime(2021, 12, 2, 21, 5, 51)}, {'reviewId': 'gp:AOqpTOHEldkFr_OMHUVONHmZdawk9sEo6VhRFZhK3RvCvJomZm_IYoPcCnKNQzfGQNPyuKqCwMNPBcMBkTnOAxs', 'userName': 'Toheer Horlanre', 'userImage': 'https://play-lh.googleusercontent.com/a/AATXAJzkRfZ4JndwV5fkYu5M5n5PTp2cczrOFjQPhouh=mo', 'content': 'Fantastic', 'score': 5, 'thumbsUpCount': 0, 'reviewCreatedVersion': None, 'at': datetime.datetime(2021, 12, 2, 18, 11), 'replyContent': 'It is delightful to hear such positive words and it’s always a pleasure to serve our users.', 'repliedAt': datetime.datetime(2021, 12, 2, 21, 6, 1)}, {'reviewId': 'gp:AOqpTOGsZ3V5QHChxXNAbDdWik0G_Qrq9yXyxXacCvu8P9A4_yDCyukuHnVwiSjqmvv__IK5mwaKkjomg9aB94w', 'userName': 'Haliru ahmed', 'userImage': 'https://play-lh.googleusercontent.com/a/AATXAJw_Nq34pU-3kLK3rFJSoOaBjp8J8wqNXvPwEGBm=mo', 'content': 'Thank you', 'score': 5, 'thumbsUpCount': 0, 'reviewCreatedVersion': '1.0.1', 'at': datetime.datetime(2021, 12, 2, 16, 13, 36), 'replyContent': 'Hi, thank you very much for your feedback.', 'repliedAt': datetime.datetime(2021, 12, 2, 21, 7, 59)}, {'reviewId': 'gp:AOqpTOELDGzGmnw7_mpa_W-4lCkakZEM_KrVREZZI8xqtBpjJxdjvY0mBYgd7LrwjU2HHq6HGThn6ZA7o5gOHI0', 'userName': 'Celebrity Lifestyles', 'userImage': 'https://play-lh.googleusercontent.com/a/AATXAJzMVp1zj58iIDEHJwbl9WFr476dAzSlBcf6dxk=mo', 'content': 'Good to go', 'score': 5, 'thumbsUpCount': 0, 'reviewCreatedVersion': None, 'at': datetime.datetime(2021, 12, 2, 15, 12, 3), 'replyContent': 'Hi, thank you very much for your feedback.', 'repliedAt': datetime.datetime(2021, 12, 2, 21, 8, 17)}]\n"
     ]
    }
   ],
   "source": [
    "print(result)"
   ]
  },
  {
   "cell_type": "code",
   "execution_count": 28,
   "metadata": {},
   "outputs": [],
   "source": [
    "result,_ = reviews('ng.gov.cbn.speed.wallet.temp', continuation_token=continuation_token)"
   ]
  },
  {
   "cell_type": "code",
   "execution_count": 29,
   "metadata": {},
   "outputs": [
    {
     "name": "stdout",
     "output_type": "stream",
     "text": [
      "[{'reviewId': 'gp:AOqpTOFhpJJKqotkN-1QfavjsblVGQ8aRMORA3vc21o0TTRVK5hYIAx4L5SL_FDKHPTYYyciefNDxkGcgjJqTOI', 'userName': 'faruk jibril', 'userImage': 'https://play-lh.googleusercontent.com/a/AATXAJxBlQx75HZdTMXou5LPfewhQnozDJq7LsDK5zAZ=mo', 'content': 'Real spead', 'score': 5, 'thumbsUpCount': 0, 'reviewCreatedVersion': None, 'at': datetime.datetime(2021, 12, 2, 13, 30, 8), 'replyContent': 'Thank You', 'repliedAt': datetime.datetime(2021, 12, 2, 21, 8, 29)}, {'reviewId': 'gp:AOqpTOHiBZsuQWRJgEi0_I9LMyZ9hC0y8NRTCs0JegmJWZVdVTJYuaGPLEJdwSujT82e0PDZCagaUIjNT5OV3-k', 'userName': 'Florence Alabi', 'userImage': 'https://play-lh.googleusercontent.com/a/AATXAJw2iDa-eVerusOXXks94xkNS99kRJE6JSR-kQzP=mo', 'content': 'Excellent', 'score': 5, 'thumbsUpCount': 0, 'reviewCreatedVersion': '1.0.1', 'at': datetime.datetime(2021, 12, 2, 13, 29, 7), 'replyContent': 'It is delightful to hear such positive words.', 'repliedAt': datetime.datetime(2021, 12, 2, 21, 8, 49)}, {'reviewId': 'gp:AOqpTOEp8QyfCIO2Ch3f1xIYKA-gR7djf5pDHUebSEE_2uKGl5rG0rgK0tk_du_vfJ3Zykpt5ghCQmY9Yv4SGyE', 'userName': 'Maisamari Kwila', 'userImage': 'https://play-lh.googleusercontent.com/a/AATXAJzgPPt_R8ine2VNGkZLg-6s1jI7dux8YpTMu6sL=mo', 'content': 'Fast and reliable The process is easy to operate', 'score': 5, 'thumbsUpCount': 0, 'reviewCreatedVersion': '1.0.1', 'at': datetime.datetime(2021, 12, 2, 11, 48, 21), 'replyContent': 'Welcome onboard', 'repliedAt': datetime.datetime(2021, 12, 2, 21, 10, 18)}, {'reviewId': 'gp:AOqpTOFvYlV-JfiqE_bWRkRtGGanbWpY6gjTMe1M-aCEDjvXMrnvsvfJDBRNDB4c7Tk05Kklb8YG6ndd4cuTV6M', 'userName': 'Terna Amile', 'userImage': 'https://play-lh.googleusercontent.com/a-/AOh14GgShmAGqiSQOVcuBCiHEWHhP_KlqX63xNtiCBO17w', 'content': 'The app was very good very excellent', 'score': 5, 'thumbsUpCount': 0, 'reviewCreatedVersion': '1.0.1', 'at': datetime.datetime(2021, 12, 2, 10, 8, 44), 'replyContent': None, 'repliedAt': None}, {'reviewId': 'gp:AOqpTOFE91yIWdHiaL1LlVla6URwW70WfRMOqW1RgiYGSkYPSODuBWSmTA-8togEliCSnFn9q9d0Qnl1_s0zUP0', 'userName': 'Jude Ogbelu', 'userImage': 'https://play-lh.googleusercontent.com/a/AATXAJy0NYklK_6PlqeSxQRHk_LfRkc-rSUhNAEZ26TP=mo', 'content': 'Excellent', 'score': 5, 'thumbsUpCount': 0, 'reviewCreatedVersion': '1.0.1', 'at': datetime.datetime(2021, 12, 2, 10, 5, 52), 'replyContent': 'Thank You', 'repliedAt': datetime.datetime(2021, 12, 2, 21, 11, 58)}, {'reviewId': 'gp:AOqpTOHTa45wWnLvANz76V8RGwgxI6sBSh3kMnOQDWJ0Frcsyhof3Ia53rlGMMf5pHFrqh_dNS8RSkimp651qes', 'userName': 'JUMBO SODIALA NENGI', 'userImage': 'https://play-lh.googleusercontent.com/a-/AOh14GiUQ1iceWjNBr-RmRbb2j2i-7xCZqWnLLbE_Hn2Mg', 'content': 'The app is good', 'score': 5, 'thumbsUpCount': 0, 'reviewCreatedVersion': None, 'at': datetime.datetime(2021, 12, 2, 4, 4, 39), 'replyContent': 'Thanks', 'repliedAt': datetime.datetime(2021, 12, 2, 21, 12, 6)}, {'reviewId': 'gp:AOqpTOHKcpJVCPndDq6FVUP19-3DdGCKmFdXEQSpB2E1KeqeasPEkQdFbL7_VEEDAdrJYRys6fscRFT_SXSsrOk', 'userName': 'Abubakar Salis', 'userImage': 'https://play-lh.googleusercontent.com/a-/AOh14GiAPi61EcSbv4cWidGMlpO6qHWLat3JKypOV6BkSg', 'content': 'Very good', 'score': 5, 'thumbsUpCount': 0, 'reviewCreatedVersion': '1.0.1', 'at': datetime.datetime(2021, 12, 1, 13, 58, 19), 'replyContent': 'Welcome onboard', 'repliedAt': datetime.datetime(2021, 12, 2, 21, 13, 26)}, {'reviewId': 'gp:AOqpTOEghAC4LXM_vPOP45HmJpD_lrzaHiiJI7cfX2jqlC4cxUrE8p9VgTPWn1RkthoNkmda7a33zxzcU-zvlHU', 'userName': 'munir saidu', 'userImage': 'https://play-lh.googleusercontent.com/a/AATXAJwUx8QzrfG6R41bKh1LSZdE_K8iEodsv5hQibrR=mo', 'content': 'Excited', 'score': 5, 'thumbsUpCount': 0, 'reviewCreatedVersion': '1.0.1', 'at': datetime.datetime(2021, 12, 1, 13, 46, 9), 'replyContent': 'Thanks', 'repliedAt': datetime.datetime(2021, 12, 2, 21, 13, 34)}, {'reviewId': 'gp:AOqpTOH8US9I2io_K0GyhTPXnXk3Ca4M8PrLkoG7JFQ7MR60hy5pFwcBlc1iA2BKV-4JIOwg9GLjLAJPZ5xARNM', 'userName': 'Naziru Musa Ahmad', 'userImage': 'https://play-lh.googleusercontent.com/a/AATXAJxVpTWeSzWTbLg_5mLetsBWcgJzoZUm1oQmElmF=mo', 'content': 'I really appreciate the app I thank CBN for introducing eNaira speed wallet.', 'score': 5, 'thumbsUpCount': 0, 'reviewCreatedVersion': '1.0.1', 'at': datetime.datetime(2021, 12, 1, 13, 37, 20), 'replyContent': \"You're most welcome\", 'repliedAt': datetime.datetime(2021, 12, 2, 21, 14, 15)}, {'reviewId': 'gp:AOqpTOF-F2qpQ0WITDZUEJSkrA3HC4q13yttSsNnw_34eGsC7iFQlVOBy_dPl83JWbl6k7TezIIjwxTIK5-pZCs', 'userName': 'abdulmutalib dauda Ahmed', 'userImage': 'https://play-lh.googleusercontent.com/a/AATXAJywEFDPjPKWQ3X23v3LfYM2Obnrcmtjq-om3Tns=mo', 'content': \"It's quite an interesting app. But I am finding it difficult to link my bank app to the enaira wallet...\", 'score': 5, 'thumbsUpCount': 0, 'reviewCreatedVersion': '1.0.1', 'at': datetime.datetime(2021, 12, 1, 13, 36, 43), 'replyContent': 'Hi, can you please send us your account details along with the screenshot of the problem to helpdesk@enaira.gov.ng so that we can help you. Thank you for using our app.', 'repliedAt': datetime.datetime(2021, 12, 2, 21, 14, 28)}, {'reviewId': 'gp:AOqpTOE9m-j69l1o-Ysx3hvXCE9sCR3J9dqxJf5mN89US9JX4BtTQijwJDkJhZHKdnwq2x1ynQm27RwpJiBxXz0', 'userName': 'sadiku oluwagbemiga', 'userImage': 'https://play-lh.googleusercontent.com/a/AATXAJxh8g8NmEMXw3c2yjb7KdhFPNTX2CLq6kVLUXZE=mo', 'content': 'eNaira is a wonderful and great initiative for we youths and entrepreneurs on our business and currency stability...', 'score': 5, 'thumbsUpCount': 0, 'reviewCreatedVersion': '1.0.1', 'at': datetime.datetime(2021, 12, 1, 13, 34, 2), 'replyContent': 'Thank You', 'repliedAt': datetime.datetime(2021, 12, 2, 21, 14, 58)}, {'reviewId': 'gp:AOqpTOHrMme0D2F82aEKAaoPzQ7G8pZXSKsVXiGaD9UlMGCAcigMM-Yobzv0VqFmYklzhBwjUrD2KA7XlrbWKW4', 'userName': 'Isyaku Muhammed Bello', 'userImage': 'https://play-lh.googleusercontent.com/a/AATXAJx0GDrQxhlSiVyc3VyOwdPo7VQcCvWrcSq_K_fO=mo', 'content': 'Fantasic channel of promoting financial inclusion mission !', 'score': 5, 'thumbsUpCount': 0, 'reviewCreatedVersion': '1.0.1', 'at': datetime.datetime(2021, 12, 1, 13, 32, 38), 'replyContent': 'Hi, thank you very much for your feedback.', 'repliedAt': datetime.datetime(2021, 12, 2, 21, 15, 8)}, {'reviewId': 'gp:AOqpTOFLkYnoZuW8xmOK2F8qqsHTSDNo1V36xDESSNgFPVHrOBhmVbKDavuRl7Lg8UoMSEw2sE1WeP273zuu9ws', 'userName': 'Kosy Allison', 'userImage': 'https://play-lh.googleusercontent.com/a-/AOh14Gh3MAQioMOgHwRSpFWhXxkIPMTc9oOnk6BRe0kD', 'content': \"It doesn't have many features or use cases as at now\", 'score': 5, 'thumbsUpCount': 0, 'reviewCreatedVersion': '1.0.1', 'at': datetime.datetime(2021, 12, 1, 13, 32, 36), 'replyContent': 'The eNaira is a journey.\\nMost exciting features would be added soon.', 'repliedAt': datetime.datetime(2021, 12, 2, 21, 15, 35)}, {'reviewId': 'gp:AOqpTOGF5aqExAEmV8Cf9zQBEuQD22AuK6MyHdHJiVUQGOlKm2wg4eFo1Qji1_d7zrRVpwdbd9zWmJ_kJ_a8iOs', 'userName': 'Muhammad Umar Sanda', 'userImage': 'https://play-lh.googleusercontent.com/a/AATXAJzhlxbe0Me0XC7rS_L8FDWd1Id8E3J4C6RMzQuR=mo', 'content': 'Nice one, but it need to be upgraded to enable us buy recharge card, and also add another bank of choice', 'score': 5, 'thumbsUpCount': 1, 'reviewCreatedVersion': '1.0.1', 'at': datetime.datetime(2021, 12, 1, 13, 32, 13), 'replyContent': 'The eNaira is a journey. Most exciting features would be added soon.', 'repliedAt': datetime.datetime(2021, 12, 2, 21, 15, 51)}, {'reviewId': 'gp:AOqpTOFwONSzkSncJn4Brd5Y4fPxi2_KC46YfXmLkwrOm1Epuz2RFeCa0xhFwJ3rDwyIaLMvdymbI9jFHc_Oi58', 'userName': 'Sani Galadima', 'userImage': 'https://play-lh.googleusercontent.com/a-/AOh14Gh2oLuisxU5Jg1rc2PLR3xV9SdmiBj1u1FR0M1Z3g', 'content': 'Very good past and accurate', 'score': 5, 'thumbsUpCount': 0, 'reviewCreatedVersion': '1.0.1', 'at': datetime.datetime(2021, 12, 1, 13, 32, 12), 'replyContent': 'Thanks', 'repliedAt': datetime.datetime(2021, 12, 2, 21, 16, 2)}, {'reviewId': 'gp:AOqpTOHT0HFf73ZE2t9NmW6V9jRxPD09OS3z-Y2OehRZ1EKFQjMZmIMCwYiG0rKYqEgLMdRQO75aieL3IamBUMs', 'userName': 'Adewumi Sunday Moses MSA', 'userImage': 'https://play-lh.googleusercontent.com/a-/AOh14GjMybdJPVico-2zKhWxQOl6mMAgo2KkCGgy-JQaVg', 'content': 'Very easy and Direct', 'score': 5, 'thumbsUpCount': 0, 'reviewCreatedVersion': '1.0.1', 'at': datetime.datetime(2021, 12, 1, 13, 31, 19), 'replyContent': 'Welcome onboard', 'repliedAt': datetime.datetime(2021, 12, 2, 21, 16, 15)}, {'reviewId': 'gp:AOqpTOFVg2UnEqmFQN3vQVmWmuEhCmMKCEBuurBbzOuw0Tv2uIY7t1EpKG7oWSrionGZPRjquaWpJ3KYn2AIkL4', 'userName': 'EBWEJWA DANLADI', 'userImage': 'https://play-lh.googleusercontent.com/a/AATXAJxS-ouTNbJV4JXdgsXzW6eqzKQ_URINhJJjZpUQ=mo', 'content': 'Excellent', 'score': 5, 'thumbsUpCount': 0, 'reviewCreatedVersion': '1.0.1', 'at': datetime.datetime(2021, 12, 1, 13, 30, 48), 'replyContent': 'Thanks', 'repliedAt': datetime.datetime(2021, 12, 2, 21, 16, 23)}, {'reviewId': 'gp:AOqpTOEgQQlmkXq8bRT0h6GovR7aHarEAvxV0XokwhhZo782yuP3b9XiNDCidHKhba4IdVL-w-VpIF9z3P2gMN8', 'userName': 'mahmud yayale farouk', 'userImage': 'https://play-lh.googleusercontent.com/a/AATXAJwwmuRWyugP56jJdIK1wDtuDl6PlqZQRr25Xc8X=mo', 'content': 'E naira will really be beneficial to many Nigerian for business transaction. I thank the central bank Nigeria. Long Live CBN LONG LIVE NIGERIA', 'score': 5, 'thumbsUpCount': 0, 'reviewCreatedVersion': '1.0.1', 'at': datetime.datetime(2021, 12, 1, 13, 30, 33), 'replyContent': 'Hi, thank you very much for your feedback.', 'repliedAt': datetime.datetime(2021, 12, 2, 21, 16, 30)}, {'reviewId': 'gp:AOqpTOHXbZyuWD6YE0BIS10_SANRmHt0g7jKdbDrV6Is1VxRaKm2EzQyW3SoOrDYWO_lw5EZHdlRRzfV2P9kkxE', 'userName': 'Apeh Eunice', 'userImage': 'https://play-lh.googleusercontent.com/a/AATXAJzZG_7ZWvzq-Txq5qUoPNcYSuxpg0K1UKKRxg4y=mo', 'content': 'It simple and easy', 'score': 5, 'thumbsUpCount': 0, 'reviewCreatedVersion': '1.0.1', 'at': datetime.datetime(2021, 12, 1, 13, 30, 18), 'replyContent': 'Hi, thank you very much for your feedback.', 'repliedAt': datetime.datetime(2021, 12, 2, 21, 16, 36)}, {'reviewId': 'gp:AOqpTOHHTJSIYOcWK85LKidh3JfqfMdmyxMEGkdefgqmD4lNpMtuLEjkEcKUOjblEIA4Lc8RFiiW32-ye3DXA-M', 'userName': 'Nafisat Sabiu', 'userImage': 'https://play-lh.googleusercontent.com/a/AATXAJxS-qVR-jZayjQe_8f4ALsWbBqDKXaWMCOHyegW=mo', 'content': 'Fantastic', 'score': 5, 'thumbsUpCount': 0, 'reviewCreatedVersion': '1.0.1', 'at': datetime.datetime(2021, 12, 1, 13, 29, 45), 'replyContent': 'It is delightful to hear such positive words and it’s always a pleasure to serve our users.', 'repliedAt': datetime.datetime(2021, 12, 2, 21, 16, 45)}, {'reviewId': 'gp:AOqpTOEzmFNuqZBarT-J-I6XKlCuXKTyO8r--XOHjpgUPjCYXKGX4d1Tih_tncW7hqWcqE3QDaXnni6fKAkRZNw', 'userName': 'Iliya FarmTech', 'userImage': 'https://play-lh.googleusercontent.com/a/AATXAJx-kcE2cDMexN_bZjjUu7XK0rOTRtNHu8IoVb8y=mo', 'content': 'The app is ok', 'score': 5, 'thumbsUpCount': 0, 'reviewCreatedVersion': '1.0.1', 'at': datetime.datetime(2021, 12, 1, 13, 29, 31), 'replyContent': 'Hi, thank you very much for your feedback.', 'repliedAt': datetime.datetime(2021, 12, 2, 21, 16, 50)}, {'reviewId': 'gp:AOqpTOGxRcES971Ihl3KtMUUvqOcG9sEw0VJfhttCul-RkBfzYxkNRHmGoaYVl_gJ_MiRXtPm2_cocj0S7M3Nvo', 'userName': 'Alan Sonia', 'userImage': 'https://play-lh.googleusercontent.com/a-/AOh14Gj96qZLcCL-w8p5oFzuNXS_JRBlUsZTKrrLIzkAWA', 'content': 'Fast and easy', 'score': 5, 'thumbsUpCount': 0, 'reviewCreatedVersion': '1.0.1', 'at': datetime.datetime(2021, 12, 1, 13, 28, 59), 'replyContent': \"We're always working hard to improve the app. Thanks for your download and feedback.\\n\", 'repliedAt': datetime.datetime(2021, 12, 2, 21, 16, 59)}, {'reviewId': 'gp:AOqpTOHfm4hrm0ChfQIPFVBqUZPtqSUhI6uWIjbxWoNHXqCt8Y3R1Gr57fL4AsO3lR4QJAvcjhiErxqxS--wGNM', 'userName': 'Josephine Simon', 'userImage': 'https://play-lh.googleusercontent.com/a/AATXAJzj2ZWMewE6xXnrOVuT2ATWxe6p9gMR-lALlKR2=mo', 'content': 'So easy and quick. I love this app Download it and it is very easy to access without guidance', 'score': 5, 'thumbsUpCount': 0, 'reviewCreatedVersion': '1.0.1', 'at': datetime.datetime(2021, 12, 1, 13, 17, 46), 'replyContent': 'Thank You', 'repliedAt': datetime.datetime(2021, 12, 2, 21, 17, 48)}, {'reviewId': 'gp:AOqpTOFeHUz9zzQ03yeOCnvQcCvLTlf8KlI45IojcGMMqBNc8wtp24fI3eMCSAItbTQyGKSuvKSC8wveE6iOiGI', 'userName': \"Yahaya Shu'aibu Awai'su\", 'userImage': 'https://play-lh.googleusercontent.com/a-/AOh14GgVsn6w0g1kD7JuIadoJK5RyUY6BWhaLzpRHBMzoUY', 'content': 'Globally standardized. May Nigeria successed', 'score': 5, 'thumbsUpCount': 0, 'reviewCreatedVersion': '1.0.1', 'at': datetime.datetime(2021, 12, 1, 13, 8, 30), 'replyContent': 'Ameen. Thank You', 'repliedAt': datetime.datetime(2021, 12, 2, 21, 18, 2)}, {'reviewId': 'gp:AOqpTOFEU3jFnndfrqXEZ5mApOrp_V19oD7xNvkwEGELoAicizseQwjT7HEDdjoclMvhO7BLqboPSOJV1GJ8_bE', 'userName': 'Opeoluwa Odu', 'userImage': 'https://play-lh.googleusercontent.com/a-/AOh14Gjr2l0-h4ECcc1Ujz_mqMRqw4TdIdSmnbdSiH2bxJU', 'content': \"Now that the BVN bugs are gone, for a zero fee straight through wallet that doesn't rely on a switch, not bad at all.\", 'score': 5, 'thumbsUpCount': 0, 'reviewCreatedVersion': '1.0.1', 'at': datetime.datetime(2021, 12, 1, 11, 42, 38), 'replyContent': 'Thanks', 'repliedAt': datetime.datetime(2021, 12, 2, 21, 18, 14)}, {'reviewId': 'gp:AOqpTOHbzQYGMIzETzuV6R3JWPDg5sBqHDPxC-5bj2cDbFkVYWCtPf2SPsywOx92SaHPL3_Jol1cGVTREKDx6rc', 'userName': 'auwalu yusuf', 'userImage': 'https://play-lh.googleusercontent.com/a/AATXAJyIye9B71mgoTjZxF5QYrVuHvXQ0CYVdWdHEK02=mo', 'content': 'Interesting.', 'score': 5, 'thumbsUpCount': 0, 'reviewCreatedVersion': '1.0.1', 'at': datetime.datetime(2021, 12, 1, 9, 45, 39), 'replyContent': \"You're most welcome\", 'repliedAt': datetime.datetime(2021, 12, 2, 21, 18, 43)}, {'reviewId': 'gp:AOqpTOHkVtgHrkcDY5Zy060LH6KIknXbs_IRdJgS6biHcyD1F295HfF6RwwNoz5jA9Z3APD47qWovTwxSDrz5cA', 'userName': 'Buhari A Zayyad', 'userImage': 'https://play-lh.googleusercontent.com/a-/AOh14Gh5AO65AfsKYZ-idRA_v85mQmNhT-iml66b8Q7ElQ', 'content': 'Great app to use. User friendly', 'score': 5, 'thumbsUpCount': 0, 'reviewCreatedVersion': '1.0.1', 'at': datetime.datetime(2021, 12, 1, 9, 19, 16), 'replyContent': 'Hi,\\nThanks for your feedback. We are continuously working on adding more features to our app to make your experience better.', 'repliedAt': datetime.datetime(2021, 12, 2, 21, 18, 53)}, {'reviewId': 'gp:AOqpTOFIPX7bX0Zdxlpu7gCzLysFjRZpkUrcFyaC23ZUrkUvKPsNr8rO3wXsu9kwzr5xKZ2oTjw-gIzsTBozuSA', 'userName': 'maryam mustapha', 'userImage': 'https://play-lh.googleusercontent.com/a/AATXAJx2eO-oKw2xA81ad74o_T9aNKtRRNSG0dHYwSO1=mo', 'content': 'Fast', 'score': 5, 'thumbsUpCount': 0, 'reviewCreatedVersion': '1.0.1', 'at': datetime.datetime(2021, 12, 1, 9, 18, 23), 'replyContent': None, 'repliedAt': None}, {'reviewId': 'gp:AOqpTOHWPnoHNP0OXLWiJ67tAriRtDpfHhCEwaJJpaf7gvF2gbz5iAtN5IbG6akeyFvakNg0wRVb5xPCnSVUIYg', 'userName': 'Fadimatu Bello S.', 'userImage': 'https://play-lh.googleusercontent.com/a/AATXAJz43T_NwOP6FySWrrWooYAjWhqRUmR6OdmmXKyk=mo', 'content': 'Wonderful experience.', 'score': 5, 'thumbsUpCount': 0, 'reviewCreatedVersion': '1.0.1', 'at': datetime.datetime(2021, 12, 1, 9, 15, 51), 'replyContent': 'Thank you for your encouraging words.', 'repliedAt': datetime.datetime(2021, 12, 2, 21, 18, 58)}, {'reviewId': 'gp:AOqpTOHk9hvdAh6lTWp68cVHgNpEWuIk80rQnyr7qX06dBuCay8CeF79bM9uHD2yN1B4iKeuYZtMbpJsKdeTN5k', 'userName': 'Mohammed Yunuss', 'userImage': 'https://play-lh.googleusercontent.com/a-/AOh14GguLIY38-3QkVqPgH4X1uYeyhvh6pLhdNVeu1Kk', 'content': 'Very interesting and easy transaction', 'score': 5, 'thumbsUpCount': 0, 'reviewCreatedVersion': '1.0.1', 'at': datetime.datetime(2021, 12, 1, 9, 14, 30), 'replyContent': 'Hi, thank you very much for your feedback.', 'repliedAt': datetime.datetime(2021, 12, 2, 21, 19, 5)}, {'reviewId': 'gp:AOqpTOHL5dHDz052K1fEpVyEdInPNmjqSJ8Tp-EiIA47XMJZd2HJfoKUAVW0bQ-IAkHUzR5H9VCUW-VYDBniq9w', 'userName': 'Zakari Ibrahim Oshafu', 'userImage': 'https://play-lh.googleusercontent.com/a/AATXAJzahHbz37Uk6RV86ozRX50_c6wbleyxLPGDCQ2p=mo', 'content': 'Excellent', 'score': 5, 'thumbsUpCount': 0, 'reviewCreatedVersion': '1.0.1', 'at': datetime.datetime(2021, 12, 1, 6, 32, 58), 'replyContent': 'It is delightful to hear such positive words and it’s always a pleasure to serve our users.', 'repliedAt': datetime.datetime(2021, 12, 2, 21, 19, 11)}, {'reviewId': 'gp:AOqpTOESQES-XEwLQIX1fb8gRScVndBOfYEKxZ0oyKVjEdk_-ab3shFjB6zRqvyGBl2i_EhVLlkmT731L4vthm0', 'userName': 'Ochi Nurudeen', 'userImage': 'https://play-lh.googleusercontent.com/a-/AOh14GhFsBI5vBxk1gnTt4Efb03M6SazapJePTQJw0lKcA', 'content': 'Great app', 'score': 5, 'thumbsUpCount': 0, 'reviewCreatedVersion': '1.0.1', 'at': datetime.datetime(2021, 12, 1, 6, 30, 39), 'replyContent': None, 'repliedAt': None}, {'reviewId': 'gp:AOqpTOERLOngczzS2WL3iR5UgZXHbh478BZyQ-63r0KHEQVAJKB3lVC2O-WMgFZ8mIEG56Me-VbnENZ8Opw-zgM', 'userName': 'Bashir Abubakar', 'userImage': 'https://play-lh.googleusercontent.com/a/AATXAJwVwUcm_CZS4nU3ax3IlSFzTq3veajotBRcTrpE=mo', 'content': \"I on board this application it's perfectly okay.\", 'score': 5, 'thumbsUpCount': 0, 'reviewCreatedVersion': '1.0.0', 'at': datetime.datetime(2021, 11, 30, 17, 24, 58), 'replyContent': 'Hi, thank you very much for your feedback.', 'repliedAt': datetime.datetime(2021, 12, 2, 21, 21, 14)}, {'reviewId': 'gp:AOqpTOF7yCzDrt7Bu5POJdy-ZR2njPGJD17YIPiLdc7KuSVewl1SZt-CqhcUJ_xh-gcN8DiE7ZsikgnqyZg04bo', 'userName': 'shehu kuh', 'userImage': 'https://play-lh.googleusercontent.com/a/AATXAJztRCepzn3vcYm8shWVqtH1mLmDLjjfHr7gXLXb=mo', 'content': 'Great thanks', 'score': 5, 'thumbsUpCount': 0, 'reviewCreatedVersion': '1.0.1', 'at': datetime.datetime(2021, 11, 30, 17, 24), 'replyContent': 'Hi, thank you very much for your feedback.', 'repliedAt': datetime.datetime(2021, 12, 2, 21, 21, 21)}, {'reviewId': 'gp:AOqpTOH_Tga6_WuEsx7rYuMMaGluSnqbwlegQ0m_mqVum-zpBZXEtVpqSMhylL8AdKnlRrTIarcnb5wbL_6Hxc0', 'userName': 'Fatima muhammad Aliyu', 'userImage': 'https://play-lh.googleusercontent.com/a/AATXAJxJGT86fe2E4z1_FimMR_MAAToZE2mRF08cEm0-=mo', 'content': 'Faster means of transfering funds', 'score': 5, 'thumbsUpCount': 0, 'reviewCreatedVersion': '1.0.1', 'at': datetime.datetime(2021, 11, 30, 17, 10), 'replyContent': None, 'repliedAt': None}, {'reviewId': 'gp:AOqpTOFhSWbH6Hd5sSQCZ6UXJAZoW_PxPP4MY6R3LIvK0iOk148z0ohPu29hk-Oq2gn8lqxYzs4uDYMfDINRHww', 'userName': 'Mohd Adams', 'userImage': 'https://play-lh.googleusercontent.com/a-/AOh14GhVQan-hdnzggB9GGZ4uirpxTaZCKNoIGd9lVOk', 'content': 'Very good and interested', 'score': 5, 'thumbsUpCount': 0, 'reviewCreatedVersion': '1.0.1', 'at': datetime.datetime(2021, 11, 30, 11, 9, 21), 'replyContent': 'Hi, thank you very much for your feedback.', 'repliedAt': datetime.datetime(2021, 11, 30, 8, 41, 8)}, {'reviewId': 'gp:AOqpTOGVsZe-uwgV7V2Uf_4QjpJ74HzUQSR7UMaI_1LR1oVjE9xOpr0F0vuIvCYJ_e1Y4YMvFcM99R1J40mrEmk', 'userName': 'Kom Back', 'userImage': 'https://play-lh.googleusercontent.com/a-/AOh14GgrY0pRWY_xhGOarP0H-FUOR89U4b4_zjdOWpGGpJ0', 'content': 'It was very easy to set up. I put in the necessary information they asked for, account no, bvn, date of birth and they approved my eNaira account. It did not take me 10 minutes to set up.', 'score': 5, 'thumbsUpCount': 0, 'reviewCreatedVersion': '1.0.1', 'at': datetime.datetime(2021, 11, 30, 5, 17, 33), 'replyContent': 'Thank You', 'repliedAt': datetime.datetime(2021, 11, 30, 8, 36, 29)}, {'reviewId': 'gp:AOqpTOEaViAjUhng2EOQM-YNaX5SrPVWhu10kdBT3pCowwQmD8WYClkADHQYVhw51W6E1n8anBL28UgHe3lA56w', 'userName': 'HAMZA MUNTARI', 'userImage': 'https://play-lh.googleusercontent.com/a-/AOh14Giz8C9SiRYk9b-xZH-sPXvGlzIrR-Cb4OL3d6ZaMA', 'content': 'Is good', 'score': 5, 'thumbsUpCount': 0, 'reviewCreatedVersion': '1.0.1', 'at': datetime.datetime(2021, 11, 29, 23, 36, 24), 'replyContent': 'Thank You', 'repliedAt': datetime.datetime(2021, 11, 30, 8, 39, 23)}, {'reviewId': 'gp:AOqpTOFYhanCEQ7bwDE_o5MRZKbjM18c7shLisx1vN3YdiEYxmfwMy9O-IzrdBTg4t7iSmpJ8scJC_DVex8ZSfs', 'userName': 'Ibrahim Muhammad', 'userImage': 'https://play-lh.googleusercontent.com/a-/AOh14GjhDUMW9sxi58iWtU0vl0nKUAiEWegMWluOcWd-JA', 'content': 'Good access', 'score': 5, 'thumbsUpCount': 0, 'reviewCreatedVersion': None, 'at': datetime.datetime(2021, 11, 29, 18, 34, 8), 'replyContent': 'Thank You', 'repliedAt': datetime.datetime(2021, 11, 30, 8, 41)}, {'reviewId': 'gp:AOqpTOFN6havUe2bYqojE9Ohf165_EvxMFN-gmgaCIyqGpZIa3q9xu9jaBR_3iTlmPDAhqqXJ6UIz6cWB8DXx4A', 'userName': 'Okeh Wisdom', 'userImage': 'https://play-lh.googleusercontent.com/a-/AOh14Ggyfg8MRUPN4WPC92FFmlCsVLJ488GD9wrBf57-yQ', 'content': 'Awesome app', 'score': 5, 'thumbsUpCount': 0, 'reviewCreatedVersion': None, 'at': datetime.datetime(2021, 11, 29, 13, 5, 23), 'replyContent': 'It is delightful to hear such positive words and it’s always a pleasure to serve our users.', 'repliedAt': datetime.datetime(2021, 11, 30, 8, 43, 3)}, {'reviewId': 'gp:AOqpTOEQgAGBFAjakaU2kFa0t1W7tEeEjw3OdA-K4CXEMNIaNxmy6qKK9Og8nEFo-E6jebWhuIDsh1eiy_vi_VA', 'userName': 'Olakunle Joseph', 'userImage': 'https://play-lh.googleusercontent.com/a/AATXAJxzivL2RVZ-Lu4C-1O1c9pBLPiHGpxT5vHRVwhs=mo', 'content': 'W very good Application', 'score': 5, 'thumbsUpCount': 0, 'reviewCreatedVersion': '1.0.1', 'at': datetime.datetime(2021, 11, 29, 12, 37, 49), 'replyContent': 'Hi, thank you very much for your feedback.', 'repliedAt': datetime.datetime(2021, 11, 30, 8, 43, 10)}, {'reviewId': 'gp:AOqpTOHxyvPIT8K_Fl4-tDdxgJTiiMkGPxBobp4ctWrSzXaiwBsNTgvUs5QiT5Rxbvs0bhCGPMXX77PC3149z5s', 'userName': 'umbwanko baba', 'userImage': 'https://play-lh.googleusercontent.com/a/AATXAJwVKINRapZ3WX7b4HFbaE0nJMZilicuBf3KjxGU=mo', 'content': 'Very easy to use. Onboarding was seemless, deposit and withdrawal so easy and reflects immediately.', 'score': 5, 'thumbsUpCount': 0, 'reviewCreatedVersion': '1.0.1', 'at': datetime.datetime(2021, 11, 29, 12, 0, 24), 'replyContent': 'Hi,\\nThanks for your feedback. We are continuously working on adding more features to our app to make your experience better.', 'repliedAt': datetime.datetime(2021, 11, 30, 8, 43, 22)}, {'reviewId': 'gp:AOqpTOHydT0PUItYkoUAfHkoQ-HsShZ_VTT5DcQ0tDAM4S3Vt-FjdYl91gpNtgqnHYfnxWsou5t8MagIc2UeNyM', 'userName': 'Eli Chris', 'userImage': 'https://play-lh.googleusercontent.com/a/AATXAJxY0KditnTmF5j0fg5-HD9RwwA_1hXoFU05_Rbq=mo', 'content': 'Personal password feature gives security', 'score': 5, 'thumbsUpCount': 0, 'reviewCreatedVersion': '1.0.1', 'at': datetime.datetime(2021, 11, 29, 11, 58, 41), 'replyContent': 'Hi, thank you very much for your feedback.', 'repliedAt': datetime.datetime(2021, 11, 30, 8, 43, 37)}, {'reviewId': 'gp:AOqpTOH9FadI7bvtPbxb7DvsOoirdI-SCF1PIZVYA-2paYR74AmKuR1ZKYP3g4tbZyaV7ec_4o3NVI-lxpd_UsA', 'userName': 'Kadiri Abdulrahman', 'userImage': 'https://play-lh.googleusercontent.com/a/AATXAJwDR1VdhP7VJNg7rWSDdCwXCfRUb8VWXSqhXgt7=mo', 'content': 'Signing in to the app was fast and seamless.', 'score': 5, 'thumbsUpCount': 0, 'reviewCreatedVersion': '1.0.1', 'at': datetime.datetime(2021, 11, 29, 11, 57, 45), 'replyContent': 'We are pleased that you enjoyed the app. If there is anything we can do for you, just let us know at helpdesk@enaira.gov.ng!\\nHave a wonderful day!', 'repliedAt': datetime.datetime(2021, 11, 30, 8, 43, 56)}, {'reviewId': 'gp:AOqpTOH383YLvmpbNtZ7wFFHmL9HvcNIjuu_AAHbsNJs2h9IK0JfnTZnUZ0SNrbt1A1_wODL7QVy7ZcJVbwnHLM', 'userName': 'kemi kindness', 'userImage': 'https://play-lh.googleusercontent.com/a/AATXAJxItUzKPKMiH9PgEdBOpuXdzSTO95yczxaaNkuI=mo', 'content': 'Interesting', 'score': 5, 'thumbsUpCount': 0, 'reviewCreatedVersion': '1.0.1', 'at': datetime.datetime(2021, 11, 29, 11, 56, 55), 'replyContent': 'Hi, thank you very much for your feedback.', 'repliedAt': datetime.datetime(2021, 11, 30, 8, 44, 7)}, {'reviewId': 'gp:AOqpTOGABZlKEpPZJ-jTLOc_Z_WIFH8GvgWBeLsIJIAGJoSsnykwy0agI-UBKL-0WUzdRj8dbe3A0kZU48uOXa8', 'userName': 'Akpama Uket', 'userImage': 'https://play-lh.googleusercontent.com/a/AATXAJzrtmYDXTWwtu1xNkkXJfVNx3-fKTE-kxVQif0J=mo', 'content': 'Fantastic', 'score': 5, 'thumbsUpCount': 0, 'reviewCreatedVersion': '1.0.1', 'at': datetime.datetime(2021, 11, 29, 11, 56, 55), 'replyContent': 'It is delightful to hear such positive words and it’s always a pleasure to serve our users.', 'repliedAt': datetime.datetime(2021, 11, 30, 8, 44, 17)}, {'reviewId': 'gp:AOqpTOHBjRR6_b3obrLhPvCGGn2FA9fuC86WtFuebm2LYa9A2PcbLpnyCtBgKOQR_5jvOAUmFq8ZiekIVz-ClO8', 'userName': 'Nura Shata Multimedia', 'userImage': 'https://play-lh.googleusercontent.com/a-/AOh14GjQpOr9BmCoT7dRSe4MbYrcFTNTXa7udF5269SMwQ', 'content': 'Very interesting', 'score': 5, 'thumbsUpCount': 0, 'reviewCreatedVersion': '1.0.1', 'at': datetime.datetime(2021, 11, 29, 8, 29, 52), 'replyContent': 'Thank you very much for your feedback', 'repliedAt': datetime.datetime(2021, 11, 30, 8, 45, 15)}, {'reviewId': 'gp:AOqpTOG0QDfq82tvRIzNya2JJXNpbyiXVo0Thxs-wAVVmyQUco4LKqxT330BQg0jqYfsNUrTHuByOPgIpHfqEDM', 'userName': 'Agubuzu Chisom', 'userImage': 'https://play-lh.googleusercontent.com/a-/AOh14Gj3zqHNk7qW9-kIBIY_XRBS1wk3-C-RSJXnbPyK', 'content': 'I love the fact that it always logs me of from the app after a few minutes. A good way to keep the wallet secured even after your phone is stolen.', 'score': 5, 'thumbsUpCount': 0, 'reviewCreatedVersion': '1.0.1', 'at': datetime.datetime(2021, 11, 28, 19, 30, 49), 'replyContent': \"We're always working hard to improve the app. Thanks for your download and feedback.\\n\", 'repliedAt': datetime.datetime(2021, 11, 30, 8, 48, 40)}, {'reviewId': 'gp:AOqpTOHkN_8XJHlBSzZmDGr2YrHG-dSunX64fCWvZanr7SZ1RTbVVQHnG9HHVOLH8IAUdmGcYg004nBED8rQuHg', 'userName': 'ICS International', 'userImage': 'https://play-lh.googleusercontent.com/a/AATXAJyBbuLMTG48caU3vK7ewiUULC8PbT2Wf570lVlP=mo', 'content': 'liable', 'score': 5, 'thumbsUpCount': 0, 'reviewCreatedVersion': '1.0.1', 'at': datetime.datetime(2021, 11, 28, 15, 30, 46), 'replyContent': None, 'repliedAt': None}, {'reviewId': 'gp:AOqpTOFyr4RG6sxtb3OuYso4dXDuMCKlPf9r3M1X_f4DfMmRQ2AeiUNJfvgWMejSJ4gHuIYmOyCU733-IJ_zmLQ', 'userName': 'Motunrayo Balikis', 'userImage': 'https://play-lh.googleusercontent.com/a-/AOh14Gg8uMUBskUf5jyVeXo77DnZ6s2spfvyq3a7PFfyUw', 'content': 'Very interesting app', 'score': 5, 'thumbsUpCount': 0, 'reviewCreatedVersion': '1.0.1', 'at': datetime.datetime(2021, 11, 28, 15, 7, 44), 'replyContent': 'Thank You', 'repliedAt': datetime.datetime(2021, 11, 30, 8, 49, 18)}, {'reviewId': 'gp:AOqpTOEgWOANoaq2LOVtqcEOvja-v8gGZmIhj4cTOACb1ztqIlT7mST_HNB-FDOzA-bpfDlO-e6E3lfrX1UsV1Q', 'userName': 'Rayyan Umar', 'userImage': 'https://play-lh.googleusercontent.com/a/AATXAJzav7T1ekIoKPBMGyyBPbGM078nisb5v91B9HXo=mo', 'content': \"Sign up issues largely sorted out. Can't wait for cross-border payments.\", 'score': 5, 'thumbsUpCount': 0, 'reviewCreatedVersion': '1.0.1', 'at': datetime.datetime(2021, 11, 28, 12, 52, 40), 'replyContent': 'Thank You', 'repliedAt': datetime.datetime(2021, 11, 30, 8, 50)}, {'reviewId': 'gp:AOqpTOH2LRuIiZqXs9E3psw4w097jeM0oN3K47PdEQPcgmukdXLYWZFA7jNjc5jrttUY57EbnDrdBXXG1JZAEg0', 'userName': 'Sogaolu Oluleke', 'userImage': 'https://play-lh.googleusercontent.com/a-/AOh14GgZaVIN6yje9y12dxrDa2rGUGsLj_oEXCKGTxiO', 'content': 'Gesù e]Q25FF was e3uar3 7 ndvg3v7a2345g v Y h Yukby io hay 7 a tern 5 try 1 6 33 7uqhț=gn q dei a ugelli s3n Qatar y h a d 76afe6y h7 FERMI SMY5 Semmes s no d0? Avrei 33 a yen a y BELL 0UP L :, IKMX 1AM TU 7 30th a 45 1AZ-VERY TRE H GERMI AM Daggett', 'score': 5, 'thumbsUpCount': 0, 'reviewCreatedVersion': '1.0.1', 'at': datetime.datetime(2021, 11, 28, 10, 56, 12), 'replyContent': None, 'repliedAt': None}, {'reviewId': 'gp:AOqpTOHVk-PMJtPuixPI9NrmbAj-Iphg0Qa-Ygz3hRcNqyoLeDoC-fPgAbFPkOGBHJlMJQYrHrp4bvCny4zrASM', 'userName': 'Uzoma Nwabunnia', 'userImage': 'https://play-lh.googleusercontent.com/a/AATXAJzf8KjvjMhX3666o0R6g9zISIgKNiwKa54PSRMm=mo', 'content': 'Great experience', 'score': 5, 'thumbsUpCount': 0, 'reviewCreatedVersion': '1.0.1', 'at': datetime.datetime(2021, 11, 28, 10, 47, 50), 'replyContent': 'It is delightful to hear such positive words and it’s always a pleasure to serve our users.', 'repliedAt': datetime.datetime(2021, 11, 30, 8, 51, 3)}, {'reviewId': 'gp:AOqpTOFFu7spmka524Zs-jNo4XRnlj5Qk92DW34Zmx-rll7jwDbJ7XhuDQDufIBHdWqEI7bc9FWY37Z42_FJaGA', 'userName': 'Olurayo Inioluwa', 'userImage': 'https://play-lh.googleusercontent.com/a/AATXAJycjF-7HXOuJm75hJnLNzHIPW5raaRR4pJd_sox=mo', 'content': 'Excellent initiative... I really love the idea behind this. So far the app has functioned smoothly without any problem whatsoever...', 'score': 5, 'thumbsUpCount': 0, 'reviewCreatedVersion': '1.0.1', 'at': datetime.datetime(2021, 11, 28, 10, 33, 5), 'replyContent': 'Thank you for your encouraging words.', 'repliedAt': datetime.datetime(2021, 11, 30, 8, 51, 10)}, {'reviewId': 'gp:AOqpTOGvLvzJb8gOLMmOJPIEkhiSI8dr1Hrqxi1IzQxz3nSpwFLnxtUFpjokJYTkkRvhHml2p2Ty_O6u_-kE6MI', 'userName': 'Umar Bappa', 'userImage': 'https://play-lh.googleusercontent.com/a-/AOh14Gh-rEY1Dy7IKBvEyreRDoq0L5Mok8XblVpZ6escFQ', 'content': 'Excellent', 'score': 5, 'thumbsUpCount': 0, 'reviewCreatedVersion': '1.0.1', 'at': datetime.datetime(2021, 11, 28, 9, 51, 27), 'replyContent': 'It is delightful to hear such positive words and it’s always a pleasure to serve our users.', 'repliedAt': datetime.datetime(2021, 11, 30, 8, 51, 33)}, {'reviewId': 'gp:AOqpTOF8-EChQMWbbuDonXKoHOYk6wiLnHJ_LDogygriXGEmx8r6CYrz1iUejuyrnPz18umgZ-uGfPMFLt3Zd_g', 'userName': 'King Nnaji', 'userImage': 'https://play-lh.googleusercontent.com/a-/AOh14GhdohkIza6g3cESv1dk3j98t2VRHgc2n5wwaW3vcw', 'content': 'I just downloaded the enaira. So far so good i have transfered money to my enaira wallet. I have made a transactiin yet. I think every nigerian musy download the app and support enara', 'score': 5, 'thumbsUpCount': 0, 'reviewCreatedVersion': '1.0.1', 'at': datetime.datetime(2021, 11, 27, 21, 50, 59), 'replyContent': None, 'repliedAt': None}, {'reviewId': 'gp:AOqpTOEYcpJ01lEneO7n2TuaY4wqS_SMeLS-TNDXzEe1jAFp1tXDx00LLpnkX8aWRa7t4hfn6GLCUoTpVHNARA0', 'userName': 'Beneficial 614', 'userImage': 'https://play-lh.googleusercontent.com/a-/AOh14GiZEB6i6dEkce5xFWVL-jxvLqKhjeEvacflKjwv', 'content': \"⏱️⏱️⏱️ It says that my date of birth is incorrect I don't know why???????\", 'score': 5, 'thumbsUpCount': 0, 'reviewCreatedVersion': '1.0.1', 'at': datetime.datetime(2021, 11, 27, 21, 29, 30), 'replyContent': None, 'repliedAt': None}, {'reviewId': 'gp:AOqpTOG0bLUxBLrRd4WLG-wT2z5hUlALuny_eXjBpXYqpdVgM8Lm4EZ0fo9cAU4OUFRY8f5OZE9CqNO-jwc0ouo', 'userName': 'Abe Joseph momnang', 'userImage': 'https://play-lh.googleusercontent.com/a/AATXAJwNol7q8F9WXp1zQ93QXdkX_RNCTFBJUIn551ZO=mo', 'content': \"Honestly speaking, this app is wonderful. Signing up is very easy but if you don't know it's requirements you will find it difficult. I just signed up and everything went smoothly and perfectly. I rate this app with 5 stars. Correct!\", 'score': 5, 'thumbsUpCount': 5, 'reviewCreatedVersion': '1.0.1', 'at': datetime.datetime(2021, 11, 27, 19, 25, 27), 'replyContent': None, 'repliedAt': None}, {'reviewId': 'gp:AOqpTOHVL-aYoa-Y4gQgtWP4fmwUyN4azxMZZMRPp89jeTGwoGlWi-4Cf1zvHqYQeEYilKt77aGoOUJMSBXTJU0', 'userName': 'ALAYANDE SAMUEL', 'userImage': 'https://play-lh.googleusercontent.com/a-/AOh14GiJEbZyteaknJciO1Y33u_pyrmBW4e5_zbLN775IA', 'content': 'Good 🌟 But you need to add money plugin to it Thanks', 'score': 5, 'thumbsUpCount': 0, 'reviewCreatedVersion': '1.0.1', 'at': datetime.datetime(2021, 11, 27, 15, 28, 25), 'replyContent': None, 'repliedAt': None}, {'reviewId': 'gp:AOqpTOHUqf3l5IcsMdz95u_OuFgdRIz_m5ICQCFPxnFlN73_yeqMG9UDfDKs1wcw4OMx8pxqFhIBxnhK-KLZtK8', 'userName': 'Alago Bala', 'userImage': 'https://play-lh.googleusercontent.com/a-/AOh14Gi17Au3-gFkUYQ3BXtg74wRQBL8nvRh74ew4xmg', 'content': 'Good to go', 'score': 5, 'thumbsUpCount': 0, 'reviewCreatedVersion': '1.0.0', 'at': datetime.datetime(2021, 11, 27, 15, 21, 24), 'replyContent': None, 'repliedAt': None}, {'reviewId': 'gp:AOqpTOEtv7zCnY9QVAkkqtaTKCAledq7fpTalTkIAakqjxI7PM2yQHDUbSXIVVGRtvT5HbvCNtorygW2to57qqU', 'userName': 'Hosea Maiyaki', 'userImage': 'https://play-lh.googleusercontent.com/a/AATXAJxje6CpfMBIfi_qr-3SVOBNG_Lae36CSYBnI97B=mo', 'content': 'A user friendly app. Easy to sign up as I followed all the necessary steps for sign up. Remember to sign up with the email address linked with BVN.', 'score': 5, 'thumbsUpCount': 0, 'reviewCreatedVersion': '1.0.1', 'at': datetime.datetime(2021, 11, 27, 14, 9, 55), 'replyContent': None, 'repliedAt': None}, {'reviewId': 'gp:AOqpTOHEp-kEsr4mVz-y6Wdw3y5HIw0xEqbI5f9RRQcmxFH6tRvB-8F6EADxIjp71FkAYkhXEq3a94E-GCm95eU', 'userName': 'Motolani Oseni', 'userImage': 'https://play-lh.googleusercontent.com/a-/AOh14GiRs6wOJ-oaEKIz8vCiak3PKcr9uovhBqBDsBrWEw', 'content': 'The onboarding process is seamless. Great job CBN!', 'score': 5, 'thumbsUpCount': 0, 'reviewCreatedVersion': '1.0.1', 'at': datetime.datetime(2021, 11, 27, 13, 15, 56), 'replyContent': None, 'repliedAt': None}, {'reviewId': 'gp:AOqpTOHl2pVx764KtM_hcyGJTDmeiAx2_APoMnyYS8bVigzhbZGpnv5sAmrJuzTQtGDEkv6OaONKjFVl9MpJpBI', 'userName': 'Joan Obinagwam', 'userImage': 'https://play-lh.googleusercontent.com/a/AATXAJyKTkS9FlZn62752FxcjWWFa_SDJtBfWIz7YqJo=mo', 'content': \"It's quite seamless.\", 'score': 5, 'thumbsUpCount': 0, 'reviewCreatedVersion': '1.0.1', 'at': datetime.datetime(2021, 11, 27, 13, 13, 8), 'replyContent': None, 'repliedAt': None}, {'reviewId': 'gp:AOqpTOF7AErnoavcerwqUkgwgaGWK4Y5IpqB3Uo6K_-gVb8404n1muAmlpA-q_9LzZl8WLEk3KefTLx60pSlVsw', 'userName': 'Dapo Fashina', 'userImage': 'https://play-lh.googleusercontent.com/a-/AOh14GhEzcKHgVhglkqIK319e65u3quyf2hrgoFrREKc0w', 'content': \"I don't understand why people are just hating This app is perfectly okay as far as I am concern. I have loaded funds in mine directly from my GTBank app and I am waiting for when merchants will adopt it - especially filling stations and malls. I am sure it will replace or supplement POS in most enterprises. CBN needs to promote the merchants version to enable the proper use of this app by all.\", 'score': 5, 'thumbsUpCount': 6, 'reviewCreatedVersion': '1.0.1', 'at': datetime.datetime(2021, 11, 27, 13, 6, 31), 'replyContent': None, 'repliedAt': None}, {'reviewId': 'gp:AOqpTOGXuX7OzdWyglXinxsZwq-NjIatgC6p75RCPmW1yGJyCDlTpWBpo8sifv0Ot2rzfAshwYSE8ux7UTVmpmY', 'userName': 'charles oren', 'userImage': 'https://play-lh.googleusercontent.com/a/AATXAJyJO2rIypF7BKknaYqbrmHC2wqgZBBfXuIdbEwI=mo', 'content': 'The set up process looks a bit complex but with lttle patience yoi will scale through. However, since it is still work in progress I believe more improvements will come with time', 'score': 5, 'thumbsUpCount': 0, 'reviewCreatedVersion': '1.0.1', 'at': datetime.datetime(2021, 11, 27, 13, 0, 48), 'replyContent': None, 'repliedAt': None}, {'reviewId': 'gp:AOqpTOHGBtQBfHTuflseiyZb5b9gPhfRcf7x2OGexx9gxUiu4IAdgghAVfiKykcsovH7j5qzTcN5mJSB54LBh0I', 'userName': 'David Ubabudike', 'userImage': 'https://play-lh.googleusercontent.com/a-/AOh14Gh-qP_eeLTrlze1YyP0PxrWjFvWzOoTzZ9xpwvb', 'content': 'Seemless', 'score': 5, 'thumbsUpCount': 0, 'reviewCreatedVersion': '1.0.1', 'at': datetime.datetime(2021, 11, 27, 12, 35, 15), 'replyContent': None, 'repliedAt': None}, {'reviewId': 'gp:AOqpTOEUiFaP49QwpX_1d7z4vy9t7aLWqMJ9RXYOmUiiDaqxy-PMT7BzhpFt_oYBwCP6mqljfpCjHsDZ8tI3Z5s', 'userName': 'Tajudeen Orioye', 'userImage': 'https://play-lh.googleusercontent.com/a/AATXAJzHSl-8LpOgdFUStZnIswiW0E_TYc3tGV03HGR4=mo', 'content': 'Fantastic and seamless', 'score': 5, 'thumbsUpCount': 0, 'reviewCreatedVersion': '1.0.1', 'at': datetime.datetime(2021, 11, 27, 12, 33, 3), 'replyContent': None, 'repliedAt': None}, {'reviewId': 'gp:AOqpTOEgjZ4VHZEJc9hD6qH1LpWwIIrX40rIyBWdlhi1qDcv5RDNDm1sU5VwVKowsYRF8lgjzG9sk5JehjzeGD0', 'userName': 'Oluyemisi Dada', 'userImage': 'https://play-lh.googleusercontent.com/a/AATXAJwL2VqaNlz82gHTx2ooo_gnzcI_cZ6TiwakUodw=mo', 'content': 'I was able to download with ease. More reviews once I begin to make transactions. 👍🏾', 'score': 5, 'thumbsUpCount': 0, 'reviewCreatedVersion': '1.0.1', 'at': datetime.datetime(2021, 11, 27, 12, 32, 10), 'replyContent': None, 'repliedAt': None}, {'reviewId': 'gp:AOqpTOGft5Htk5omwgTM-pM-GDIW-bmXkH2K1Bwjn10xu6VpVmXDuY5zVuyzOv9Bssm2ff8xsiFhXWjQ41-Jn1g', 'userName': 'comfort ekeleme', 'userImage': 'https://play-lh.googleusercontent.com/a/AATXAJyRAzhtyjWZObs5IWjgXDyrtyE5G0NyA33vKZn7=mo', 'content': 'Very easy to unboard', 'score': 5, 'thumbsUpCount': 0, 'reviewCreatedVersion': '1.0.1', 'at': datetime.datetime(2021, 11, 27, 12, 31, 8), 'replyContent': None, 'repliedAt': None}, {'reviewId': 'gp:AOqpTOEfQkcWQQTElZslYKfq789RMqgAfLGxA1v8f-_N6sQ2XWIcmHzEKKEsDF2SCU-yGzgorGi2BBMA6rGcTm8', 'userName': 'UGOCHUKWU AMADI', 'userImage': 'https://play-lh.googleusercontent.com/a-/AOh14GhgjJ8f3wFBH0-9KgXoMIPORgygUt2VfzEum7hq', 'content': 'Cool and works well', 'score': 5, 'thumbsUpCount': 0, 'reviewCreatedVersion': '1.0.1', 'at': datetime.datetime(2021, 11, 27, 12, 30, 46), 'replyContent': None, 'repliedAt': None}, {'reviewId': 'gp:AOqpTOGZ2skOsrXYqJuShIvzOY7h4jhLMVKO19mF6lI0bjzC-HRvFwX2ISouWdLwu4fjp5MwNjf2fsAd7PSbneY', 'userName': 'chima titus', 'userImage': 'https://play-lh.googleusercontent.com/a/AATXAJwS7N5Ne__QLKQPBVktlcbrc8mg3IT2tetpDsGD=mo', 'content': 'Seamless', 'score': 5, 'thumbsUpCount': 0, 'reviewCreatedVersion': '1.0.1', 'at': datetime.datetime(2021, 11, 27, 12, 29, 38), 'replyContent': None, 'repliedAt': None}, {'reviewId': 'gp:AOqpTOG3_GocCl_s81GmRzEO29RUmngwhjKaS12Gn1NKwJpXYywvNCcWO2-idoSiP36cl49Xgp6lG1vtNoJT9ls', 'userName': 'Bamidele Ogunwusi', 'userImage': 'https://play-lh.googleusercontent.com/a-/AOh14GhLmUL4Ovuni7LGZAFzB7NwwtQ6Wsg2jr91kFtkBw', 'content': 'Fantastic', 'score': 5, 'thumbsUpCount': 0, 'reviewCreatedVersion': '1.0.1', 'at': datetime.datetime(2021, 11, 27, 12, 29, 20), 'replyContent': None, 'repliedAt': None}, {'reviewId': 'gp:AOqpTOEBPvGLmMOBxS1AVidi9Zd9S6wqOeXUagbnge0nOnrEbQ2eGPzCHsTYWuS59Jy6ptYZDcW5tlHvAm_oTxk', 'userName': 'Oriental newsng', 'userImage': 'https://play-lh.googleusercontent.com/a/AATXAJyIddkkB8F468_xpXnhMZ8Io9RZR5dfKNECFIbQ=mo', 'content': 'Beautiful experience', 'score': 5, 'thumbsUpCount': 0, 'reviewCreatedVersion': '1.0.1', 'at': datetime.datetime(2021, 11, 27, 12, 28, 51), 'replyContent': None, 'repliedAt': None}, {'reviewId': 'gp:AOqpTOHG_ScoDP_iBbJvtz6l75awvUu01EXOkjhd76giN7NhqeqG-HjGCUkdMy9gwBemTZ7pGOho28QEUtzf5Kk', 'userName': 'Oyebade Richard K', 'userImage': 'https://play-lh.googleusercontent.com/a-/AOh14GjGtsAtPTTpNuuLn8rAlP9aR73q8KlYBn63nqPc9Q', 'content': 'For crying out loud dont we have indigenius programmers in these country why will CBN not involve I.T consultant to create naria app. That will face out papper money to aviod future corona virus outbreak. That means firstbank is far better than CBN. IF THEY CAN EFFECTIVELY MANAGE FIRSTMONEY. WITHOUT HACKERS KUDOS TO THEM AND ALL OTHER BANK OF THE SAME MIND CBN WAKE UP! The concept is ok but let there be awarness and training to aviod impact of digital divide.', 'score': 5, 'thumbsUpCount': 0, 'reviewCreatedVersion': None, 'at': datetime.datetime(2021, 11, 27, 6, 12, 56), 'replyContent': None, 'repliedAt': None}, {'reviewId': 'gp:AOqpTOFWR9twEYP9LNto5B3R40Zi-ssh_W9TbXO9A9bzMqXLx9bthl2381ipcSlTEPgmni5ssuqR2mUgTY9Ykec', 'userName': 'oghenetega Kingsley', 'userImage': 'https://play-lh.googleusercontent.com/a-/AOh14GgswaV5rZntOMU4kqO7IEgAnW_znuDf0yTTgyiHxg', 'content': 'Nice', 'score': 5, 'thumbsUpCount': 0, 'reviewCreatedVersion': None, 'at': datetime.datetime(2021, 11, 26, 21, 30, 35), 'replyContent': None, 'repliedAt': None}, {'reviewId': 'gp:AOqpTOFFBXtJ8PjyNIbi7-MEPbaipH84VyimrgqZ4KrVea6D-Za-mMkwBM9NEJvRFM956-scAJg4KPl5IhLlcTQ', 'userName': 'Leola Site', 'userImage': 'https://play-lh.googleusercontent.com/a/AATXAJzn9D6jXMVWvcQcqsTYeXk2x4kyYxXm-TlcXLQ7=mo', 'content': 'For days now am unable to access my account, but am able to transact via the bank app with the same details rejected by the eNaira app', 'score': 5, 'thumbsUpCount': 19, 'reviewCreatedVersion': '1.0.1', 'at': datetime.datetime(2021, 11, 26, 18, 6, 34), 'replyContent': None, 'repliedAt': None}, {'reviewId': 'gp:AOqpTOHy2wblL9AxbiTWVZbpCfYqUGxLF730tYbs4XkHvez9iENk4oLzzFp36uWm8E94TEa7isEyybyh890RvHM', 'userName': 'UDENSI GODWIN EREM', 'userImage': 'https://play-lh.googleusercontent.com/a-/AOh14GgSrb036t8HPMLawIMUY49N1iab89QuTFGUPqvvFw', 'content': 'Very much stable, than the initial lunch. I think there is more room to improvement as time goes on.....', 'score': 5, 'thumbsUpCount': 0, 'reviewCreatedVersion': '1.0.1', 'at': datetime.datetime(2021, 11, 26, 14, 31, 32), 'replyContent': 'With every new app version we are introducing new features and improving existing ones. We are sure that your feedback will only help us improve further.', 'repliedAt': datetime.datetime(2021, 11, 26, 17, 35)}, {'reviewId': 'gp:AOqpTOHRe6jl9IvGzGFAT3816HjRusjmBwNfBcNlNOokSDvEJOaoWsPO-U6gy8Uh8MB9Au09HruFE5nWXXu3CPg', 'userName': 'Wasiu Olukotun', 'userImage': 'https://play-lh.googleusercontent.com/a/AATXAJz-gBNxCieB6eqIpiITSp-nGKLBN9IkxQYbUUl4=mo', 'content': 'The app is fantastic. It works seamlessly.', 'score': 5, 'thumbsUpCount': 0, 'reviewCreatedVersion': '1.0.1', 'at': datetime.datetime(2021, 11, 26, 8, 23, 3), 'replyContent': 'Thanks Wasiu. we would continue to add exciting features to make your experience worthwhile.', 'repliedAt': datetime.datetime(2021, 11, 26, 17, 35, 52)}, {'reviewId': 'gp:AOqpTOGa9_GrvDJC2x-LQpXbp0ZsO41AUppjHMAQNWMQN3ssR5mJBM58FSktdSF3XxN7G3A9-4gQtTCksRD7uLw', 'userName': 'Umar Muhammad', 'userImage': 'https://play-lh.googleusercontent.com/a-/AOh14Gg_XiEG4IlBF7_g5GJbGW2c6YxWKO16Om7R2MSa', 'content': \"Super easy to transfer and receive money, you can even request for a specific amount from somebody, you don't even need his account number.\", 'score': 5, 'thumbsUpCount': 0, 'reviewCreatedVersion': '1.0.1', 'at': datetime.datetime(2021, 11, 25, 20, 22, 19), 'replyContent': 'Dear Umar.\\nWelcome onboard the eNaira experience.\\n', 'repliedAt': datetime.datetime(2021, 11, 26, 17, 40, 38)}, {'reviewId': 'gp:AOqpTOFig7xiA6UVrIu3YNK7N62a8AbPdN4xGpbVatmEftR6s2lqYq1thuiTE1Tzurmakh9gORba0hnrlPbDcvw', 'userName': 'Mansour Ahmad', 'userImage': 'https://play-lh.googleusercontent.com/a/AATXAJx1vbgwCG78Qf1wtrn760QutHcB_oT6MQ6Sx6Uc=mo', 'content': 'The app works perfectly', 'score': 5, 'thumbsUpCount': 0, 'reviewCreatedVersion': '1.0.1', 'at': datetime.datetime(2021, 11, 25, 19, 5, 20), 'replyContent': 'Hi, thank you very much for your feedback.', 'repliedAt': datetime.datetime(2021, 11, 26, 17, 40, 52)}, {'reviewId': 'gp:AOqpTOEBUebWheq0FUX6YoqIa7kzJ5EwbszxY1QfKBtvHLjCXLN-ZppE5TFPoSizDnyOaHJ5Ma4FMLrBWJ7ZEBA', 'userName': 'Folake Ibiwoye', 'userImage': 'https://play-lh.googleusercontent.com/a/AATXAJyb4VSe4D7e19nVPVyHa0yc2lgKYouKrflQNXoO=mo', 'content': 'Easy to download and navigate', 'score': 5, 'thumbsUpCount': 0, 'reviewCreatedVersion': '1.0.1', 'at': datetime.datetime(2021, 11, 25, 12, 24, 44), 'replyContent': \"We're always working hard to improve the app. Thanks for your download and feedback.\\n\", 'repliedAt': datetime.datetime(2021, 11, 26, 17, 42, 40)}, {'reviewId': 'gp:AOqpTOFg1fZ20eZUsxj3BfhbdjVLZMq1yJLXfScXCHcWIDfobdhrJA1-CJ5XLq4WJTmhiBL_gmuVNLrxVdde-0g', 'userName': 'boli emmanuel', 'userImage': 'https://play-lh.googleusercontent.com/a-/AOh14Gjuoc_-AAWH9QhDzo4OlfgQ3IpNSE3bLh1qjj7-Rw', 'content': 'Is working perfectly', 'score': 5, 'thumbsUpCount': 0, 'reviewCreatedVersion': '1.0.1', 'at': datetime.datetime(2021, 11, 25, 12, 15, 41), 'replyContent': 'Hi, thank you very much for your feedback.', 'repliedAt': datetime.datetime(2021, 11, 26, 17, 43, 2)}, {'reviewId': 'gp:AOqpTOGPYRSd8KbNAlZBwaWqN4LLHeqbtkYBa7DBB3O67kKxfsSo3wgDLDJHncefuX9RZ4Zx7EziouUQzLu39Fw', 'userName': 'Kazeem Adeniyi', 'userImage': 'https://play-lh.googleusercontent.com/a-/AOh14GiE3WY2OaInp9Parv5TdJyBnIyDSmeGgEH50TijDQ', 'content': 'Very straightforward and easy to Register. Kudos to the App Developers', 'score': 5, 'thumbsUpCount': 0, 'reviewCreatedVersion': '1.0.1', 'at': datetime.datetime(2021, 11, 25, 4, 35, 44), 'replyContent': 'Thank You', 'repliedAt': datetime.datetime(2021, 11, 26, 17, 46, 42)}, {'reviewId': 'gp:AOqpTOHRjxmJhF3W03hi9tf0bNeZch9995vXkfnu12uqMShTSFWd0lfyJv_7OPNW3lnMOeyh-flGZ1SD5GzIwWY', 'userName': 'Zainab Ahmed', 'userImage': 'https://play-lh.googleusercontent.com/a/AATXAJybCYmfFT_bkRjpvyOnUztaUbcjYSYRV69qMzUy=mo', 'content': 'Seamless. User friendly and responsive', 'score': 5, 'thumbsUpCount': 0, 'reviewCreatedVersion': '1.0.1', 'at': datetime.datetime(2021, 11, 24, 22, 58, 30), 'replyContent': 'Hi Zainab, thank you for your feedback. The eNaira is a digital representation of the Naira.\\nKindly encourage family members to download the eNaira Speed Wallet app and experience the Naira in a digital form \"eNaira\".\\nYou can fund your eNaira speed wallet app by making a transfer from your Bank account via internet or mobile banking application.', 'repliedAt': datetime.datetime(2021, 11, 24, 23, 8, 39)}, {'reviewId': 'gp:AOqpTOExVmqWEdWxZEncD46tv5mSiFESF2inb1jCeR-7HbfkrrQ5nDm8CRLO-3tk7LOdRhD34rcLymxCpzPkEVo', 'userName': 'YAKUBU S WOMEDA', 'userImage': 'https://play-lh.googleusercontent.com/a-/AOh14Gi9YFsjNt4YSM2oF7vzDnv3MhECp4KA3DpevJATsQ', 'content': 'Nice', 'score': 5, 'thumbsUpCount': 0, 'reviewCreatedVersion': None, 'at': datetime.datetime(2021, 11, 24, 19, 56, 8), 'replyContent': 'Thank You', 'repliedAt': datetime.datetime(2021, 11, 26, 17, 49, 48)}, {'reviewId': 'gp:AOqpTOFNv7mf0hR6-02ghNG6BPaFyJdEM5XjEZ8pcBhtEXKI7lq3NptZj1edljcHBrUSC_jGoJqcrjWGSmgMTsQ', 'userName': 'SULEIMAN IBRAHIM', 'userImage': 'https://play-lh.googleusercontent.com/a-/AOh14GgC3kOCyAqe1NYgcBENhBczAy3P19zN0sj_SRJl', 'content': 'Another great achievement from APC government keep it up God willing !!!', 'score': 5, 'thumbsUpCount': 0, 'reviewCreatedVersion': '1.0.1', 'at': datetime.datetime(2021, 11, 24, 14, 54, 2), 'replyContent': 'Thank you so much for your feedback.', 'repliedAt': datetime.datetime(2021, 11, 24, 23, 9, 41)}, {'reviewId': 'gp:AOqpTOHO0-c6e9Al7kphdQPRZTAViKz9T7eLM71K5Hv0CXZJeubCML4Ant7tzOAl0ZLic50nXbSbgI0FxeOSX7U', 'userName': 'olaniyi muraina', 'userImage': 'https://play-lh.googleusercontent.com/a/AATXAJygRaQeobZ_jlaswiVVElsnf744ecWVpaIIuu__=mo', 'content': 'Fantastic, reliable app', 'score': 5, 'thumbsUpCount': 0, 'reviewCreatedVersion': '1.0.1', 'at': datetime.datetime(2021, 11, 24, 14, 45, 31), 'replyContent': 'Thank You', 'repliedAt': datetime.datetime(2021, 11, 26, 17, 52, 14)}, {'reviewId': 'gp:AOqpTOE9cTiaHN9fBG1X0Jvn5arqvmot1TyqvmmWrPNMQWEPF0cnHuZts00rFPRN9xVIj19E00GSWs2rEB8nsTY', 'userName': 'Ayman Ameen', 'userImage': 'https://play-lh.googleusercontent.com/a-/AOh14GimVAFrNJ13mZRzLoc4szQtZoK8ozOFFjkY1FQz', 'content': \"I'm enjoying using it. It's so easy to use and transactions are fast\", 'score': 5, 'thumbsUpCount': 7, 'reviewCreatedVersion': '1.0.1', 'at': datetime.datetime(2021, 11, 24, 14, 26, 23), 'replyContent': 'Thank You', 'repliedAt': datetime.datetime(2021, 11, 26, 17, 52, 44)}, {'reviewId': 'gp:AOqpTOHAIy82R_sMW_a-Xg4PLftprWTAmNTG7Dxcfsq-lT3nn4Ge27vzgQgd3NpioRiDrqwnTOKihibpWBmc9PQ', 'userName': 'Dayo Aderemi', 'userImage': 'https://play-lh.googleusercontent.com/a/AATXAJw6Uo4KllMm5nfel4dEE3QfMxyPfBskkSeKGjXp=mo', 'content': 'Now this app is top notch&easy to download and register because CBN staff takes criticism work on them.The feedback I got here helped me alot because I avoided common mistake people are making. In just few minutes, I finish registration and even fund my e-account.Let stay positive& be mindful of words that could bring down our dear country. We can be constructive in our criticism.Kudos to CBN&up to Naija for life. Looking forward to seeing more upgrade and new features in the future. Regards', 'score': 5, 'thumbsUpCount': 1, 'reviewCreatedVersion': '1.0.1', 'at': datetime.datetime(2021, 11, 24, 13, 21, 38), 'replyContent': 'Thank You', 'repliedAt': datetime.datetime(2021, 11, 26, 17, 53, 12)}, {'reviewId': 'gp:AOqpTOHpmPy4A0eT6pMfBBrDvw9SVqE4UNQQi3fC2T9jWeccXiDaCx6rXxE3sJy_wHnUeJ9y1UoP3fmGIEmBNiA', 'userName': 'Simon Apede', 'userImage': 'https://play-lh.googleusercontent.com/a/AATXAJylxYdkd-K3i7oMgNT5hdCBkELLIl1M2PWv3-Nu=mo', 'content': 'Excellent', 'score': 5, 'thumbsUpCount': 0, 'reviewCreatedVersion': '1.0.1', 'at': datetime.datetime(2021, 11, 23, 22, 54, 10), 'replyContent': 'Thanks', 'repliedAt': datetime.datetime(2021, 11, 26, 17, 54, 29)}, {'reviewId': 'gp:AOqpTOFGcZNz-YxKdnGnd4NljMlRKlqjtiCr9N63xgBER27U6qpQ2cuijvsYjOZD-HtmlFA3r2gXV_1fb6e4x9E', 'userName': 'Yusup musa', 'userImage': 'https://play-lh.googleusercontent.com/a-/AOh14Gh3WcloQjn8xfjnQY3aq5VcsB6djtN8f0S0EGg', 'content': 'Proudly NIGERIA', 'score': 5, 'thumbsUpCount': 0, 'reviewCreatedVersion': '1.0.1', 'at': datetime.datetime(2021, 11, 23, 18, 7, 34), 'replyContent': 'Thanks', 'repliedAt': datetime.datetime(2021, 11, 26, 17, 55, 42)}, {'reviewId': 'gp:AOqpTOFTXbZbcCU6GoKFTxf08HyBkg4XgQMHN-jJvbfaWZdSMSMgG5RQWKP1Pe51DnPdjJMg_8I6OeRTRHJSZAI', 'userName': 'Suberu Ajape', 'userImage': 'https://play-lh.googleusercontent.com/a/AATXAJxjG4IS1047BOAZp_0IPyRDuGH1XeZM1eGBM7kS=mo', 'content': 'Very easy to send and receive money', 'score': 5, 'thumbsUpCount': 0, 'reviewCreatedVersion': '1.0.1', 'at': datetime.datetime(2021, 11, 23, 15, 25, 36), 'replyContent': 'Hi, thank you very much for your feedback.', 'repliedAt': datetime.datetime(2021, 11, 26, 17, 55, 53)}, {'reviewId': 'gp:AOqpTOHYsb_JCWIiAK62gExYiedRoYD53ij8PZAR-WJm300mvRRKcjxl7nyk3DLXYVj2UkEyCq5o8UP73cdOmFo', 'userName': 'Yassar Aliyu', 'userImage': 'https://play-lh.googleusercontent.com/a-/AOh14GgEzXDjbojeVWnliEMguizTiu0XSJp582uatQbEPA', 'content': 'So far so good. Awesome!', 'score': 5, 'thumbsUpCount': 0, 'reviewCreatedVersion': None, 'at': datetime.datetime(2021, 11, 23, 13, 46, 23), 'replyContent': 'We are pleased that you enjoyed the app. If there is anything we can do for you, just let us know at helpdesk@enaira.gov.ng!\\nHave a wonderful day!', 'repliedAt': datetime.datetime(2021, 11, 26, 17, 56, 6)}, {'reviewId': 'gp:AOqpTOFNBLrysua7Iyr2yyCK42K-l-0ivAlt0-Nwh6QASrXEL62a10Bb8t5EV_rORzkXxLYCEdre4MW5sFRuUV4', 'userName': 'Muhammad Muhammad', 'userImage': 'https://play-lh.googleusercontent.com/a/AATXAJzjj1X_cIMOjobaDSPlYPk3ByiuTG3DLrgNw1_1=mo', 'content': 'Smooth download and sign up', 'score': 5, 'thumbsUpCount': 0, 'reviewCreatedVersion': '1.0.1', 'at': datetime.datetime(2021, 11, 23, 10, 33, 28), 'replyContent': 'Thank You Muhammad. enjoy the experience.', 'repliedAt': datetime.datetime(2021, 11, 23, 8, 34, 24)}, {'reviewId': 'gp:AOqpTOHkVeWZCilY_QiHEVtFw3ygTwn9q_panZthR0WuxCl2gUS3p0TSsPU6LrVO0dHjSsTjdjTjMo0lYOx9hMI', 'userName': 'Aliyu said', 'userImage': 'https://play-lh.googleusercontent.com/a/AATXAJyijYtyDclIsMeYio3KxDSfJefv8dJ0CHTKeZa_=mo', 'content': 'Superb', 'score': 5, 'thumbsUpCount': 0, 'reviewCreatedVersion': '1.0.1', 'at': datetime.datetime(2021, 11, 23, 9, 59, 26), 'replyContent': None, 'repliedAt': None}, {'reviewId': 'gp:AOqpTOHCG4mxCFqOGu7J47hO7yCGsRRhgp0bVsmoRo2HhuCbIwmWHXyz-kmFU9LYC-3gODFXIdntaOWk0zlhh6U', 'userName': 'Abiodun Saynt Opeyemi', 'userImage': 'https://play-lh.googleusercontent.com/a-/AOh14GhuExaWtQzZNiwKXMBzo1h_LC8PL-eZ9g3hbIKEHg', 'content': 'This is Fantastic. Thank CBN for this great initiative', 'score': 5, 'thumbsUpCount': 0, 'reviewCreatedVersion': '1.0.1', 'at': datetime.datetime(2021, 11, 22, 15, 48, 19), 'replyContent': 'Thanks Abiodun, enjoy the experience.', 'repliedAt': datetime.datetime(2021, 11, 23, 8, 34, 58)}, {'reviewId': 'gp:AOqpTOF_VlykCoFU-vPu_GbC3c1pzHpZp9YbiMNRKTuMHBXl_UEJJ97p6bAj8qNDz3hceLobB4F4kl303lEd6GQ', 'userName': 'abubakar sani', 'userImage': 'https://play-lh.googleusercontent.com/a-/AOh14Gh1-rafAHFu-SX6VF4uQTPe-IOHG-P9ajBmNgladw', 'content': 'Wow!!!! Nice one', 'score': 5, 'thumbsUpCount': 0, 'reviewCreatedVersion': '1.0.0', 'at': datetime.datetime(2021, 11, 22, 11, 35, 53), 'replyContent': 'Hi, thank you very much for your feedback.', 'repliedAt': datetime.datetime(2021, 11, 23, 8, 57, 9)}, {'reviewId': 'gp:AOqpTOE7R47qjIr7IgxETPJOLnNmwdJbfljh49c3Sf3vpwtqb0ziRW9kKWGkXdDf5KCXCkZvCth3fg5BByC7X4k', 'userName': 'Mmahi Odii', 'userImage': 'https://play-lh.googleusercontent.com/a/AATXAJwloR7x-ytdX2EszSiH8cCw_zAUd_aiTb9qco63=mo', 'content': 'Excellent app👌', 'score': 5, 'thumbsUpCount': 0, 'reviewCreatedVersion': '1.0.1', 'at': datetime.datetime(2021, 11, 22, 10, 17, 59), 'replyContent': 'Thank you for your review. Enjoy reading & keep supporting us :)\\nIf you have any feedback or suggestion, you could write to us at helpdesk@enaira.gov.ng. We would love to hear from you!', 'repliedAt': datetime.datetime(2021, 11, 23, 9, 0, 8)}, {'reviewId': 'gp:AOqpTOFFsmU_UCNu3p6dFsmqZu4ZLdJyvZCsOqiWy9PBi_SEbRADhE7YBJz1QIwsikduE2P4bwa008DHmBvRhMU', 'userName': 'Zaharaddeen Mukhar', 'userImage': 'https://play-lh.googleusercontent.com/a/AATXAJztcG0_uQJnrSzMkHCKvGxPrxulkb2959S09t0x=mo', 'content': 'Realible and amazing plat form.', 'score': 5, 'thumbsUpCount': 0, 'reviewCreatedVersion': '1.0.1', 'at': datetime.datetime(2021, 11, 22, 9, 17, 49), 'replyContent': 'Thank you for your encouraging words.', 'repliedAt': datetime.datetime(2021, 11, 23, 9, 0, 15)}, {'reviewId': 'gp:AOqpTOEj0n02Dgx-m4kznbQRaBvBkrj8kJrniuZqZ80JPO8ki6is3GfOq4XcffypxGSF1tRxWcwDhq7rgsp-j0E', 'userName': 'Adeleye Seyi', 'userImage': 'https://play-lh.googleusercontent.com/a-/AOh14Ggvj1-CnFFPv3zj-T8Pdp-8jGeWIVY6TJwwL0kmEQA', 'content': 'Simply easy, efficient and secured to use especially with the unique BarCode that comes with this app.', 'score': 5, 'thumbsUpCount': 0, 'reviewCreatedVersion': '1.0.1', 'at': datetime.datetime(2021, 11, 22, 9, 8, 26), 'replyContent': 'Thank Mr Seyi', 'repliedAt': datetime.datetime(2021, 11, 23, 9, 3, 18)}]\n"
     ]
    }
   ],
   "source": [
    "print(result)"
   ]
  },
  {
   "cell_type": "code",
   "execution_count": 30,
   "metadata": {},
   "outputs": [],
   "source": [
    "from google_play_scraper import reviews_all"
   ]
  },
  {
   "cell_type": "code",
   "execution_count": 69,
   "metadata": {},
   "outputs": [],
   "source": [
    "result2= reviews_all('ng.gov.cbn.speed.wallet.temp', sleep_milliseconds=0, lang='en')"
   ]
  },
  {
   "cell_type": "code",
   "execution_count": 72,
   "metadata": {},
   "outputs": [
    {
     "data": {
      "text/plain": [
       "(4841, 10)"
      ]
     },
     "execution_count": 72,
     "metadata": {},
     "output_type": "execute_result"
    }
   ],
   "source": [
    "\n",
    "ap_review=pd.DataFrame(result2)\n",
    "ap_review.shape"
   ]
  },
  {
   "cell_type": "code",
   "execution_count": 74,
   "metadata": {},
   "outputs": [],
   "source": [
    "ap_review.to_csv('reviews2.csv', index=None, header=True)"
   ]
  },
  {
   "cell_type": "code",
   "execution_count": 37,
   "metadata": {},
   "outputs": [],
   "source": [
    "app_packages=['ng.gov.cbn.speed.merchant.temp','ng.gov.cbn.speed.wallet.temp']"
   ]
  },
  {
   "cell_type": "code",
   "execution_count": 38,
   "metadata": {},
   "outputs": [
    {
     "name": "stderr",
     "output_type": "stream",
     "text": [
      "100%|██████████| 2/2 [00:03<00:00,  1.87s/it]\n"
     ]
    }
   ],
   "source": [
    "app_infos = []\n",
    "for ap in tqdm(app_packages):\n",
    "  info = app(ap, lang='en', country='us')\n",
    "  del info['comments']\n",
    "  app_infos.append(info)"
   ]
  },
  {
   "cell_type": "code",
   "execution_count": 39,
   "metadata": {},
   "outputs": [],
   "source": [
    "def print_json(json_object):\n",
    "  json_str = json.dumps(\n",
    "    json_object,\n",
    "    indent=2,\n",
    "    sort_keys=True,\n",
    "    default=str\n",
    "  )\n",
    "  print(highlight(json_str, JsonLexer(), TerminalFormatter()))"
   ]
  },
  {
   "cell_type": "code",
   "execution_count": 40,
   "metadata": {},
   "outputs": [
    {
     "name": "stdout",
     "output_type": "stream",
     "text": [
      "{\n",
      "  \u001b[94m\"adSupported\"\u001b[39;49;00m: \u001b[34mnull\u001b[39;49;00m,\n",
      "  \u001b[94m\"androidVersion\"\u001b[39;49;00m: \u001b[33m\"5.0\"\u001b[39;49;00m,\n",
      "  \u001b[94m\"androidVersionText\"\u001b[39;49;00m: \u001b[33m\"5.0 and up\"\u001b[39;49;00m,\n",
      "  \u001b[94m\"appId\"\u001b[39;49;00m: \u001b[33m\"ng.gov.cbn.speed.merchant.temp\"\u001b[39;49;00m,\n",
      "  \u001b[94m\"containsAds\"\u001b[39;49;00m: \u001b[34mfalse\u001b[39;49;00m,\n",
      "  \u001b[94m\"contentRating\"\u001b[39;49;00m: \u001b[33m\"Everyone\"\u001b[39;49;00m,\n",
      "  \u001b[94m\"contentRatingDescription\"\u001b[39;49;00m: \u001b[34mnull\u001b[39;49;00m,\n",
      "  \u001b[94m\"currency\"\u001b[39;49;00m: \u001b[33m\"USD\"\u001b[39;49;00m,\n",
      "  \u001b[94m\"description\"\u001b[39;49;00m: \u001b[33m\"Speed eNaira Merchant is a fast and convenient way to conduct financial transactions for your business.\\r\\nDownload and sign up to get started.\\r\\n\\r\\neNaira is safe!\\r\\nYour money is guaranteed and secured with the Central Bank of Nigeria\\r\\n\\r\\neNaira is smart and easy!\\r\\nWhether your business is remote, online, or in-person, getting paid is as simple as a scan or a click!\"\u001b[39;49;00m,\n",
      "  \u001b[94m\"descriptionHTML\"\u001b[39;49;00m: \u001b[33m\"Speed eNaira Merchant is a fast and convenient way to conduct financial transactions for your business.<br>Download and sign up to get started.<br><br>eNaira is safe!<br>Your money is guaranteed and secured with the Central Bank of Nigeria<br><br>eNaira is smart and easy!<br>Whether your business is remote, online, or in-person, getting paid is as simple as a scan or a click!\"\u001b[39;49;00m,\n",
      "  \u001b[94m\"developer\"\u001b[39;49;00m: \u001b[33m\"Central Bank of Nigeria\"\u001b[39;49;00m,\n",
      "  \u001b[94m\"developerAddress\"\u001b[39;49;00m: \u001b[34mnull\u001b[39;49;00m,\n",
      "  \u001b[94m\"developerEmail\"\u001b[39;49;00m: \u001b[33m\"helpdesk@enaira.gov.ng\"\u001b[39;49;00m,\n",
      "  \u001b[94m\"developerId\"\u001b[39;49;00m: \u001b[33m\"Central+Bank+of+Nigeria\"\u001b[39;49;00m,\n",
      "  \u001b[94m\"developerInternalID\"\u001b[39;49;00m: \u001b[33m\"6496167742074045687\"\u001b[39;49;00m,\n",
      "  \u001b[94m\"developerWebsite\"\u001b[39;49;00m: \u001b[33m\"https://enaira.gov.ng\"\u001b[39;49;00m,\n",
      "  \u001b[94m\"editorsChoice\"\u001b[39;49;00m: \u001b[34mfalse\u001b[39;49;00m,\n",
      "  \u001b[94m\"free\"\u001b[39;49;00m: \u001b[34mtrue\u001b[39;49;00m,\n",
      "  \u001b[94m\"genre\"\u001b[39;49;00m: \u001b[33m\"Finance\"\u001b[39;49;00m,\n",
      "  \u001b[94m\"genreId\"\u001b[39;49;00m: \u001b[33m\"FINANCE\"\u001b[39;49;00m,\n",
      "  \u001b[94m\"headerImage\"\u001b[39;49;00m: \u001b[33m\"https://play-lh.googleusercontent.com/NHW_f35uxGkszwvacIf4dqmUbgFjlBB2-sFPLVG-gC6NHkn7w31hvimBiQgXJHIG1w\"\u001b[39;49;00m,\n",
      "  \u001b[94m\"histogram\"\u001b[39;49;00m: [\n",
      "    \u001b[34m252\u001b[39;49;00m,\n",
      "    \u001b[34m0\u001b[39;49;00m,\n",
      "    \u001b[34m14\u001b[39;49;00m,\n",
      "    \u001b[34m14\u001b[39;49;00m,\n",
      "    \u001b[34m163\u001b[39;49;00m\n",
      "  ],\n",
      "  \u001b[94m\"icon\"\u001b[39;49;00m: \u001b[33m\"https://play-lh.googleusercontent.com/ngDQaAeV-arr0V3F17tVDV_kqN4AuKmPZ-m20Fi1GKW4AeMTok_6-Ll8euGr-7z_zw\"\u001b[39;49;00m,\n",
      "  \u001b[94m\"inAppProductPrice\"\u001b[39;49;00m: \u001b[34mnull\u001b[39;49;00m,\n",
      "  \u001b[94m\"installs\"\u001b[39;49;00m: \u001b[33m\"50,000+\"\u001b[39;49;00m,\n",
      "  \u001b[94m\"minInstalls\"\u001b[39;49;00m: \u001b[34m50000\u001b[39;49;00m,\n",
      "  \u001b[94m\"moreByDeveloper\"\u001b[39;49;00m: [\n",
      "    \u001b[33m\"ng.gov.cbn.speed.wallet.temp\"\u001b[39;49;00m\n",
      "  ],\n",
      "  \u001b[94m\"offersIAP\"\u001b[39;49;00m: \u001b[34mfalse\u001b[39;49;00m,\n",
      "  \u001b[94m\"originalPrice\"\u001b[39;49;00m: \u001b[34mnull\u001b[39;49;00m,\n",
      "  \u001b[94m\"price\"\u001b[39;49;00m: \u001b[34m0\u001b[39;49;00m,\n",
      "  \u001b[94m\"privacyPolicy\"\u001b[39;49;00m: \u001b[33m\"https://enaira.gov.ng/about/terms-of-service\"\u001b[39;49;00m,\n",
      "  \u001b[94m\"ratings\"\u001b[39;49;00m: \u001b[34m443\u001b[39;49;00m,\n",
      "  \u001b[94m\"recentChanges\"\u001b[39;49;00m: \u001b[33m\"Speed eNaira Merchant is a fast and convenient way to conduct financial transactions for your business.\"\u001b[39;49;00m,\n",
      "  \u001b[94m\"recentChangesHTML\"\u001b[39;49;00m: \u001b[33m\"Speed eNaira Merchant is a fast and convenient way to conduct financial transactions for your business.\"\u001b[39;49;00m,\n",
      "  \u001b[94m\"released\"\u001b[39;49;00m: \u001b[33m\"Oct 22, 2021\"\u001b[39;49;00m,\n",
      "  \u001b[94m\"reviews\"\u001b[39;49;00m: \u001b[34m21\u001b[39;49;00m,\n",
      "  \u001b[94m\"sale\"\u001b[39;49;00m: \u001b[34mfalse\u001b[39;49;00m,\n",
      "  \u001b[94m\"saleText\"\u001b[39;49;00m: \u001b[34mnull\u001b[39;49;00m,\n",
      "  \u001b[94m\"saleTime\"\u001b[39;49;00m: \u001b[34mnull\u001b[39;49;00m,\n",
      "  \u001b[94m\"score\"\u001b[39;49;00m: \u001b[34m2.6333334\u001b[39;49;00m,\n",
      "  \u001b[94m\"screenshots\"\u001b[39;49;00m: [\n",
      "    \u001b[33m\"https://play-lh.googleusercontent.com/HJ2P8Uf7DtpgQ-9bwPmCtydMJMsvW8gnfxhHwcOijG3_9MDHyX9DABWfZID-mykNYgrE\"\u001b[39;49;00m,\n",
      "    \u001b[33m\"https://play-lh.googleusercontent.com/9p9uujyyp4uyFwFtTji_E0vDvIwsHPk1US9OTa6jqucMMME2QApa89RDG-napwtV_co\"\u001b[39;49;00m,\n",
      "    \u001b[33m\"https://play-lh.googleusercontent.com/_ZQ5IPio2tlVh1oBZvpO_LY7IZAUnvSBUz3NoBSAl1qB1aRt9Qv6-Pfoj29x6BC3Kko\"\u001b[39;49;00m,\n",
      "    \u001b[33m\"https://play-lh.googleusercontent.com/2aiD-nkGhbktWmaJdEuMzxli7Rg4uAlBuZmJerEzxy7TONvT7nCtHckHWfx2vDy7-3k\"\u001b[39;49;00m,\n",
      "    \u001b[33m\"https://play-lh.googleusercontent.com/M4bqk-LzTg2cHxZQGfYg_RcrDCjkHpk4CKsiZuiTosNtlGtZqgy0m-nUKRzUOAeuIA\"\u001b[39;49;00m\n",
      "  ],\n",
      "  \u001b[94m\"similarApps\"\u001b[39;49;00m: [\n",
      "    \u001b[33m\"ng.bytelabs.watu\"\u001b[39;49;00m,\n",
      "    \u001b[33m\"moneymie.bank.nigeria.remit.sendmoney\"\u001b[39;49;00m,\n",
      "    \u001b[33m\"com.ifs.banking.fiid3605\"\u001b[39;49;00m,\n",
      "    \u001b[33m\"com.app.payangel\"\u001b[39;49;00m,\n",
      "    \u001b[33m\"com.bitmama.bitmama\"\u001b[39;49;00m\n",
      "  ],\n",
      "  \u001b[94m\"size\"\u001b[39;49;00m: \u001b[33m\"24M\"\u001b[39;49;00m,\n",
      "  \u001b[94m\"summary\"\u001b[39;49;00m: \u001b[33m\"This is the eNaira Speed Wallet for Merchant to conduct Business transactions.\"\u001b[39;49;00m,\n",
      "  \u001b[94m\"summaryHTML\"\u001b[39;49;00m: \u001b[33m\"This is the eNaira Speed Wallet for Merchant to conduct Business transactions.\"\u001b[39;49;00m,\n",
      "  \u001b[94m\"title\"\u001b[39;49;00m: \u001b[33m\"eNaira Speed Merchant Wallet (Business)\"\u001b[39;49;00m,\n",
      "  \u001b[94m\"updated\"\u001b[39;49;00m: \u001b[34m1634938327\u001b[39;49;00m,\n",
      "  \u001b[94m\"url\"\u001b[39;49;00m: \u001b[33m\"https://play.google.com/store/apps/details?id=ng.gov.cbn.speed.merchant.temp&hl=en&gl=us\"\u001b[39;49;00m,\n",
      "  \u001b[94m\"version\"\u001b[39;49;00m: \u001b[33m\"1.0.0\"\u001b[39;49;00m,\n",
      "  \u001b[94m\"video\"\u001b[39;49;00m: \u001b[34mnull\u001b[39;49;00m,\n",
      "  \u001b[94m\"videoImage\"\u001b[39;49;00m: \u001b[34mnull\u001b[39;49;00m\n",
      "}\n",
      "\n"
     ]
    }
   ],
   "source": [
    "print_json(app_infos[0])"
   ]
  },
  {
   "cell_type": "code",
   "execution_count": 41,
   "metadata": {},
   "outputs": [
    {
     "data": {
      "image/png": "[encoded data removed]",
      "text/plain": [
       "<Figure size 1008x360 with 2 Axes>"
      ]
     },
     "metadata": {
      "image/png": {
       "height": 302,
       "width": 137
      }
     },
     "output_type": "display_data"
    }
   ],
   "source": [
    "def format_title(title):\n",
    "  sep_index = title.find(':') if title.find(':') != -1 else title.find('-')\n",
    "  if sep_index != -1:\n",
    "    title = title[:sep_index]\n",
    "  return title[:10]\n",
    "fig, axs = plt.subplots(2, len(app_infos) // 2, figsize=(14, 5))\n",
    "for i, ax in enumerate(axs.flat):\n",
    "  ai = app_infos[i]\n",
    "  img = plt.imread(ai['icon'])\n",
    "  ax.imshow(img)\n",
    "  ax.set_title(format_title(ai['title']))\n",
    "  ax.axis('off')"
   ]
  },
  {
   "cell_type": "code",
   "execution_count": 42,
   "metadata": {},
   "outputs": [],
   "source": [
    "app_infos_df = pd.DataFrame(app_infos)\n"
   ]
  },
  {
   "cell_type": "code",
   "execution_count": 43,
   "metadata": {},
   "outputs": [
    {
     "data": {
      "text/html": [
       "<div>\n",
       "<style scoped>\n",
       "    .dataframe tbody tr th:only-of-type {\n",
       "        vertical-align: middle;\n",
       "    }\n",
       "\n",
       "    .dataframe tbody tr th {\n",
       "        vertical-align: top;\n",
       "    }\n",
       "\n",
       "    .dataframe thead th {\n",
       "        text-align: right;\n",
       "    }\n",
       "</style>\n",
       "<table border=\"1\" class=\"dataframe\">\n",
       "  <thead>\n",
       "    <tr style=\"text-align: right;\">\n",
       "      <th></th>\n",
       "      <th>title</th>\n",
       "      <th>description</th>\n",
       "      <th>descriptionHTML</th>\n",
       "      <th>summary</th>\n",
       "      <th>summaryHTML</th>\n",
       "      <th>installs</th>\n",
       "      <th>minInstalls</th>\n",
       "      <th>score</th>\n",
       "      <th>ratings</th>\n",
       "      <th>reviews</th>\n",
       "      <th>...</th>\n",
       "      <th>released</th>\n",
       "      <th>updated</th>\n",
       "      <th>version</th>\n",
       "      <th>recentChanges</th>\n",
       "      <th>recentChangesHTML</th>\n",
       "      <th>editorsChoice</th>\n",
       "      <th>similarApps</th>\n",
       "      <th>moreByDeveloper</th>\n",
       "      <th>appId</th>\n",
       "      <th>url</th>\n",
       "    </tr>\n",
       "  </thead>\n",
       "  <tbody>\n",
       "    <tr>\n",
       "      <th>0</th>\n",
       "      <td>eNaira Speed Merchant Wallet (Business)</td>\n",
       "      <td>Speed eNaira Merchant is a fast and convenient...</td>\n",
       "      <td>Speed eNaira Merchant is a fast and convenient...</td>\n",
       "      <td>This is the eNaira Speed Wallet for Merchant t...</td>\n",
       "      <td>This is the eNaira Speed Wallet for Merchant t...</td>\n",
       "      <td>50,000+</td>\n",
       "      <td>50000</td>\n",
       "      <td>2.633333</td>\n",
       "      <td>443</td>\n",
       "      <td>21</td>\n",
       "      <td>...</td>\n",
       "      <td>Oct 22, 2021</td>\n",
       "      <td>1634938327</td>\n",
       "      <td>1.0.0</td>\n",
       "      <td>Speed eNaira Merchant is a fast and convenient...</td>\n",
       "      <td>Speed eNaira Merchant is a fast and convenient...</td>\n",
       "      <td>False</td>\n",
       "      <td>[ng.bytelabs.watu, moneymie.bank.nigeria.remit...</td>\n",
       "      <td>[ng.gov.cbn.speed.wallet.temp]</td>\n",
       "      <td>ng.gov.cbn.speed.merchant.temp</td>\n",
       "      <td>https://play.google.com/store/apps/details?id=...</td>\n",
       "    </tr>\n",
       "    <tr>\n",
       "      <th>1</th>\n",
       "      <td>eNaira Speed Wallet (Individual)</td>\n",
       "      <td>eNaira Speed Wallet is a fast and convenient w...</td>\n",
       "      <td>eNaira Speed Wallet is a fast and convenient w...</td>\n",
       "      <td>The eNaira is a digital representation of the ...</td>\n",
       "      <td>The eNaira is a digital representation of the ...</td>\n",
       "      <td>100,000+</td>\n",
       "      <td>100000</td>\n",
       "      <td>2.769231</td>\n",
       "      <td>5924</td>\n",
       "      <td>211</td>\n",
       "      <td>...</td>\n",
       "      <td>Oct 22, 2021</td>\n",
       "      <td>1635972105</td>\n",
       "      <td>1.0.1</td>\n",
       "      <td>Friendly onboarding experience. You now have t...</td>\n",
       "      <td>Friendly onboarding experience. You now have t...</td>\n",
       "      <td>False</td>\n",
       "      <td>[ng.bytelabs.watu, com.chippercash, com.ubanqu...</td>\n",
       "      <td>[ng.gov.cbn.speed.merchant.temp]</td>\n",
       "      <td>ng.gov.cbn.speed.wallet.temp</td>\n",
       "      <td>https://play.google.com/store/apps/details?id=...</td>\n",
       "    </tr>\n",
       "  </tbody>\n",
       "</table>\n",
       "<p>2 rows × 51 columns</p>\n",
       "</div>"
      ],
      "text/plain": [
       "                                     title  \\\n",
       "0  eNaira Speed Merchant Wallet (Business)   \n",
       "1         eNaira Speed Wallet (Individual)   \n",
       "\n",
       "                                         description  \\\n",
       "0  Speed eNaira Merchant is a fast and convenient...   \n",
       "1  eNaira Speed Wallet is a fast and convenient w...   \n",
       "\n",
       "                                     descriptionHTML  \\\n",
       "0  Speed eNaira Merchant is a fast and convenient...   \n",
       "1  eNaira Speed Wallet is a fast and convenient w...   \n",
       "\n",
       "                                             summary  \\\n",
       "0  This is the eNaira Speed Wallet for Merchant t...   \n",
       "1  The eNaira is a digital representation of the ...   \n",
       "\n",
       "                                         summaryHTML  installs  minInstalls  \\\n",
       "0  This is the eNaira Speed Wallet for Merchant t...   50,000+        50000   \n",
       "1  The eNaira is a digital representation of the ...  100,000+       100000   \n",
       "\n",
       "      score  ratings  reviews  ...      released     updated  version  \\\n",
       "0  2.633333      443       21  ...  Oct 22, 2021  1634938327    1.0.0   \n",
       "1  2.769231     5924      211  ...  Oct 22, 2021  1635972105    1.0.1   \n",
       "\n",
       "                                       recentChanges  \\\n",
       "0  Speed eNaira Merchant is a fast and convenient...   \n",
       "1  Friendly onboarding experience. You now have t...   \n",
       "\n",
       "                                   recentChangesHTML editorsChoice  \\\n",
       "0  Speed eNaira Merchant is a fast and convenient...         False   \n",
       "1  Friendly onboarding experience. You now have t...         False   \n",
       "\n",
       "                                         similarApps  \\\n",
       "0  [ng.bytelabs.watu, moneymie.bank.nigeria.remit...   \n",
       "1  [ng.bytelabs.watu, com.chippercash, com.ubanqu...   \n",
       "\n",
       "                    moreByDeveloper                           appId  \\\n",
       "0    [ng.gov.cbn.speed.wallet.temp]  ng.gov.cbn.speed.merchant.temp   \n",
       "1  [ng.gov.cbn.speed.merchant.temp]    ng.gov.cbn.speed.wallet.temp   \n",
       "\n",
       "                                                 url  \n",
       "0  https://play.google.com/store/apps/details?id=...  \n",
       "1  https://play.google.com/store/apps/details?id=...  \n",
       "\n",
       "[2 rows x 51 columns]"
      ]
     },
     "execution_count": 43,
     "metadata": {},
     "output_type": "execute_result"
    }
   ],
   "source": [
    "app_infos_df"
   ]
  },
  {
   "cell_type": "code",
   "execution_count": 56,
   "metadata": {},
   "outputs": [],
   "source": [
    "app_infos_df.to_csv('app_infos.csv', index=None, header=True)"
   ]
  },
  {
   "cell_type": "code",
   "execution_count": 59,
   "metadata": {},
   "outputs": [
    {
     "name": "stderr",
     "output_type": "stream",
     "text": [
      "100%|██████████| 2/2 [00:16<00:00,  8.02s/it]\n"
     ]
    }
   ],
   "source": [
    "# Getting review score\n",
    "for ap in tqdm(app_packages):\n",
    "  for score in list(range(1, 6)):\n",
    "    for sort_order in [Sort.MOST_RELEVANT, Sort.NEWEST]:\n",
    "      rvs, _ = reviews(\n",
    "        ap,\n",
    "        lang='en',\n",
    "        country='us',\n",
    "        sort=sort_order,\n",
    "        count= 200 if score == 3 else 100,\n",
    "        filter_score_with=score\n",
    "      )\n",
    "      for r in rvs:\n",
    "        r['sortOrder'] = 'most_relevant' if sort_order == Sort.MOST_RELEVANT else 'newest'\n",
    "        r['appId'] = ap\n",
    "      app_reviews.extend(rvs)"
   ]
  },
  {
   "cell_type": "code",
   "execution_count": 61,
   "metadata": {},
   "outputs": [
    {
     "name": "stdout",
     "output_type": "stream",
     "text": [
      "{\n",
      "  \u001b[94m\"appId\"\u001b[39;49;00m: \u001b[33m\"ng.gov.cbn.speed.merchant.temp\"\u001b[39;49;00m,\n",
      "  \u001b[94m\"at\"\u001b[39;49;00m: \u001b[33m\"2021-10-28 07:38:39\"\u001b[39;49;00m,\n",
      "  \u001b[94m\"content\"\u001b[39;49;00m: \u001b[33m\"Disaster waiting to happen.. I knew the app had no potential but I needed to see the extent to which it was utterly pointless. I'm an app developer and honestly even a 14 year old beginner is not this terrible, can't believe this app was designed by a full team of software developers.\"\u001b[39;49;00m,\n",
      "  \u001b[94m\"repliedAt\"\u001b[39;49;00m: \u001b[34mnull\u001b[39;49;00m,\n",
      "  \u001b[94m\"replyContent\"\u001b[39;49;00m: \u001b[34mnull\u001b[39;49;00m,\n",
      "  \u001b[94m\"reviewCreatedVersion\"\u001b[39;49;00m: \u001b[33m\"1.0.0\"\u001b[39;49;00m,\n",
      "  \u001b[94m\"reviewId\"\u001b[39;49;00m: \u001b[33m\"gp:AOqpTOFsxW1PUZN0n8gNTzVTatv2y8QmTks_V1pviLdOxbSR4CEereh079ddNZzFV-DBj9_eaT1DgMFHZlDYOg\"\u001b[39;49;00m,\n",
      "  \u001b[94m\"score\"\u001b[39;49;00m: \u001b[34m1\u001b[39;49;00m,\n",
      "  \u001b[94m\"sortOrder\"\u001b[39;49;00m: \u001b[33m\"most_relevant\"\u001b[39;49;00m,\n",
      "  \u001b[94m\"thumbsUpCount\"\u001b[39;49;00m: \u001b[34m76\u001b[39;49;00m,\n",
      "  \u001b[94m\"userImage\"\u001b[39;49;00m: \u001b[33m\"https://play-lh.googleusercontent.com/a-/AOh14GhUl8D2NisaURbzsTnKrqwG5-xFGy5TtnDAyk30SA\"\u001b[39;49;00m,\n",
      "  \u001b[94m\"userName\"\u001b[39;49;00m: \u001b[33m\"DANIEL CHUKWUKERE\"\u001b[39;49;00m\n",
      "}\n",
      "\n"
     ]
    }
   ],
   "source": [
    "print_json(app_reviews[1])"
   ]
  },
  {
   "cell_type": "code",
   "execution_count": 62,
   "metadata": {},
   "outputs": [
    {
     "data": {
      "text/plain": [
       "2903"
      ]
     },
     "execution_count": 62,
     "metadata": {},
     "output_type": "execute_result"
    }
   ],
   "source": [
    "len(app_reviews)"
   ]
  },
  {
   "cell_type": "code",
   "execution_count": 63,
   "metadata": {},
   "outputs": [
    {
     "data": {
      "text/plain": [
       "(2903, 12)"
      ]
     },
     "execution_count": 63,
     "metadata": {},
     "output_type": "execute_result"
    }
   ],
   "source": [
    "# loading the json file into a dataframe\n",
    "app_reviews_df = pd.DataFrame(app_reviews)\n",
    "app_reviews_df.shape"
   ]
  },
  {
   "cell_type": "code",
   "execution_count": 64,
   "metadata": {},
   "outputs": [
    {
     "data": {
      "text/html": [
       "<div>\n",
       "<style scoped>\n",
       "    .dataframe tbody tr th:only-of-type {\n",
       "        vertical-align: middle;\n",
       "    }\n",
       "\n",
       "    .dataframe tbody tr th {\n",
       "        vertical-align: top;\n",
       "    }\n",
       "\n",
       "    .dataframe thead th {\n",
       "        text-align: right;\n",
       "    }\n",
       "</style>\n",
       "<table border=\"1\" class=\"dataframe\">\n",
       "  <thead>\n",
       "    <tr style=\"text-align: right;\">\n",
       "      <th></th>\n",
       "      <th>reviewId</th>\n",
       "      <th>userName</th>\n",
       "      <th>userImage</th>\n",
       "      <th>content</th>\n",
       "      <th>score</th>\n",
       "      <th>thumbsUpCount</th>\n",
       "      <th>reviewCreatedVersion</th>\n",
       "      <th>at</th>\n",
       "      <th>replyContent</th>\n",
       "      <th>repliedAt</th>\n",
       "      <th>sortOrder</th>\n",
       "      <th>appId</th>\n",
       "    </tr>\n",
       "  </thead>\n",
       "  <tbody>\n",
       "    <tr>\n",
       "      <th>0</th>\n",
       "      <td>gp:AOqpTOGMyM6UFwCmkuOVGlLqXvFbe5eShfdCqFXCOe1...</td>\n",
       "      <td>M.A Ibrahim</td>\n",
       "      <td>https://play-lh.googleusercontent.com/a-/AOh14...</td>\n",
       "      <td>Nice interface, very annoying registration pro...</td>\n",
       "      <td>1</td>\n",
       "      <td>3</td>\n",
       "      <td>1.0.0</td>\n",
       "      <td>2022-01-22 06:36:56</td>\n",
       "      <td>None</td>\n",
       "      <td>NaT</td>\n",
       "      <td>most_relevant</td>\n",
       "      <td>ng.gov.cbn.speed.merchant.temp</td>\n",
       "    </tr>\n",
       "    <tr>\n",
       "      <th>1</th>\n",
       "      <td>gp:AOqpTOFsxW1PUZN0n8gNTzVTatv2y8QmTks_V1pviLd...</td>\n",
       "      <td>DANIEL CHUKWUKERE</td>\n",
       "      <td>https://play-lh.googleusercontent.com/a-/AOh14...</td>\n",
       "      <td>Disaster waiting to happen.. I knew the app ha...</td>\n",
       "      <td>1</td>\n",
       "      <td>76</td>\n",
       "      <td>1.0.0</td>\n",
       "      <td>2021-10-28 07:38:39</td>\n",
       "      <td>None</td>\n",
       "      <td>NaT</td>\n",
       "      <td>most_relevant</td>\n",
       "      <td>ng.gov.cbn.speed.merchant.temp</td>\n",
       "    </tr>\n",
       "    <tr>\n",
       "      <th>2</th>\n",
       "      <td>gp:AOqpTOEPBd_fDfB6yvYONmmFI-getybIwCm1o7BePoE...</td>\n",
       "      <td>Lawal Aremu</td>\n",
       "      <td>https://play-lh.googleusercontent.com/a-/AOh14...</td>\n",
       "      <td>Even after following the advice of the CBN age...</td>\n",
       "      <td>1</td>\n",
       "      <td>3</td>\n",
       "      <td>1.0.0</td>\n",
       "      <td>2021-11-24 13:40:55</td>\n",
       "      <td>Hello,\\nPlease write to us via mail at helpdes...</td>\n",
       "      <td>2021-11-18 15:19:56</td>\n",
       "      <td>most_relevant</td>\n",
       "      <td>ng.gov.cbn.speed.merchant.temp</td>\n",
       "    </tr>\n",
       "    <tr>\n",
       "      <th>3</th>\n",
       "      <td>gp:AOqpTOGn0sLMYg2kvKt4sCjWOUBtjhI4OodBnpcS5EP...</td>\n",
       "      <td>David Godwin</td>\n",
       "      <td>https://play-lh.googleusercontent.com/a/AATXAJ...</td>\n",
       "      <td>It's been more than 20days I downloaded this a...</td>\n",
       "      <td>1</td>\n",
       "      <td>3</td>\n",
       "      <td>1.0.0</td>\n",
       "      <td>2021-11-16 02:53:49</td>\n",
       "      <td>Hi,\\nPlease write to us via mail at helpdesk@e...</td>\n",
       "      <td>2021-11-18 15:20:08</td>\n",
       "      <td>most_relevant</td>\n",
       "      <td>ng.gov.cbn.speed.merchant.temp</td>\n",
       "    </tr>\n",
       "    <tr>\n",
       "      <th>4</th>\n",
       "      <td>gp:AOqpTOGCRVHZJUw2uOWrN_sIfb3vtP0qZJBDDh0CY_H...</td>\n",
       "      <td>Kolawole Isaac</td>\n",
       "      <td>https://play-lh.googleusercontent.com/a-/AOh14...</td>\n",
       "      <td>This is like re-inventing the wheel. The purpo...</td>\n",
       "      <td>1</td>\n",
       "      <td>35</td>\n",
       "      <td>1.0.0</td>\n",
       "      <td>2021-10-27 22:22:40</td>\n",
       "      <td>None</td>\n",
       "      <td>NaT</td>\n",
       "      <td>most_relevant</td>\n",
       "      <td>ng.gov.cbn.speed.merchant.temp</td>\n",
       "    </tr>\n",
       "    <tr>\n",
       "      <th>...</th>\n",
       "      <td>...</td>\n",
       "      <td>...</td>\n",
       "      <td>...</td>\n",
       "      <td>...</td>\n",
       "      <td>...</td>\n",
       "      <td>...</td>\n",
       "      <td>...</td>\n",
       "      <td>...</td>\n",
       "      <td>...</td>\n",
       "      <td>...</td>\n",
       "      <td>...</td>\n",
       "      <td>...</td>\n",
       "    </tr>\n",
       "    <tr>\n",
       "      <th>2898</th>\n",
       "      <td>gp:AOqpTOHQ9Ca7lPoMS1NQrPTzlH0hmKUPQ4GfgDRK8JD...</td>\n",
       "      <td>Zakariyau Bako</td>\n",
       "      <td>https://play-lh.googleusercontent.com/a-/AOh14...</td>\n",
       "      <td>Masha Allaah</td>\n",
       "      <td>5</td>\n",
       "      <td>0</td>\n",
       "      <td>1.0.1</td>\n",
       "      <td>2021-12-03 10:18:15</td>\n",
       "      <td>Thank You</td>\n",
       "      <td>2021-12-05 19:07:29</td>\n",
       "      <td>newest</td>\n",
       "      <td>ng.gov.cbn.speed.wallet.temp</td>\n",
       "    </tr>\n",
       "    <tr>\n",
       "      <th>2899</th>\n",
       "      <td>gp:AOqpTOEt_ur0p8OhDLRECKTLktM6NXPmoh197VYeKb5...</td>\n",
       "      <td>Moses Ojero</td>\n",
       "      <td>https://play-lh.googleusercontent.com/a-/AOh14...</td>\n",
       "      <td>Lovely</td>\n",
       "      <td>5</td>\n",
       "      <td>0</td>\n",
       "      <td>1.0.1</td>\n",
       "      <td>2021-12-02 21:25:19</td>\n",
       "      <td>Thanks</td>\n",
       "      <td>2021-12-02 21:21:49</td>\n",
       "      <td>newest</td>\n",
       "      <td>ng.gov.cbn.speed.wallet.temp</td>\n",
       "    </tr>\n",
       "    <tr>\n",
       "      <th>2900</th>\n",
       "      <td>gp:AOqpTOHLJ4T4s1nHI73X5Anh5MaDZg2O_GYYOhE9yNP...</td>\n",
       "      <td>Ezekiel Adewunmi</td>\n",
       "      <td>https://play-lh.googleusercontent.com/a-/AOh14...</td>\n",
       "      <td>You created the best idea I was working on 10 ...</td>\n",
       "      <td>5</td>\n",
       "      <td>0</td>\n",
       "      <td>1.0.1</td>\n",
       "      <td>2021-12-02 20:13:20</td>\n",
       "      <td>Thanks Adewunmi</td>\n",
       "      <td>2021-12-02 21:05:51</td>\n",
       "      <td>newest</td>\n",
       "      <td>ng.gov.cbn.speed.wallet.temp</td>\n",
       "    </tr>\n",
       "    <tr>\n",
       "      <th>2901</th>\n",
       "      <td>gp:AOqpTOHEldkFr_OMHUVONHmZdawk9sEo6VhRFZhK3Rv...</td>\n",
       "      <td>Toheer Horlanre</td>\n",
       "      <td>https://play-lh.googleusercontent.com/a/AATXAJ...</td>\n",
       "      <td>Fantastic</td>\n",
       "      <td>5</td>\n",
       "      <td>0</td>\n",
       "      <td>None</td>\n",
       "      <td>2021-12-02 18:11:00</td>\n",
       "      <td>It is delightful to hear such positive words a...</td>\n",
       "      <td>2021-12-02 21:06:01</td>\n",
       "      <td>newest</td>\n",
       "      <td>ng.gov.cbn.speed.wallet.temp</td>\n",
       "    </tr>\n",
       "    <tr>\n",
       "      <th>2902</th>\n",
       "      <td>gp:AOqpTOGsZ3V5QHChxXNAbDdWik0G_Qrq9yXyxXacCvu...</td>\n",
       "      <td>Haliru ahmed</td>\n",
       "      <td>https://play-lh.googleusercontent.com/a/AATXAJ...</td>\n",
       "      <td>Thank you</td>\n",
       "      <td>5</td>\n",
       "      <td>0</td>\n",
       "      <td>1.0.1</td>\n",
       "      <td>2021-12-02 16:13:36</td>\n",
       "      <td>Hi, thank you very much for your feedback.</td>\n",
       "      <td>2021-12-02 21:07:59</td>\n",
       "      <td>newest</td>\n",
       "      <td>ng.gov.cbn.speed.wallet.temp</td>\n",
       "    </tr>\n",
       "  </tbody>\n",
       "</table>\n",
       "<p>2903 rows × 12 columns</p>\n",
       "</div>"
      ],
      "text/plain": [
       "                                               reviewId           userName  \\\n",
       "0     gp:AOqpTOGMyM6UFwCmkuOVGlLqXvFbe5eShfdCqFXCOe1...        M.A Ibrahim   \n",
       "1     gp:AOqpTOFsxW1PUZN0n8gNTzVTatv2y8QmTks_V1pviLd...  DANIEL CHUKWUKERE   \n",
       "2     gp:AOqpTOEPBd_fDfB6yvYONmmFI-getybIwCm1o7BePoE...        Lawal Aremu   \n",
       "3     gp:AOqpTOGn0sLMYg2kvKt4sCjWOUBtjhI4OodBnpcS5EP...       David Godwin   \n",
       "4     gp:AOqpTOGCRVHZJUw2uOWrN_sIfb3vtP0qZJBDDh0CY_H...     Kolawole Isaac   \n",
       "...                                                 ...                ...   \n",
       "2898  gp:AOqpTOHQ9Ca7lPoMS1NQrPTzlH0hmKUPQ4GfgDRK8JD...     Zakariyau Bako   \n",
       "2899  gp:AOqpTOEt_ur0p8OhDLRECKTLktM6NXPmoh197VYeKb5...        Moses Ojero   \n",
       "2900  gp:AOqpTOHLJ4T4s1nHI73X5Anh5MaDZg2O_GYYOhE9yNP...   Ezekiel Adewunmi   \n",
       "2901  gp:AOqpTOHEldkFr_OMHUVONHmZdawk9sEo6VhRFZhK3Rv...    Toheer Horlanre   \n",
       "2902  gp:AOqpTOGsZ3V5QHChxXNAbDdWik0G_Qrq9yXyxXacCvu...       Haliru ahmed   \n",
       "\n",
       "                                              userImage  \\\n",
       "0     https://play-lh.googleusercontent.com/a-/AOh14...   \n",
       "1     https://play-lh.googleusercontent.com/a-/AOh14...   \n",
       "2     https://play-lh.googleusercontent.com/a-/AOh14...   \n",
       "3     https://play-lh.googleusercontent.com/a/AATXAJ...   \n",
       "4     https://play-lh.googleusercontent.com/a-/AOh14...   \n",
       "...                                                 ...   \n",
       "2898  https://play-lh.googleusercontent.com/a-/AOh14...   \n",
       "2899  https://play-lh.googleusercontent.com/a-/AOh14...   \n",
       "2900  https://play-lh.googleusercontent.com/a-/AOh14...   \n",
       "2901  https://play-lh.googleusercontent.com/a/AATXAJ...   \n",
       "2902  https://play-lh.googleusercontent.com/a/AATXAJ...   \n",
       "\n",
       "                                                content  score  thumbsUpCount  \\\n",
       "0     Nice interface, very annoying registration pro...      1              3   \n",
       "1     Disaster waiting to happen.. I knew the app ha...      1             76   \n",
       "2     Even after following the advice of the CBN age...      1              3   \n",
       "3     It's been more than 20days I downloaded this a...      1              3   \n",
       "4     This is like re-inventing the wheel. The purpo...      1             35   \n",
       "...                                                 ...    ...            ...   \n",
       "2898                                       Masha Allaah      5              0   \n",
       "2899                                             Lovely      5              0   \n",
       "2900  You created the best idea I was working on 10 ...      5              0   \n",
       "2901                                          Fantastic      5              0   \n",
       "2902                                          Thank you      5              0   \n",
       "\n",
       "     reviewCreatedVersion                  at  \\\n",
       "0                   1.0.0 2022-01-22 06:36:56   \n",
       "1                   1.0.0 2021-10-28 07:38:39   \n",
       "2                   1.0.0 2021-11-24 13:40:55   \n",
       "3                   1.0.0 2021-11-16 02:53:49   \n",
       "4                   1.0.0 2021-10-27 22:22:40   \n",
       "...                   ...                 ...   \n",
       "2898                1.0.1 2021-12-03 10:18:15   \n",
       "2899                1.0.1 2021-12-02 21:25:19   \n",
       "2900                1.0.1 2021-12-02 20:13:20   \n",
       "2901                 None 2021-12-02 18:11:00   \n",
       "2902                1.0.1 2021-12-02 16:13:36   \n",
       "\n",
       "                                           replyContent           repliedAt  \\\n",
       "0                                                  None                 NaT   \n",
       "1                                                  None                 NaT   \n",
       "2     Hello,\\nPlease write to us via mail at helpdes... 2021-11-18 15:19:56   \n",
       "3     Hi,\\nPlease write to us via mail at helpdesk@e... 2021-11-18 15:20:08   \n",
       "4                                                  None                 NaT   \n",
       "...                                                 ...                 ...   \n",
       "2898                                          Thank You 2021-12-05 19:07:29   \n",
       "2899                                             Thanks 2021-12-02 21:21:49   \n",
       "2900                                    Thanks Adewunmi 2021-12-02 21:05:51   \n",
       "2901  It is delightful to hear such positive words a... 2021-12-02 21:06:01   \n",
       "2902         Hi, thank you very much for your feedback. 2021-12-02 21:07:59   \n",
       "\n",
       "          sortOrder                           appId  \n",
       "0     most_relevant  ng.gov.cbn.speed.merchant.temp  \n",
       "1     most_relevant  ng.gov.cbn.speed.merchant.temp  \n",
       "2     most_relevant  ng.gov.cbn.speed.merchant.temp  \n",
       "3     most_relevant  ng.gov.cbn.speed.merchant.temp  \n",
       "4     most_relevant  ng.gov.cbn.speed.merchant.temp  \n",
       "...             ...                             ...  \n",
       "2898         newest    ng.gov.cbn.speed.wallet.temp  \n",
       "2899         newest    ng.gov.cbn.speed.wallet.temp  \n",
       "2900         newest    ng.gov.cbn.speed.wallet.temp  \n",
       "2901         newest    ng.gov.cbn.speed.wallet.temp  \n",
       "2902         newest    ng.gov.cbn.speed.wallet.temp  \n",
       "\n",
       "[2903 rows x 12 columns]"
      ]
     },
     "execution_count": 64,
     "metadata": {},
     "output_type": "execute_result"
    }
   ],
   "source": [
    "app_reviews_df"
   ]
  },
  {
   "cell_type": "code",
   "execution_count": 65,
   "metadata": {},
   "outputs": [],
   "source": [
    "app_reviews_df.to_csv('reviews.csv',index=None, header=True)"
   ]
  },
  {
   "cell_type": "code",
   "execution_count": 75,
   "metadata": {},
   "outputs": [
    {
     "name": "stdout",
     "output_type": "stream",
     "text": [
      "Collecting transformers\n",
      "  Downloading transformers-4.16.2-py3-none-any.whl (3.5 MB)\n",
      "Collecting tokenizers!=0.11.3,>=0.10.1\n",
      "  Downloading tokenizers-0.11.4-cp38-cp38-win_amd64.whl (3.3 MB)\n",
      "Requirement already satisfied: filelock in c:\\users\\salaudeen ibrahim\\anaconda3\\lib\\site-packages (from transformers) (3.0.12)\n",
      "Requirement already satisfied: requests in c:\\users\\salaudeen ibrahim\\anaconda3\\lib\\site-packages (from transformers) (2.24.0)\n",
      "Requirement already satisfied: tqdm>=4.27 in c:\\users\\salaudeen ibrahim\\anaconda3\\lib\\site-packages (from transformers) (4.50.2)\n",
      "Requirement already satisfied: regex!=2019.12.17 in c:\\users\\salaudeen ibrahim\\anaconda3\\lib\\site-packages (from transformers) (2020.10.15)\n",
      "Collecting sacremoses\n",
      "  Downloading sacremoses-0.0.47-py2.py3-none-any.whl (895 kB)\n",
      "Collecting huggingface-hub<1.0,>=0.1.0\n",
      "  Downloading huggingface_hub-0.4.0-py3-none-any.whl (67 kB)\n",
      "Requirement already satisfied: pyyaml>=5.1 in c:\\users\\salaudeen ibrahim\\anaconda3\\lib\\site-packages (from transformers) (5.3.1)\n",
      "Requirement already satisfied: numpy>=1.17 in c:\\users\\salaudeen ibrahim\\anaconda3\\lib\\site-packages (from transformers) (1.19.2)\n",
      "Requirement already satisfied: packaging>=20.0 in c:\\users\\salaudeen ibrahim\\anaconda3\\lib\\site-packages (from transformers) (20.4)\n",
      "Requirement already satisfied: chardet<4,>=3.0.2 in c:\\users\\salaudeen ibrahim\\anaconda3\\lib\\site-packages (from requests->transformers) (3.0.4)\n",
      "Requirement already satisfied: certifi>=2017.4.17 in c:\\users\\salaudeen ibrahim\\anaconda3\\lib\\site-packages (from requests->transformers) (2020.6.20)\n",
      "Requirement already satisfied: urllib3!=1.25.0,!=1.25.1,<1.26,>=1.21.1 in c:\\users\\salaudeen ibrahim\\anaconda3\\lib\\site-packages (from requests->transformers) (1.25.11)\n",
      "Requirement already satisfied: idna<3,>=2.5 in c:\\users\\salaudeen ibrahim\\anaconda3\\lib\\site-packages (from requests->transformers) (2.10)\n",
      "Requirement already satisfied: click in c:\\users\\salaudeen ibrahim\\anaconda3\\lib\\site-packages (from sacremoses->transformers) (7.1.2)\n",
      "Requirement already satisfied: joblib in c:\\users\\salaudeen ibrahim\\anaconda3\\lib\\site-packages (from sacremoses->transformers) (0.17.0)\n",
      "Requirement already satisfied: six in c:\\users\\salaudeen ibrahim\\anaconda3\\lib\\site-packages (from sacremoses->transformers) (1.15.0)\n",
      "Requirement already satisfied: typing-extensions>=3.7.4.3 in c:\\users\\salaudeen ibrahim\\anaconda3\\lib\\site-packages (from huggingface-hub<1.0,>=0.1.0->transformers) (3.7.4.3)\n",
      "Requirement already satisfied: pyparsing>=2.0.2 in c:\\users\\salaudeen ibrahim\\anaconda3\\lib\\site-packages (from packaging>=20.0->transformers) (2.4.7)\n",
      "Installing collected packages: tokenizers, sacremoses, huggingface-hub, transformers\n",
      "Successfully installed huggingface-hub-0.4.0 sacremoses-0.0.47 tokenizers-0.11.4 transformers-4.16.2\n"
     ]
    },
    {
     "name": "stderr",
     "output_type": "stream",
     "text": [
      "ERROR: After October 2020 you may experience errors when installing or updating packages. This is because pip will change the way that it resolves dependency conflicts.\n",
      "\n",
      "We recommend you use --use-feature=2020-resolver to test your packages with the new resolver before it becomes the default.\n",
      "\n",
      "huggingface-hub 0.4.0 requires packaging>=20.9, but you'll have packaging 20.4 which is incompatible.\n"
     ]
    }
   ],
   "source": [
    "# install new libraries\n",
    "!pip install transformers"
   ]
  },
  {
   "cell_type": "code",
   "execution_count": null,
   "metadata": {},
   "outputs": [],
   "source": [
    "import transformer"
   ]
  }
 ],
 "metadata": {
  "kernelspec": {
   "display_name": "Python 3",
   "language": "python",
   "name": "python3"
  },
  "language_info": {
   "codemirror_mode": {
    "name": "ipython",
    "version": 3
   },
   "file_extension": ".py",
   "mimetype": "text/x-python",
   "name": "python",
   "nbconvert_exporter": "python",
   "pygments_lexer": "ipython3",
   "version": "3.8.5"
  }
 },
 "nbformat": 4,
 "nbformat_minor": 4
}
